{
  "cells": [
    {
      "cell_type": "markdown",
      "metadata": {
        "id": "0xkSKqIwHzv_"
      },
      "source": [
        "# **Analisis Sentimen Pada Review Aplikasi Surveyon**"
      ]
    },
    {
      "cell_type": "markdown",
      "metadata": {
        "id": "OY2pBT8LEZsN"
      },
      "source": [
        "## **Latar Belakang**\n",
        "\n",
        "Saat ini sudah banyak beredar aplikasi yang dapat menghasilkan uang hanya dengan melakukan tugas yang diberikan kepada para penggunanya. Keberadaan aplikasi tersebut tentu sangat menarik perhatian bagi masyarakat yang ingin menghasilkan uang tambahan. Salah satu aplikasi tersebut yaitu Surveyon. Sistem kerja dari aplikasi tersebut yaitu memberikan poin pada penggunanya setelah mereka mengisi survey yang disediakan. Poin tersebut kemudian dapat ditarik menjadi uang (US $) maupun pulsa jika sudah mencapai target minimum penarikan. Namun, banyak kasus di mana aplikasi seperti itu tidak memberikan hak para pengguna yang telah dijanjikan. Oleh karena itu, dilakukannya analisis sentimen review aplikasi Surveyon diharapkan dapat menjadi pandangan bagi para pengguna lain terkait sentimen para pengguna yang telah memakai aplikasi tersebut. Selain itu, analisis ini dapat digunakan oleh developer Surveyon sebagai bahan evaluasi untuk meningkatkan kualitas dari aplikasi yang dibuat."
      ]
    },
    {
      "cell_type": "markdown",
      "metadata": {
        "id": "hsec14i3q6Gc"
      },
      "source": [
        "## **Problem Scoping**\n",
        "###**Who**\n",
        "*   Developer Surveyon\n",
        "*   Pengguna Surveyon\n",
        "*   Masyarakat\n",
        "\n",
        "###**What**\n",
        "*   Pengguna Surveyon sering tidak mendapatkan feedback sesuai dengan apa yg telah dijanjikan Surveyon.\n",
        "* Program ini dibuat untuk menganalisis sentimen pengguna Surveyon.\n",
        "\n",
        "###**Where**\n",
        "*   Aplikasi online\n",
        "\n",
        "###**Why**\n",
        "Dengan dibuatnya program ini diharapkan dapat:\n",
        "1.   Membantu masyarakat (yang tertarik) dalam mengambil keputusan untuk memakai aplikasi ini atau tidak memakainya.\n",
        "2.   Membantu pengguna Surveyon dalam mengambil keputusan untuk melanjutkan pemakaian atau berhenti.\n",
        "3. Membantu developer untuk melihat sentimen para penggunanya sebagai bahan evaluasi untuk meningkatkan aplikasi buatannya.\n",
        "\n"
      ]
    },
    {
      "cell_type": "markdown",
      "metadata": {
        "id": "OMpd5SgirHRH"
      },
      "source": [
        "Sambungkan ke google drive"
      ]
    },
    {
      "cell_type": "code",
      "execution_count": null,
      "metadata": {
        "colab": {
          "base_uri": "https://localhost:8080/"
        },
        "id": "qc1ofBOzqskE",
        "outputId": "3c2a126c-04d7-41d4-980c-ffd470df645c"
      },
      "outputs": [
        {
          "name": "stdout",
          "output_type": "stream",
          "text": [
            "Mounted at /content/drive\n"
          ]
        }
      ],
      "source": [
        "from google.colab import drive\n",
        "drive.mount('/content/drive')"
      ]
    },
    {
      "cell_type": "markdown",
      "metadata": {
        "id": "qfr6nkkQIMM4"
      },
      "source": [
        "# **Data Acquisition**"
      ]
    },
    {
      "cell_type": "markdown",
      "metadata": {
        "id": "QoKKv0CjQ9eQ"
      },
      "source": [
        "Scrapping data review aplikasi surveyon lewat google play scrapper"
      ]
    },
    {
      "cell_type": "code",
      "execution_count": null,
      "metadata": {
        "colab": {
          "base_uri": "https://localhost:8080/"
        },
        "id": "oHCZJx8yRJTA",
        "outputId": "055848ab-4ec6-407f-f2e0-ad2ddeb34753"
      },
      "outputs": [
        {
          "name": "stdout",
          "output_type": "stream",
          "text": [
            "Collecting google-play-scraper\n",
            "  Downloading google-play-scraper-1.0.3.tar.gz (52 kB)\n",
            "\u001b[?25l\r\u001b[K     |██████▏                         | 10 kB 12.5 MB/s eta 0:00:01\r\u001b[K     |████████████▍                   | 20 kB 13.9 MB/s eta 0:00:01\r\u001b[K     |██████████████████▋             | 30 kB 11.3 MB/s eta 0:00:01\r\u001b[K     |████████████████████████▉       | 40 kB 9.1 MB/s eta 0:00:01\r\u001b[K     |███████████████████████████████ | 51 kB 6.1 MB/s eta 0:00:01\r\u001b[K     |████████████████████████████████| 52 kB 822 kB/s \n",
            "\u001b[?25hBuilding wheels for collected packages: google-play-scraper\n",
            "  Building wheel for google-play-scraper (setup.py) ... \u001b[?25l\u001b[?25hdone\n",
            "  Created wheel for google-play-scraper: filename=google_play_scraper-1.0.3-py3-none-any.whl size=24394 sha256=92df777225c85dc46308d7c6f0339870840cbe9ff5ab2f80b3bff98075c69f83\n",
            "  Stored in directory: /root/.cache/pip/wheels/81/37/0b/4a14be55b449a048cd93d79930b1a980dee7896480defa1923\n",
            "Successfully built google-play-scraper\n",
            "Installing collected packages: google-play-scraper\n",
            "Successfully installed google-play-scraper-1.0.3\n"
          ]
        }
      ],
      "source": [
        "!pip install google-play-scraper"
      ]
    },
    {
      "cell_type": "code",
      "execution_count": null,
      "metadata": {
        "id": "e_16mGGtRRMY"
      },
      "outputs": [],
      "source": [
        "from google_play_scraper import Sort, reviews\n",
        "import pandas as pd"
      ]
    },
    {
      "cell_type": "markdown",
      "metadata": {
        "id": "hLm9ZeiBKeyy"
      },
      "source": [
        "Data review yang diambil sebanyak 100 review (count = 100) yang berasal dari negara Indonesia dalam Bahasa Indonesia pula. Review yang diambil merupakan review yang paling relevan (MOST_RELEVANT)"
      ]
    },
    {
      "cell_type": "code",
      "execution_count": null,
      "metadata": {
        "id": "9PEU3sw8RYxh"
      },
      "outputs": [],
      "source": [
        "scrapreview, continuation_token= reviews(\n",
        "'com.d8aspring.surveyon', #ID aplikasi\n",
        "lang='id', \n",
        "country='id', \n",
        "sort=Sort.MOST_RELEVANT, \n",
        "count=100\n",
        ")"
      ]
    },
    {
      "cell_type": "markdown",
      "metadata": {
        "id": "rMaCUCvRRvwh"
      },
      "source": [
        "Simpan hasil scrapping ke dalam csv file di google drive"
      ]
    },
    {
      "cell_type": "code",
      "execution_count": null,
      "metadata": {
        "colab": {
          "base_uri": "https://localhost:8080/"
        },
        "id": "m78ZK9KnRtYg",
        "outputId": "54c7b430-eccf-4a2f-b176-2787383b58e9"
      },
      "outputs": [
        {
          "name": "stdout",
          "output_type": "stream",
          "text": [
            "[{'reviewId': 'gp:AOqpTOE3xG2tinWNCGfRplATUiPlj480OE_eErNKSQlGZXL0qNzXWv67czJEivy1Lqmi3DeuGM2WRpFxWFa2aQ', 'userName': 'ARuMI', 'userImage': 'https://play-lh.googleusercontent.com/a-/AOh14Gj5t-N3BnpIqRePSrd6YOuDML0x6elP-ceGfEgStw', 'content': 'Memang beneran membayar koq, cm ada beberapa kekurangan aplikasi ini... 1. point yg didapat kecil dan tdk sering ada 2. Msh banyak bug di sana sini, misalnya survey yg tiba-tiba terhenti saat kita mengisinya atau tdk msk msk survey nya Overall aplikasi cukup membantu keuangan sih, jadi makasih banyak buat developer nya yaaa', 'score': 4, 'thumbsUpCount': 66, 'reviewCreatedVersion': '2.7.6', 'at': datetime.datetime(2022, 3, 1, 16, 39, 9), 'replyContent': 'Yang terhormat ARuMI\\nTerima kasih telah menggunakan surveyon\\nKami akan mencoba untuk memperbaiki pelayanan kami.\\n\\nTerima kasih karena anda sudah menggunakan surveyon.\\n\\nTim surveyon\"', 'repliedAt': datetime.datetime(2022, 3, 2, 4, 18, 53)}, {'reviewId': 'gp:AOqpTOE3fh2EX8gccaCQ3B1UUQow0kvl_TSPzuyb__WeIgwbKHRIair_UYPS1iBqJpT5A1b4BWp80yObu9Wf5w', 'userName': 'Ahmad Rozali', 'userImage': 'https://play-lh.googleusercontent.com/a-/AOh14GjoYtrT2wxbOEdyq0BAWVuVvgbL6L_KsFM8LQ48tw', 'content': 'Bagus banget meskipun survey nya jarang keluar, tapi hasilnya memuaskan dan mudah digunakan tidak seperti aplikasi lain seperti buzzbreek sih receh yang lama ngumpulin koin nya, dan kembangkan terus aplikasi ini agar lebih banyak penggunanya. Dan yang bilang dapat poinnya kadang 200p ya nggak papa lah,lagian gratis kok nggak di pungut biaya....', 'score': 5, 'thumbsUpCount': 72, 'reviewCreatedVersion': '2.7.6', 'at': datetime.datetime(2022, 3, 7, 13, 37, 13), 'replyContent': 'Yang terhormat Ahmad Rozali Terima kasih telah menggunakan surveyon Kami sangat senang mendapatkan pujian dari anda. Adalah merupakan kebahagian kami untuk bisa menolong anda. Bila anda membutuhkan bantuan lebih lanjut, hubungilah kami. Terima kasih telah bergabung dengan surveyon. Tim surveyon', 'repliedAt': datetime.datetime(2022, 2, 18, 9, 5, 47)}, {'reviewId': 'gp:AOqpTOGMSXahPrhjrH1H6dVKv2lCKH8hwKr2EhOW3ln-iEfyCfCAZN_Rcs6BbuhnbzorFoCKiGhYgbnbO-hFOA', 'userName': 'Dilla Fallen', 'userImage': 'https://play-lh.googleusercontent.com/a-/AOh14GgAkSYH9FywcesfP8F3EpeanLHHB3jVbeI9TzhTZkM', 'content': 'Nie aplikasi bagus, recommended banget, walaupun setiap hari belum tentu ada survei yg dikerjakan... Saran aja buat pengguna apk ini, klo mau wd mending ke paypal aja, dijamin pasti landing dengan sempurna walupun agak lama sii... Harus nunggu sekitar 2mingguan...🙏🙏', 'score': 5, 'thumbsUpCount': 54, 'reviewCreatedVersion': '2.7.6', 'at': datetime.datetime(2022, 2, 25, 3, 2, 11), 'replyContent': 'Yang terhormat Dilla Fallen Terima kasih telah menggunakan surveyon Kami sangat senang mendapatkan pujian dari anda. Adalah merupakan kebahagian kami untuk bisa menolong anda. Bila anda membutuhkan bantuan lebih lanjut, hubungilah kami. Terima kasih telah bergabung dengan surveyon. Tim surveyon', 'repliedAt': datetime.datetime(2022, 3, 2, 4, 22, 25)}, {'reviewId': 'gp:AOqpTOECqRkLY52IBGiFJxiy_lS7Dz8wA2wPnw41inBK2bR5FTV6XqBGQGfMI2Sj08Sd1v5pMWvWqiSkCDzIJw', 'userName': 'Chaerur Rozikin', 'userImage': 'https://play-lh.googleusercontent.com/a/AATXAJxT4wwTTxd_0rNsVIcS2zKWlFzNCDlhRDg83ogO=mo', 'content': 'Aplikasi KUCLUK...!! cuma pas baru didownload doang kita dikasih survei dengan upah 2.154p. Hari ke 2 ada survei upah 120p. Hari ke3 ZONK.. Dan seterusnya, Survei masuk tpi gak ada isi, di KLIK langsung ada laporan \"Anda berhasil mengerjakan survei\" tapi nilai poin gak brtambah. Aplikasi ini nyari sebanyak mungkin para Pen download. Gak peduli yg download itu kesel apa kecewa. Nah dari situ aplikasi ini nyari keuntungan. Politik... Bro...!', 'score': 1, 'thumbsUpCount': 5, 'reviewCreatedVersion': '2.7.6', 'at': datetime.datetime(2022, 3, 30, 8, 21, 38), 'replyContent': 'Yang terhormat Chaerur Rozikin\\nTerima kasih telah menggunakan surveyon\\nKami mohon maaf atas ketidaknyamanan Anda.\\n\\nJika Anda bermasalah segera hubungi kami dan menjelaskan detail permasalahannya sehingga kami dapat membantu Anda.\\nAnda dapat menghubungi kami melalui aplikasi surveyon.\\nhttps://www.surveyon.com/inquiry\\nTim surveyon', 'repliedAt': datetime.datetime(2022, 3, 30, 8, 50, 59)}, {'reviewId': 'gp:AOqpTOGpibg7w8A6q0E7EPnFaRhHPkC1dlzxizlCEwl6Dk_oO4P3loFoIelqbvGsdmiw4Q1Svp85hFWkClArNA', 'userName': 'Ziaz Zie', 'userImage': 'https://play-lh.googleusercontent.com/a-/AOh14Gidz6dMjxT6Q6wyU-FRsbzk8k7YQfkZ_RQwwOu7', 'content': 'Survey nya terbukti membayar cuman harus sabar buat kumpulin poinnya . Kalau bisa di tingkatin hadiah poin survey nya,biar kita makin semangat buat kumpulin poinnya dan di harap kedepannya semakin baik aplikasinya. Thanks development,moga sukses selalu.', 'score': 5, 'thumbsUpCount': 2, 'reviewCreatedVersion': '2.7.6', 'at': datetime.datetime(2022, 3, 28, 6, 48, 56), 'replyContent': 'Yang terhormat Ziaz Zie Terima kasih telah menggunakan surveyon Kami sangat senang mendapatkan pujian dari anda. Adalah merupakan kebahagian kami untuk bisa menolong anda. Bila anda membutuhkan bantuan lebih lanjut, hubungilah kami. Terima kasih telah bergabung dengan surveyon. Tim surveyon', 'repliedAt': datetime.datetime(2022, 3, 29, 4, 35, 27)}, {'reviewId': 'gp:AOqpTOFg0eJ4Cg1QLkmir6Z3kQRhHhMkt1GPOy8dmLNTDFsOdrcYSApM_Cx7EtfdF8QvY8OaA0A4zTv3oBFwcQ', 'userName': 'Reza Aurillo Vito', 'userImage': 'https://play-lh.googleusercontent.com/a/AATXAJx7gGYaw5AvsqggDJ1iE8zsmABCRQ8lB4Ys6Fah=mo', 'content': 'Saya beri dua bintang duluh karena, survey nya kadang gak bisa di buka, dan biasanya muncul survey nya lamah banget , tapi benar menghasilkan uang karena saya pernah menarik Rp 10.000 tolong di perbaiki dan di tamba survey nya jadi lumayan banyak terimakasih', 'score': 2, 'thumbsUpCount': 0, 'reviewCreatedVersion': '2.7.6', 'at': datetime.datetime(2022, 4, 5, 4, 21, 6), 'replyContent': 'Yang terhormat Reza Aurillo Vito\\n\\nTerima kasih telah menggunakan surveyon\\n\\nUntuk menyelidiki ini lebih lanjut, berikan nomor survei dan detail lebih lanjut tentang masalah ini dan kirimkan melalui Layanan Pelanggan surveyon pada aplikasi:\\n\\nhttps://www.surveyon.com/inquiry\\n\\nTim surveyon', 'repliedAt': datetime.datetime(2022, 4, 5, 6, 2, 5)}, {'reviewId': 'gp:AOqpTOEuJ4x2MgVRdV2Dg5LsoTPXWK5JmSJldLKpQWPMDvvNc4K1NbY6ozJNqE2z2ERzcCwvGVEcjeBfFz2itA', 'userName': 'Ujang Junaidi', 'userImage': 'https://play-lh.googleusercontent.com/a/AATXAJzaaB5RAmzIj9Fcp-I-_Pgh0bwrRt8UxbY9HCm6=mo', 'content': 'Ada apa dengan jaringan internet saya Padahal buka apapun bisa kebuka Tapi giliran buka apk ini selalu gagal dan ada tulisan jaringan sedang eror coba lagi Emang seberat itu kah apk ini,,......???????', 'score': 3, 'thumbsUpCount': 1, 'reviewCreatedVersion': '2.7.6', 'at': datetime.datetime(2022, 3, 28, 14, 51, 6), 'replyContent': 'Yang terhormat Ujang Junaidi Terima kasih telah menggunakan surveyon Kami mohon maaf atas ketidaknyamanan Anda. Jika Anda bermasalah segera hubungi kami dan menjelaskan detail permasalahannya sehingga kami dapat membantu Anda. Anda dapat menghubungi kami melalui aplikasi surveyon. https://www.surveyon.com/inquiry Tim surveyon', 'repliedAt': datetime.datetime(2022, 3, 29, 4, 34, 29)}, {'reviewId': 'gp:AOqpTOHKGRrG1Y7dLgGMY8r031Kau4lEhmrMzhynmoX4vOdSzsTescvhXxzT0X5LbVk4AaZ3LdBNQyS4guY14Q', 'userName': 'Aulia', 'userImage': 'https://play-lh.googleusercontent.com/a-/AOh14GiKpXyDxWy-2APS5H7fV1Vr11vv2XetUw0X0-13fg', 'content': 'Oi kenapa waktu saya mau buka quickpoll selalu ada tulisan \\'The connection has timed out\\' padahal saya baru beli kuota cug, satu lagi kemarin ada survei baru, saya buka tuh survei lagi\" ada tulisan \\'Anda telah menyelesaikan survei\\' nyatanya saya baru buka apk surveyon dan poin yang saya dapatkan 0! Sudah 2 bulan ini trs terjadi, sekarang poin yang saya punya cmn 2000rb karna banyaknya survei yang bernilai 0 poin, udah seneng dpt survei eh malah di php kan KONCOL', 'score': 1, 'thumbsUpCount': 19, 'reviewCreatedVersion': '2.7.6', 'at': datetime.datetime(2022, 3, 23, 3, 36, 50), 'replyContent': 'Yang terhormat Aulia Terima kasih telah menggunakan surveyon Kami mohon maaf atas ketidaknyamanan Anda. Jika Anda bermasalah segera hubungi kami dan menjelaskan detail permasalahannya sehingga kami dapat membantu Anda. Anda dapat menghubungi kami melalui aplikasi surveyon. https://www.surveyon.com/inquiry Tim surveyon', 'repliedAt': datetime.datetime(2022, 3, 24, 4, 45, 35)}, {'reviewId': 'gp:AOqpTOFGxWSmLtBOIyQzfBo8-fWmF_vHwuyLVYaBF6JgoTWSTQcnREn5M-KUleIx4TZj731mlcfZGUoCi6wbJw', 'userName': 'hendrikus yunis', 'userImage': 'https://play-lh.googleusercontent.com/a-/AOh14Ggo4dpStFg_BiDpVC8lC2P_xNCzn7EzXJYXV89S-A', 'content': 'Walaupun jarang dan kadang2 mendapatkan survei dan Poinnya juga Kecil , kita trimakasih aja setidaknya masih ada aplikasi yg tidak tipu2 . Saya sdh meraskan Terbukti membayar pulsa Telkomsel. luar biasa trimakasih Superyon..jaya selalu Semogga aplikasi ini Berkah utk semua orang amin 🙏', 'score': 5, 'thumbsUpCount': 0, 'reviewCreatedVersion': '2.7.6', 'at': datetime.datetime(2022, 3, 31, 14, 51, 8), 'replyContent': 'Yang terhormat hendrikus yunis Terima kasih telah menggunakan surveyon Kami sangat senang mendapatkan pujian dari anda. Adalah merupakan kebahagian kami untuk bisa menolong anda. Bila anda membutuhkan bantuan lebih lanjut, hubungilah kami. Terima kasih telah bergabung dengan surveyon. Tim surveyon', 'repliedAt': datetime.datetime(2022, 4, 1, 5, 7, 56)}, {'reviewId': 'gp:AOqpTOEZx1UMVWaBfqTJIc1i2wRiw_kP7-YSZUE6A5badQ7ipd6LLZcm0VkjPC8G9D7SUWtHyNf2fBLcdD7Rbg', 'userName': 'Pikri Maulana', 'userImage': 'https://play-lh.googleusercontent.com/a/AATXAJzvqDEI2t7A-oo12c7-b6bI2ygBuVmJvGT-5iEb=mo', 'content': 'aplikasinya sudah bagus, cuma survey nya jarang. sekalinya ada survey ribuan point sudah dijawab semuanya panjang lebar tetapi point yang didapat tidak sesuai yang tertera.', 'score': 3, 'thumbsUpCount': 0, 'reviewCreatedVersion': '2.7.6', 'at': datetime.datetime(2022, 3, 25, 15, 18, 29), 'replyContent': 'Yang terhormat Pikri Maulana\\n\\nTerima kasih telah menggunakan surveyon\\n\\nKami sangat mengusahakan mengirim survei sebanyak mungkin kepada Anda.\\nNamun demikian, kami tidak bisa menjamin tiap hari ada survei.\\nKami mohon pengertiannya.\\n\\nTim surveyon.', 'repliedAt': datetime.datetime(2022, 3, 28, 6, 2, 12)}, {'reviewId': 'gp:AOqpTOHjVkkGUlCisHL0ZaLlJWhEfpS5SuumC417xWTVOXcS9q2PNbkxPz0fORXZLAhmfU4tyB4hi44nSRkC2Q', 'userName': 'Rohaina Debi', 'userImage': 'https://play-lh.googleusercontent.com/a-/AOh14GiNdVmOJJrobiHYMkywQNudkgq8XlczRlYfdu9-', 'content': 'Aplikasi yang benar benar membayar.. Semoga surveyny lebih banyak lagi agar lebih cepat dapat cuan atau pulsanya.. Oh iya maaf ko sekarang,sudah dua Minggu ini,saya ga bisa nulis quick poll ya,mengisi juga ga bisa,server bermasalah terus.untuk bulan ini,baru dua kali bisa isi survey..apakah memang sedang ada perbaikan atau bagaimana,surveyon Sy selalu Sy update..semoga ditanggapi dan cepat diperbaiki jika ada gangguan teknis..terima kasih..terus maju surveyon,,cayyo....', 'score': 5, 'thumbsUpCount': 22, 'reviewCreatedVersion': '2.7.6', 'at': datetime.datetime(2022, 3, 10, 15, 21, 51), 'replyContent': 'Yang terhormat Rohaina Debi\\nTerima kasih telah menggunakan surveyon\\n\\nKami sangat senang mendapatkan pujian dari anda.\\n\\nAdalah merupakan kebahagian kami untuk bisa menolong anda.\\nBila anda membutuhkan bantuan lebih lanjut, hubungilah kami.\\nTerima kasih telah bergabung dengan surveyon.\\n\\nTim surveyon', 'repliedAt': datetime.datetime(2022, 2, 28, 2, 31, 14)}, {'reviewId': 'gp:AOqpTOFOV_yNfz5VTjGpHNzazv1wf-GIeR95_d_Fz_4YCOlJj4EDUNHluRphjdODXnv2NuabLuY3vFP7-ObXCg', 'userName': 'Ningsih Theresia', 'userImage': 'https://play-lh.googleusercontent.com/a-/AOh14Gjx6Pwnh6zkt5bNNterlTPHtfdjehWUFe5riGawaQ', 'content': 'Aplikasinya bagus. Tapi kalau bisa tambah lebih banyak lagi ya surveinya agar tiap hari selalu ada. Saya hanya telat beberapa menit sedikit tetapi tidak bisa mengikuti surveinya. 🙂', 'score': 2, 'thumbsUpCount': 0, 'reviewCreatedVersion': '2.7.6', 'at': datetime.datetime(2022, 3, 16, 9, 24, 22), 'replyContent': 'Yang terhormat Ningsih Theresia\\n\\nTerima kasih telah menggunakan surveyon\\n\\nKami sangat mengusahakan mengirim survei sebanyak mungkin kepada Anda.\\nNamun demikian, kami tidak bisa menjamin tiap hari ada survei.\\nKami mohon pengertiannya.\\n\\nTim surveyon.', 'repliedAt': datetime.datetime(2022, 3, 17, 3, 37, 26)}, {'reviewId': 'gp:AOqpTOGp469eUa5cFnBv3wNWMgJoP1Yvex0GjKdc3JU61M7Cjxjrvm7f1AQ4jnem55d5FeDbJskH3LpluElLig', 'userName': '1ID06_Puan Afina', 'userImage': 'https://play-lh.googleusercontent.com/a-/AOh14Giu2k6hDTowEdw2h1gA5B1jyxDQjhq7XdFPdEElsA', 'content': 'Aku udah dari 2021 pake aplikasi ini, walaupun kehitungnya baru beberapa bulan. Yaaa lumayan lah dapet 30 ribuan. Buat top up game bisa lahh wkwkw tapi ini bener bener sangat membantu loh walaupun emg surveinya suka jarang jarang, tapi cuma sama apk ini doang aku percaya wkwkw ga pindah pindah.', 'score': 5, 'thumbsUpCount': 28, 'reviewCreatedVersion': '2.7.6', 'at': datetime.datetime(2022, 3, 17, 13, 35, 24), 'replyContent': 'Yang terhormat 1ID06_Puan Afina Terima kasih telah menggunakan surveyon Kami sangat senang mendapatkan pujian dari anda. Adalah merupakan kebahagian kami untuk bisa menolong anda. Bila anda membutuhkan bantuan lebih lanjut, hubungilah kami. Terima kasih telah bergabung dengan surveyon. Tim surveyon', 'repliedAt': datetime.datetime(2022, 3, 21, 6, 17, 36)}, {'reviewId': 'gp:AOqpTOEcykDvCziQLLMQzFgUlJGbj5SGce1sy57HbaLhKGq3pxMhlYQwhRcCMPrOYa65roGFAyR5K3yPHYR64A', 'userName': 'maya Hafizah', 'userImage': 'https://play-lh.googleusercontent.com/a-/AOh14GgnThBe-WWb19ZtTfE1gCLJ2moqtXfDePFcmaoHmw', 'content': 'Pakai aplikasi ini sejak 2017, tidak ada kendala pembayaran baik pulsa maupun Paypal namun sayangnya untuk survey cepat jarang tersedia,harapan ku untuk menu Jakpat di quicpol ,tambahin rewardnya ya😊', 'score': 5, 'thumbsUpCount': 0, 'reviewCreatedVersion': '2.7.6', 'at': datetime.datetime(2022, 3, 20, 5, 14, 4), 'replyContent': 'Yang terhormat maya Hafizah\\nTerima kasih telah menggunakan surveyon\\n\\nKami sangat senang mendapatkan pujian dari anda.\\n\\nAdalah merupakan kebahagian kami untuk bisa menolong anda.\\nBila anda membutuhkan bantuan lebih lanjut, hubungilah kami.\\nTerima kasih telah bergabung dengan surveyon.\\n\\nTim surveyon', 'repliedAt': datetime.datetime(2022, 3, 21, 6, 11, 38)}, {'reviewId': 'gp:AOqpTOH03sProrxNDhq8zwIXNW9D1XFA_Rle82Zq2ukLW7dLi_tA-bPhIdUcLrXkrZiCKp9Jwvr6sg9VhDI86g', 'userName': 'ENDE SAND', 'userImage': 'https://play-lh.googleusercontent.com/a-/AOh14GilwNa2Y7MBThctxDuY6hvyv-mhHwlruJQq3Eb8iw', 'content': 'tambah 1 bintang lagi jd 5, benar bagus, surveynya singkat, poinnya besar bisa 1000p 2000p 5000p bahkab 10.000p sekali ada survey kalau udah 20.000p bisa di tarik ke paypal jd $2 sudah 2x penarikan lancar tanpa ada kendala', 'score': 5, 'thumbsUpCount': 0, 'reviewCreatedVersion': '2.7.6', 'at': datetime.datetime(2022, 3, 10, 2, 12, 25), 'replyContent': 'Yang terhormat ENDE SAND\\nTerima kasih telah menggunakan surveyon\\nTerima kasih atas saran anda. Kami akan mencoba untuk memperbaiki pelayanan kami.\\n\\nTerima kasih karena anda sudah menggunakan surveyon.\\n\\nTim surveyon', 'repliedAt': datetime.datetime(2021, 11, 16, 3, 57, 23)}, {'reviewId': 'gp:AOqpTOHyTxyaKRgU4kad7FLPj1r0hYxQuWikrZQhfHP0aDAKdCzhgz_1ElTn0VKwq4PkHxkY47zYXyBmPpDoaA', 'userName': 'Just Benjie', 'userImage': 'https://play-lh.googleusercontent.com/a-/AOh14GjUl98QyxyTjN1KZZB1SYcP-V-Z-Op5znwLYPtzUA', 'content': 'Dibayar sih emang... Tapi muncul surveynya bisa ampe 1 minggu 1x. Blom lagi point yg didapet tuh kecil. Trus yg paling parahnya, udh ngisi panjang lebar, tiba2 survey berhenti n point gagal didapet. Pernah juga, udh ngisi smua kolom, tapi point gk nambah. Payah sih.', 'score': 2, 'thumbsUpCount': 40, 'reviewCreatedVersion': '2.7.6', 'at': datetime.datetime(2022, 2, 27, 10, 52, 35), 'replyContent': 'Yang terhormat Just Benjie\\n\\nTerima kasih telah menggunakan surveyon\\n\\nKami sangat mengusahakan mengirim survei sebanyak mungkin kepada Anda.\\nNamun demikian, kami tidak bisa menjamin tiap hari ada survei.\\nKami mohon pengertiannya.\\n\\nTim surveyon.', 'repliedAt': datetime.datetime(2022, 2, 28, 2, 3, 56)}, {'reviewId': 'gp:AOqpTOFO9ZOyOsQSrUGuEoeq_VlrbzDtcqVGF71i4qNTlLnwdRCcsFvPan6qT2XNiGJPTvRNLpSaSTi6i_5GcQ', 'userName': 'Ricki Hardian', 'userImage': 'https://play-lh.googleusercontent.com/a/AATXAJyFpB2uyNmD3i_sPEUjwRL_rxNIoErhUXyhSdAZ=mo', 'content': 'Untuk masalah survey nya tolong di perbaiki lagi sering ada kesalahan, baru mulai malah ada pemberitahuan \"survey telah di selesai kan\" padahal baru mau mulai, dan juga poin nya yg didapat kan juga tidak sesuai dengan yang tertera di survey, poin nya 4000p pas di selesaikan malah dapat 200p kan aneh', 'score': 3, 'thumbsUpCount': 16, 'reviewCreatedVersion': '2.7.6', 'at': datetime.datetime(2022, 2, 26, 2, 42, 29), 'replyContent': 'Yang terhormat Ricki Hardian\\nTerima kasih telah menggunakan surveyon\\nKami mohon maaf atas ketidaknyamanan Anda.\\n\\nJika Anda bermasalah segera hubungi kami dan menjelaskan detail permasalahannya sehingga kami dapat membantu Anda.\\nAnda dapat menghubungi kami melalui aplikasi surveyon.\\nhttps://www.surveyon.com/inquiry\\nTim surveyon', 'repliedAt': datetime.datetime(2022, 2, 28, 2, 34, 50)}, {'reviewId': 'gp:AOqpTOFlGy7xKRx4bNofdQXav4hk5gGC3kG8S6nn16xFLBmbZ1-DJQYKmTbWa_Umcyxq6niBy140EUcIgregIg', 'userName': 'Layar Tama', 'userImage': 'https://play-lh.googleusercontent.com/a/AATXAJzCLDS57MV8KIeWPG8HAI46WtI_lnETtVp38mY0=mo', 'content': 'Tolong perbaiki ada survei yg butuh mode dekstop untuk panel survei yg besar , terus ketika berganti mode dekstop malah keluar survei, klo ga ganti mode dekstop ga bisa lanjut , bro, bro, masih cacad nih aplikasi lu!!!', 'score': 1, 'thumbsUpCount': 2, 'reviewCreatedVersion': '2.7.6', 'at': datetime.datetime(2022, 3, 2, 19, 40, 39), 'replyContent': 'Yang terhormat ayar Tama Terima kasih telah menggunakan surveyon Kami sangat senang mendapatkan pujian dari anda. Adalah merupakan kebahagian kami untuk bisa menolong anda. Bila anda membutuhkan bantuan lebih lanjut, hubungilah kami. Terima kasih telah bergabung dengan Surveyon. Tim surveyon', 'repliedAt': datetime.datetime(2020, 11, 23, 6, 31, 16)}, {'reviewId': 'gp:AOqpTOERwc8BqdR_vgFazOquwcz9k9I1wTscyoh_-I7RGYEiJMdaBmPSrfCjHWt06-M1SlkU-kYTUZQiuZEZSQ', 'userName': 'Asbrun Junior', 'userImage': 'https://play-lh.googleusercontent.com/a-/AOh14GhAtUE6FeKLQ1jmogJtoqDnqrnSjIr5cJMRTpuXKg', 'content': 'Aku kasih bintang 5, karna memang sudah terbukti membayar 11.000 point di tukar uang digital dana 10.000 Sayangnya survey nya sangat langka, apalagi dengan harga 1 survey dapat point nya dikit. Mohon development untuk ngasih point nya gede, soalnya kan survey nya lama.', 'score': 5, 'thumbsUpCount': 78, 'reviewCreatedVersion': '2.7.6', 'at': datetime.datetime(2022, 2, 25, 4, 27, 33), 'replyContent': 'Yang terhormat Asbrun Junior Terima kasih telah menggunakan surveyon Kami sangat senang mendapatkan pujian dari anda. Adalah merupakan kebahagian kami untuk bisa menolong anda. Bila anda membutuhkan bantuan lebih lanjut, hubungilah kami. Terima kasih telah bergabung dengan surveyon. Tim surveyon', 'repliedAt': datetime.datetime(2022, 2, 28, 5, 45, 43)}, {'reviewId': 'gp:AOqpTOECYAxFAOa4-6f2yBwsrkzeL_6xdppTOD1ESfMZjLj7Tc3P3k4LUQPUl23YrtUCTCTTAjPcxYBVCrHq5g', 'userName': 'Cuyiz Sulistyo Wonka', 'userImage': 'https://play-lh.googleusercontent.com/a-/AOh14GhHMimjFGzHoMgurCR4CHruxPPgI8JNMgt53HOv', 'content': 'Beneran survey berbayar dan mudah penukaran poinnya. Sayangnya ada beberapa survey yang sudah dijawab panjang lebar poinnya cuma dapat 200, kadang malah ga dapat sama sekali. Sering juga sudah dijawab panjang lebar endingnya \"maaf anda tidak memenuhi syarat mengikuti survey ini\", kenapa ga dari awal deteksi pemenuhan syarat ikut survey nya? Hadeww🤦\\u200d♀️.', 'score': 3, 'thumbsUpCount': 111, 'reviewCreatedVersion': '2.7.6', 'at': datetime.datetime(2022, 2, 25, 3, 32, 17), 'replyContent': 'Yang terhormat Cuyiz Sulistyo Wonka\\n\\nTerima kasih telah menggunakan surveyon\\n\\nKami sangat mengusahakan mengirim survei sebanyak mungkin kepada Anda.\\nNamun demikian, kami tidak bisa menjamin tiap hari ada survei.\\nKami mohon pengertiannya.\\n\\nTim surveyon.', 'repliedAt': datetime.datetime(2022, 2, 28, 5, 27, 33)}, {'reviewId': 'gp:AOqpTOGVs4xP0sJGFis_ndKRlWStCiZ4sBg5yikCuJgrTkTKg06dTUXPhSNJogCzrtC3ACF6i3bwiGBpPsCE4g', 'userName': 'Dava Dwi Prasetiya', 'userImage': 'https://play-lh.googleusercontent.com/a/AATXAJx_jX4xqA39OHlGqAKblwAwwNn3JLenZatPQCq6=mo', 'content': 'Kalian wajib download aplikasi Surveyon ini, karena aplikasi ini bagus, mendapatkan poinnya juga cepat, dan jika kita gagal menjawab survei mungkin karena survei tidak cocok aplikasi ini tetap menberi imbalan 200 P, berbeda dengan aplikasi lain jika gagal menjawab survei maka tidak ada imbalan sama sekali, dan setelah selesai survei aplikasi ini mengucapakan terima kasih, tetapi survei yang diberikan terlalu sedikit, tolong di beri survei yang banyak ya, sama-sama developer', 'score': 5, 'thumbsUpCount': 84, 'reviewCreatedVersion': '2.7.6', 'at': datetime.datetime(2022, 3, 4, 5, 37, 45), 'replyContent': 'Yang terhormat Dava Dwi Prasetiya\\nTerima kasih telah menggunakan surveyon\\n\\nKami sangat senang mendapatkan pujian dari anda.\\n\\nAdalah merupakan kebahagian kami untuk bisa menolong anda.\\nBila anda membutuhkan bantuan lebih lanjut, hubungilah kami.\\nTerima kasih telah bergabung dengan surveyon.\\n\\nTim surveyon', 'repliedAt': datetime.datetime(2021, 12, 15, 7, 3, 14)}, {'reviewId': 'gp:AOqpTOHwLKFG6crAsVv61eZiiFs2ulIdc1jmKdHb-qXSxBoZQ4Fq1v4pf6jWHXwD4pclG7mbiftHT1K7ohF4PA', 'userName': 'Farhan Tri B.', 'userImage': 'https://play-lh.googleusercontent.com/a-/AOh14GhyKlnHAuPm-W7c2q9ZLGR-PGj3p13O7OUPnbCIMA', 'content': 'Kadang dapet Survey isi poin lebih banyak, semakin harus diisi semua, Tiba-tiba keluar sendiri tidak jelas karena kuota survei berakhir katanya. Dapet kompensasi 10 point 😞.', 'score': 2, 'thumbsUpCount': 0, 'reviewCreatedVersion': '2.7.6', 'at': datetime.datetime(2022, 2, 25, 6, 18, 7), 'replyContent': 'Yang terhormat Farhan Tri B. Terima kasih telah menggunakan surveyon Kami sangat mengusahakan mengirim survei sebanyak mungkin kepada Anda. Namun demikian, kami tidak bisa menjamin tiap hari ada survei. Kami mohon pengertiannya. Tim surve', 'repliedAt': datetime.datetime(2022, 2, 28, 5, 23, 10)}, {'reviewId': 'gp:AOqpTOG5GL7X7jnFMyweplmDKWfO0umjfVoIgCi8C3ImWVAzq0bvfq7rImS4-Qai0aY8-KvwzOImO7H2FWDVRg', 'userName': 'Masfiatul Asriyah', 'userImage': 'https://play-lh.googleusercontent.com/a/AATXAJwNtx-Lt9UkaoLrIbxd70UsOsSDNbmOuzVt6kXm=mo', 'content': 'Beri bintang 3 dulu, terakhir pakai tgl 12-02-2022 ketika masuk beranda ada notif periksa koneksi internet anda, padahal jaringan internetnya ada, sy coba masuk ke quickpoll lalu jawab pertanyaan bisa, ada point yg masuk, biasanya kalau di beranda tidak ada survey ya kosong gitu aja, g ada notif apa2, tapi hari ini setelah sy update mash tetap sama', 'score': 3, 'thumbsUpCount': 7, 'reviewCreatedVersion': '2.7.6', 'at': datetime.datetime(2022, 3, 6, 12, 43, 4), 'replyContent': 'Yang terhormat Masfiatul Asriyah\\nTerima kasih telah menggunakan surveyon\\nKami mohon maaf atas ketidaknyamanan Anda.\\n\\nJika Anda bermasalah segera hubungi kami dan menjelaskan detail permasalahannya sehingga kami dapat membantu Anda.\\nAnda dapat menghubungi kami melalui aplikasi surveyon.\\nhttps://www.surveyon.com/inquiry\\nTim surveyon', 'repliedAt': datetime.datetime(2022, 3, 7, 7, 30, 33)}, {'reviewId': 'gp:AOqpTOGJ9JfJjXksZNwinNjxjNiVNeYsIbOeNNCd8Vy7Rc9Qr8ecPDDW3fu6uO1zlS0QKqyfCVK1V3Rhhg20jw', 'userName': 'Alfin Darmawan', 'userImage': 'https://play-lh.googleusercontent.com/a-/AOh14GhCZXxSx9w35tXXJ98nqMi2zUhaXwXosJ3YV0mwUA', 'content': 'Bagus aplikasinya👍, Walaupun Surveynya gak setiap hari ada dan ngumpulin pointnya agak lama, tapi terbukti membayar👌, walaupun juga pengiriman uangnya membutuhkan 3-5 hari untuk masuk ke rekening😄', 'score': 5, 'thumbsUpCount': 4, 'reviewCreatedVersion': '2.7.6', 'at': datetime.datetime(2022, 2, 24, 13, 41, 28), 'replyContent': 'Yang terhormat Alfin Darmawan Terima kasih telah menggunakan surveyon Kami sangat senang mendapatkan pujian dari anda. Adalah merupakan kebahagian kami untuk bisa menolong anda. Bila anda membutuhkan bantuan lebih lanjut, hubungilah kami. Terima kasih telah bergabung dengan surveyon. Tim surveyon', 'repliedAt': datetime.datetime(2022, 3, 2, 4, 26, 57)}, {'reviewId': 'gp:AOqpTOEHtM5L2P0XS3FvRZ6UpC1DTFR7U8PWuXl5lOcDE_-VP-kfTtEENJrHcDKLxfIKmjHPJ4xsqCe3idanaw', 'userName': 'Olivia Renata', 'userImage': 'https://play-lh.googleusercontent.com/a/AATXAJxxbKuQItfEVES_Sqtk2RQ51i-CstfvjhIZNZEk=mo', 'content': 'Surveyon ini merupakan aplikasi favorite saya dari dulu sampai sekarang tetap terbaik sepanjang masa tidak pernah membuat saya merasa kecewa beda dengan aplikasi survey sebelah sangat mengecewakan sekali pokoknya saya tetap mendukung anda terima kasih.', 'score': 5, 'thumbsUpCount': 1, 'reviewCreatedVersion': '2.7.6', 'at': datetime.datetime(2022, 2, 24, 7, 31, 7), 'replyContent': 'Yang terhormat Olivia Renata Terima kasih telah menggunakan surveyon Kami sangat senang mendapatkan pujian dari anda. Adalah merupakan kebahagian kami untuk bisa menolong anda. Bila anda membutuhkan bantuan lebih lanjut, hubungilah kami. Terima kasih telah bergabung dengan surveyon. Tim surveyon', 'repliedAt': datetime.datetime(2022, 3, 17, 3, 40, 42)}, {'reviewId': 'gp:AOqpTOHZR6O0QTZf7hamqFO-75ZaFozchhiWvE4d4VbwyjqbedUyOSpJe0cAYCbrnrcm-lROScCadBBStQow2w', 'userName': 'ambrosius anggiat putra', 'userImage': 'https://play-lh.googleusercontent.com/a-/AOh14GhU9Hvs4CxWDE7HkYSHnxc4Lil_Ivg2T4dgF7p2Ag', 'content': 'Udah sangat baik, kan sekarang pengguna surveyon ini kak saran saya sebagai pengguna lama, kalau bisa tolong dong team surveyon yg sudah menyediakan survey tetapi tidak bisa terjawab semua alias hanya sampai dipertengahan saja(contoh survey yg 5000 atau 6000), mohon dengan hormat untuk memberikan 1/4dari total nilai point survey trsebut(misal 0.25 X5000=1250) .trimakasih', 'score': 5, 'thumbsUpCount': 26, 'reviewCreatedVersion': '2.7.6', 'at': datetime.datetime(2022, 3, 21, 10, 34, 28), 'replyContent': 'Yang terhormat ambrosius millenial\\nTerima kasih telah menggunakan surveyon\\n\\nKami sangat senang mendapatkan pujian dari anda.\\n\\nAdalah merupakan kebahagian kami untuk bisa menolong anda.\\nBila anda membutuhkan bantuan lebih lanjut, hubungilah kami.\\nTerima kasih telah bergabung dengan surveyon.\\n\\nTim surveyon', 'repliedAt': datetime.datetime(2020, 12, 28, 7, 59, 4)}, {'reviewId': 'gp:AOqpTOEVI_xuVdgYQK0QDBF_ug6b3ie2VWFplQKkhdiHxhYG2j-VOR2Fz87ELAfhLRAp2yVQze8qRlmwAH0Rbw', 'userName': 'Hifsan Fauzian', 'userImage': 'https://play-lh.googleusercontent.com/a-/AOh14Gi1EQCw1CBe3YmdUHE4mHtJTWXnLKP83vjGtrY', 'content': 'Sangat sangat susah buat nyari survei, kalau ada yg mau download ni apss di sarankan buat sangat sangat sangat sabarrr karena bisa 1 - 2 bulan baru ada surbei', 'score': 1, 'thumbsUpCount': 0, 'reviewCreatedVersion': '2.7.6', 'at': datetime.datetime(2022, 2, 25, 9, 57, 24), 'replyContent': 'Yang terhormat Hifsan Fauzian\\n\\nTerima kasih telah menggunakan surveyon\\n\\nKami sangat mengusahakan mengirim survei sebanyak mungkin kepada Anda.\\nNamun demikian, kami tidak bisa menjamin tiap hari ada survei.\\nKami mohon pengertiannya.\\n\\nTim surveyon.', 'repliedAt': datetime.datetime(2022, 2, 28, 5, 22, 11)}, {'reviewId': 'gp:AOqpTOHcg9oLmsRPO0REni_-iywwTSN2dPV0D9TwgNn4iPHfGAZEmHA-fuGsy8b8lippKaa2yPDwlOImB8oC_A', 'userName': 'Naila Risydah', 'userImage': 'https://play-lh.googleusercontent.com/a/AATXAJxZiFNT0lo6MjiUt-RS5S5lKVQFGhjZ93x-ASca=mo', 'content': 'Aku suka surveyon. Pengisian angket dengan bahasa yang mudah untuk dipahami. Semoga ada survey setiap harinya ya biar bisa cepat tukar poinnya😁', 'score': 5, 'thumbsUpCount': 1, 'reviewCreatedVersion': '2.7.6', 'at': datetime.datetime(2022, 3, 11, 10, 27, 48), 'replyContent': 'Yang terhormat Naila Risydah\\nTerima kasih telah menggunakan surveyon\\n\\nKami sangat senang mendapatkan pujian dari anda.\\n\\nAdalah merupakan kebahagian kami untuk bisa menolong anda.\\nBila anda membutuhkan bantuan lebih lanjut, hubungilah kami.\\nTerima kasih telah bergabung dengan surveyon.\\n\\nTim surveyon', 'repliedAt': datetime.datetime(2022, 3, 14, 9, 19, 32)}, {'reviewId': 'gp:AOqpTOGgBc5QLfFsVkJH2w16H7j79x92lyqaCgySeJ42tjl2_SJzrKmu1ku-zmaCfEm_d2UDzMfTkEzLCT7n8w', 'userName': 'Endang Ramdan', 'userImage': 'https://play-lh.googleusercontent.com/a-/AOh14Gh8hMgCzFS26nWCfvbpmJcW-TJblUtUJvEDswiw', 'content': 'Saya telah mengikuti surveyon, setelah menyelesaikan beberapa survey ternyata tidak ribet seperti apk yang lain, cuma saran surveynya perlu diperbanyak lagi biar poinnya cepet banyak.', 'score': 5, 'thumbsUpCount': 1, 'reviewCreatedVersion': '2.7.6', 'at': datetime.datetime(2022, 3, 4, 12, 21, 14), 'replyContent': 'Yang terhormat Endang Ramdan\\n\\nTerima kasih telah menggunakan surveyon\\n\\nKami sangat mengusahakan mengirim survei sebanyak mungkin kepada Anda.\\nNamun demikian, kami tidak bisa menjamin tiap hari ada survei.\\nKami mohon pengertiannya.\\n\\nTim surveyon.', 'repliedAt': datetime.datetime(2022, 3, 7, 7, 43, 29)}, {'reviewId': 'gp:AOqpTOF2QbHoy3p6oNi4K2skQKoP4Sz6y-_Tf42evpMXnp-TxtsqjRLHYup7ge2yeabBZIBBAc1yEbD_Fj0umA', 'userName': 'intan ramadhani', 'userImage': 'https://play-lh.googleusercontent.com/a-/AOh14GhVkOYK-6ivsyTUatKBnB9p0z2V7ka7yw0prERg', 'content': 'Secara keseluruhan OK dan sdh beberapa kali widraw ke paypal..untuk kedepanya poin survei agar lebih besar lagi ya dan survei lebih sering supaya tidak terlalu lama untuk widraw ke paypal..sukses surveyon🖒🖒🖒🖒', 'score': 4, 'thumbsUpCount': 2, 'reviewCreatedVersion': '2.7.6', 'at': datetime.datetime(2022, 2, 24, 8, 19, 5), 'replyContent': 'Yang terhormat intan ramadhani Terima kasih telah menggunakan surveyon Kami sangat senang mendapatkan pujian dari anda. Adalah merupakan kebahagian kami untuk bisa menolong anda. Bila anda membutuhkan bantuan lebih lanjut, hubungilah kami. Terima kasih telah bergabung dengan surveyon. Tim surveyon', 'repliedAt': datetime.datetime(2022, 3, 16, 5, 30, 17)}, {'reviewId': 'gp:AOqpTOHsagFG8QJUOBv1vTTWY5Glihhvex9HLqJV1-RchFkFFniLYvXYOhXKTPFQE-CR9hsv4oSqQCkhDdroOA', 'userName': 'Baluntu Sudirmansya', 'userImage': 'https://play-lh.googleusercontent.com/a/AATXAJxfORuUHKWrDAnbU3nSqaS8Onfv4UIuzTEL-U9V=mo', 'content': 'Aplikasi mantap..karna kita bisa saling melontarkan pertanyaan..dan poin nya mudah di dpat..pokoknya mantap lah', 'score': 5, 'thumbsUpCount': 0, 'reviewCreatedVersion': '2.7.6', 'at': datetime.datetime(2022, 4, 4, 3, 37, 23), 'replyContent': 'Yang terhormat Baluntu Sudirmansya Terima kasih telah menggunakan surveyon Kami sangat senang mendapatkan pujian dari anda. Adalah merupakan kebahagian kami untuk bisa menolong anda. Bila anda membutuhkan bantuan lebih lanjut, hubungilah kami. Terima kasih telah bergabung dengan surveyon. Tim surveyon', 'repliedAt': datetime.datetime(2022, 4, 5, 6, 4, 46)}, {'reviewId': 'gp:AOqpTOGeWgo9yJTA-0oZWBLTIpZBI5eQkwO4wAJFVSIVXT5PMwGK1OBQcKVJtW-7GjDUW66jXTwmBbyDOUXMDg', 'userName': 'Prabu Production', 'userImage': 'https://play-lh.googleusercontent.com/a-/AOh14Ght1mCgUJ5Fw3bAs5W2bv3tFnISIPUpEcdudg8o6A', 'content': 'Aplikasi ini real membayar saya.. Saya sudah tukar 50.000 point. Walapun pembayaran nya membutuhkan waktu 3 sampai 4 hari Saya maklum mungkin sistem sedang sibuk', 'score': 5, 'thumbsUpCount': 0, 'reviewCreatedVersion': '2.7.6', 'at': datetime.datetime(2022, 2, 25, 3, 33, 48), 'replyContent': 'Yang terhormat Prabu Production Terima kasih telah menggunakan surveyon Kami sangat senang mendapatkan pujian dari anda. Adalah merupakan kebahagian kami untuk bisa menolong anda. Bila anda membutuhkan bantuan lebih lanjut, hubungilah kami. Terima kasih telah bergabung dengan surveyon. Tim surveyon', 'repliedAt': datetime.datetime(2022, 3, 2, 4, 22, 5)}, {'reviewId': 'gp:AOqpTOHeXZE03IxODotuwKsgubm2r84j57FL-W-nWKmQddn21kaBj1LL-GQ588drfU2EfZDW9uKlT169Pe_whg', 'userName': 'Wanda', 'userImage': 'https://play-lh.googleusercontent.com/a-/AOh14GjDWNMgIDlZdoEV-Rbf9OO7HbnekfqabuTin_df', 'content': 'Terimakasih surveyon. Walaupun poinnya tidak terlalu besar, dan tidak terlalu sering tapi kalau sabar bisa dapat. Pulsa saya 10rb sudah masuk, harus menunggu sekitar 3 hari but gpp 🙏 Terimakasih banyak', 'score': 5, 'thumbsUpCount': 8, 'reviewCreatedVersion': '2.7.6', 'at': datetime.datetime(2022, 3, 9, 13, 29, 6), 'replyContent': 'Yang terhormat Wanda Terima kasih telah menggunakan surveyon Kami sangat senang mendapatkan pujian dari anda. Adalah merupakan kebahagian kami untuk bisa menolong anda. Bila anda membutuhkan bantuan lebih lanjut, hubungilah kami. Terima kasih telah bergabung dengan surveyon. Tim surveyon', 'repliedAt': datetime.datetime(2022, 3, 10, 4, 32, 7)}, {'reviewId': 'gp:AOqpTOEWGNbmgbxuZgQT_LMGyXsjTo4wOjaaROFuQ0sWsPg2OVN0gVK7dvox-zDd-bYNOvVEqdwqGdS-s1yn_A', 'userName': 'Indri Septiani', 'userImage': 'https://play-lh.googleusercontent.com/a-/AOh14GgDgt656hv-7lZK5Y00bGheP5L___3iZFbk4f0T', 'content': 'Suka banget sih sama surveyon, udah berhasil wd ke paypall, pulsa juga. Pokoknya best bangdt. Rekomended buat kalian yg nyari apk legit. No ads, gk ribet. Pkoknya oke banget', 'score': 5, 'thumbsUpCount': 0, 'reviewCreatedVersion': '2.7.6', 'at': datetime.datetime(2022, 3, 4, 9, 54, 21), 'replyContent': 'Yang terhormat Indri Septiani Terima kasih telah menggunakan surveyon Kami sangat senang mendapatkan pujian dari anda. Adalah merupakan kebahagian kami untuk bisa menolong anda. Bila anda membutuhkan bantuan lebih lanjut, hubungilah kami. Terima kasih telah bergabung dengan surveyon. Tim surveyon', 'repliedAt': datetime.datetime(2022, 3, 7, 7, 46, 5)}, {'reviewId': 'gp:AOqpTOGfH31ETcuizEQT--VckZlDUgSUcOMHtrgkY7SNACT_yRlvS5Me6YtNpJXdRCkgkqr3HlmK5R8bgexs6w', 'userName': 'marissa devina', 'userImage': 'https://play-lh.googleusercontent.com/a-/AOh14Ggq-6Saux4lnrK3zsmUvNlavhiIjT3lZbuiaWwl', 'content': 'Kok setelah diupdate malah error di jendela acara dan quickpoll tulisannya th connection has timed out, jd gak bs ikut quickpoll nya dong', 'score': 4, 'thumbsUpCount': 0, 'reviewCreatedVersion': '2.7.6', 'at': datetime.datetime(2022, 3, 2, 22, 34, 42), 'replyContent': 'Yang terhormat marissa devina\\nTerima kasih telah menggunakan surveyon\\nKami mohon maaf atas ketidaknyamanan Anda.\\n\\nJika Anda bermasalah segera hubungi kami dan menjelaskan detail permasalahannya sehingga kami dapat membantu Anda.\\nAnda dapat menghubungi kami melalui aplikasi surveyon.\\nhttps://www.surveyon.com/inquiry\\nTim surveyon', 'repliedAt': datetime.datetime(2022, 3, 3, 6, 27, 27)}, {'reviewId': 'gp:AOqpTOE4xlIFjeimJZU92a0KL1UKvLeKD4ctJWOx4_Xs0mMffH5t_Wn7BPmP7iY4mbKQdivlu32KxMesuIFjMw', 'userName': 'Oman -', 'userImage': 'https://play-lh.googleusercontent.com/a/AATXAJzUR0s2KQhRxYhWLVzdxRMYpVvLaldNrms-2jsw=mo', 'content': 'Mantep tapi ga banget.mantep ae yo soalnya baru install baru 2 bulan make ni aplikasi.okelah cukup sekian dan makasih tapi ga banyak!!', 'score': 4, 'thumbsUpCount': 0, 'reviewCreatedVersion': '2.7.6', 'at': datetime.datetime(2022, 2, 24, 9, 31, 49), 'replyContent': 'Yang terhormat Oman -\\nTerima kasih telah menggunakan surveyon\\nKami mohon maaf atas ketidaknyamanan Anda.\\n\\nJika Anda bermasalah segera hubungi kami dan menjelaskan detail permasalahannya sehingga kami dapat membantu Anda.\\nAnda dapat menghubungi kami melalui aplikasi surveyon.\\nhttps://www.surveyon.com/inquiry\\nTim surveyon', 'repliedAt': datetime.datetime(2022, 3, 15, 6, 32, 59)}, {'reviewId': 'gp:AOqpTOGJMCs86hYMSbOhCci24X3XPgiae0WIuV7U8O0J6fy3BHkNNoeXbvZ7POGiM2rET3nXQ8cT61wtQpLjMg', 'userName': 'Who am I', 'userImage': 'https://play-lh.googleusercontent.com/a-/AOh14GiJJW5QWXxKhkxqJDbqyR85a7Zaw__r2sD2Iqu2TA', 'content': 'Terima kasih surveyon aplikasi saya sudah bisa terbuka lagi setelah beberapa kendala update versi respon terbaik dari development,tetap jadi aplikasi survei terbaik', 'score': 5, 'thumbsUpCount': 0, 'reviewCreatedVersion': '2.7.6', 'at': datetime.datetime(2022, 3, 4, 15, 41, 47), 'replyContent': 'Yang terhormat Who am I Terima kasih telah menggunakan surveyon Kami mohon maaf atas ketidaknyamanan Anda. Jika Anda bermasalah segera hubungi kami dan menjelaskan detail permasalahannya sehingga kami dapat membantu Anda. Anda dapat menghubungi kami melalui aplikasi surveyon. https://www.surveyon.com/inquiry Tim survey', 'repliedAt': datetime.datetime(2022, 3, 2, 4, 32, 30)}, {'reviewId': 'gp:AOqpTOHtyRtcCoMo5misPOUCwGutHSpNv1Q2esu3zEjl1Vx7p7Ii_mEDVT9EK9-ZfN2po9B4m8iAiQdW6f4oiA', 'userName': 'Wida Hasan', 'userImage': 'https://play-lh.googleusercontent.com/a/AATXAJyAwZSwnsBE3z59jwm9MjRmVyuKK8kmW4M8BRQH=mo', 'content': 'Kenapa sekarang akun surveyon saya jadi error terus..The connection has time out teruss,dulu engga begini,bahkan sudah bisa beberapa kali ambil pulsa.', 'score': 4, 'thumbsUpCount': 0, 'reviewCreatedVersion': '2.7.6', 'at': datetime.datetime(2022, 3, 23, 10, 0, 45), 'replyContent': 'Yang terhormat Wida Hasan\\nTerima kasih telah menggunakan surveyon\\nKami mohon maaf atas ketidaknyamanan Anda.\\n\\nJika Anda bermasalah segera hubungi kami dan menjelaskan detail permasalahannya sehingga kami dapat membantu Anda.\\nAnda dapat menghubungi kami melalui aplikasi surveyon.\\nhttps://www.surveyon.com/inquiry\\nTim surveyon', 'repliedAt': datetime.datetime(2022, 3, 24, 4, 44, 56)}, {'reviewId': 'gp:AOqpTOHpcodjpHH2gJGJMMX363AJd3Sq8VsEdo9lO4xR7HoaPrpenliAmTn5NkjkHa9DU05bFZaclTnnYyqRyg', 'userName': 'Apapun Iya', 'userImage': 'https://play-lh.googleusercontent.com/a/AATXAJx5MjrvNBAWvSpfRJSLKj-YikODBlfJFLOgetE3=mo', 'content': 'ini sistem kerja nya bagaimana ya, misal disurvei nya tertulis 5000 poin eh pas ngerjain cm dpt 200 poin. uda gitu kadang ya ada tulisan \"maaf anda tidak termasuk kriteria kami\" jdi kriteria yg seperti apa yg kalian butuhkan jika bkn karna kami informasikan apa yg bisa kalian kumpulkan? pastinya ga adakan. lain kali diperjelas bagaimana sistem pembagian poin + kriteria apa yg sedang kalian cari', 'score': 3, 'thumbsUpCount': 0, 'reviewCreatedVersion': '2.7.6', 'at': datetime.datetime(2022, 3, 25, 17, 35, 21), 'replyContent': 'Yang terhormat Apapun Iya\\n\\nTerima kasih telah menggunakan surveyon\\n\\nUntuk menyelidiki ini lebih lanjut, berikan nomor survei dan detail lebih lanjut tentang masalah ini dan kirimkan melalui Layanan Pelanggan surveyon pada aplikasi:\\n\\nhttps://www.surveyon.com/inquiry\\n\\nTim surveyon', 'repliedAt': datetime.datetime(2022, 3, 28, 6, 1, 57)}, {'reviewId': 'gp:AOqpTOHddj8la3UVffTzJNz9L8bi9oivV1fy6zxEqpoKVWspkll8K2vQ0892vhG0kdoo7142s4qFz-CnLSN5jw', 'userName': 'Tukang Patri', 'userImage': 'https://play-lh.googleusercontent.com/a-/AOh14GgHIhgrGa3P4lM6esmRtUdCRrc8abWc5ZHpVgtVeg', 'content': 'Masih dalam tahap percobaan dan perkembangan, dalam proses pembuktian. Masih banyak bug yang harus diperbaiki.', 'score': 4, 'thumbsUpCount': 0, 'reviewCreatedVersion': '2.7.6', 'at': datetime.datetime(2022, 3, 4, 9, 19, 29), 'replyContent': 'Yang terhormat Tukang Patri\\nTerima kasih telah menggunakan surveyon\\nTerima kasih atas saran anda. Kami akan mencoba untuk memperbaiki pelayanan kami.\\n\\nTerima kasih karena anda sudah menggunakan surveyon.\\n\\nTim surveyon', 'repliedAt': datetime.datetime(2022, 3, 9, 4, 40, 14)}, {'reviewId': 'gp:AOqpTOFQMJlz7Ks75aOFnlzieQ2M_aRL103jCKBNJPxs9oz0Xb2s9rPNnFE6REZgsNwwakLlCbrOhlvLB9vwuA', 'userName': 'Kiki Amalia', 'userImage': 'https://play-lh.googleusercontent.com/a/AATXAJzj4t81idSZ6T0LqNBa5BhheHwSYKqv3C-GGuCa=mo', 'content': 'app nya membayar.. sangat disayangkan ketika ngisi survey panjang ber puluh2 menit tapi pas di akhir bilang tidak sesuai.. ngabisin batre doang.. cuma dapet 200 poin hasil ngabisin batre 20 persen..', 'score': 1, 'thumbsUpCount': 0, 'reviewCreatedVersion': '2.7.6', 'at': datetime.datetime(2022, 3, 21, 12, 26, 47), 'replyContent': 'Yang terhormat Kiki Amalia\\n\\nTerima kasih telah menggunakan surveyon\\n\\nKami sangat mengusahakan mengirim survei sebanyak mungkin kepada Anda.\\nNamun demikian, kami tidak bisa menjamin tiap hari ada survei.\\nKami mohon pengertiannya.\\n\\nTim surveyon.', 'repliedAt': datetime.datetime(2022, 3, 22, 8, 31, 55)}, {'reviewId': 'gp:AOqpTOFK8PT0h7iwXz1dOIYmaKo6KAnRs4a9e7QOsWeLIaUboYCTqWdbjmMxJmrxq45-tBJVQYnbnGUse6-Q1w', 'userName': 'Transfer ilmu', 'userImage': 'https://play-lh.googleusercontent.com/a-/AOh14GhU9i9chjqzzLbQmKFbM3WuhMHknVc9mvx5jqe2hA', 'content': 'Sampe lupa tidak pernah memberi ulasan dan rating, sebelumnya terima kasih buat tim surveyon sudah sering dapat pulsa, ya walaupun cuma pulsa 10k lumayan banget terbantu dengan survey-surveynya, saran lebih perbanyak lagi survey-surveynya', 'score': 5, 'thumbsUpCount': 14, 'reviewCreatedVersion': '2.7.6', 'at': datetime.datetime(2022, 2, 25, 1, 49, 29), 'replyContent': 'Yang terhormat Transfer ilmu Terima kasih telah menggunakan surveyon Kami sangat senang mendapatkan pujian dari anda. Adalah merupakan kebahagian kami untuk bisa menolong anda. Bila anda membutuhkan bantuan lebih lanjut, hubungilah kami. Terima kasih telah bergabung dengan surveyon. Tim surveyon', 'repliedAt': datetime.datetime(2022, 2, 28, 5, 41, 23)}, {'reviewId': 'gp:AOqpTOGgBZLqht5iyCRV715gmeTafE6f0MzRh1e-Jpq29WjY3rHuexysFvK-7hIfGr3ROamwR6J1JAlGf9Z-Ow', 'userName': 'Cahya Wijaya', 'userImage': 'https://play-lh.googleusercontent.com/a-/AOh14Gh8nWd9DEGUm5EHeYB0NIj27QbQ-QQYv0EKMK5K', 'content': 'Sangat suka, tapi tolong perbanyak lagi survei agar poin cepat terkumpul, dan untuk survey point yg di dapat terlalu sedikit coba perbanyak lagi bonus poin nya saya jamin pasti banyak yang download.', 'score': 5, 'thumbsUpCount': 19, 'reviewCreatedVersion': '2.6.6', 'at': datetime.datetime(2022, 1, 21, 18, 35, 38), 'replyContent': 'Yang terhormat Cahya Wijaya\\n\\nTerima kasih telah menggunakan surveyon\\n\\nKami sangat mengusahakan mengirim survei sebanyak mungkin kepada Anda.\\nNamun demikian, kami tidak bisa menjamin tiap hari ada survei.\\nKami mohon pengertiannya.\\n\\nTim surveyon.', 'repliedAt': datetime.datetime(2022, 1, 24, 6, 8, 15)}, {'reviewId': 'gp:AOqpTOHhl-ztb4OFUvqzItKLSc3xGakm28PffYFl8RifGTOHmwzXcXlZHErqMMkkwtdGnQ7XdFqxGtENmPK62w', 'userName': 'Ira Maulidya Fatmawati', 'userImage': 'https://play-lh.googleusercontent.com/a/AATXAJzi9Yanpy0D3qVUj-nwE19oI1qZhEXglRWOt_HOkQ=mo', 'content': 'Aplikasi ringan dan benar2 terbukti membayar ya walaupun survey nya ga selalu ada, sumpah si sedih banget udah ga pernah login pas login koin ku kedaluwarsa padahal udah 9 rb😢🙏', 'score': 5, 'thumbsUpCount': 0, 'reviewCreatedVersion': '2.7.6', 'at': datetime.datetime(2022, 3, 31, 11, 53, 46), 'replyContent': 'Yang terhormat Ira Maulidya Fatmawati Terima kasih telah menggunakan surveyon Kami sangat senang mendapatkan pujian dari anda. Adalah merupakan kebahagian kami untuk bisa menolong anda. Bila anda membutuhkan bantuan lebih lanjut, hubungilah kami. Terima kasih telah bergabung dengan surveyon. Tim surveyon', 'repliedAt': datetime.datetime(2022, 4, 1, 5, 12, 5)}, {'reviewId': 'gp:AOqpTOH_-TT78cIZLBnQRl1vKk501WSjcx89mzPGKYC1iePdTkcrFYDbAzchAVpn4I4AmeYd5Mm7OyJ9gFKZtQ', 'userName': 'Ayuda Marwan', 'userImage': 'https://play-lh.googleusercontent.com/a-/AOh14GhdrT99VdytgjSjY2qw7LxsGC9s-9WLLVIvXH9Q', 'content': 'Wiiiiih apk ini terbukti membayar loh,sayang poinny gk bisa ke dana,tpi lumayanlah udh dpt 30k poin,sayang harus sabar nunggu survey ny yg agk lama.', 'score': 5, 'thumbsUpCount': 0, 'reviewCreatedVersion': '2.7.6', 'at': datetime.datetime(2022, 3, 21, 9, 33, 24), 'replyContent': 'Yang terhormat Ayuda Marwan Terima kasih telah menggunakan surveyon Kami sangat senang mendapatkan pujian dari anda. Adalah merupakan kebahagian kami untuk bisa menolong anda. Bila anda membutuhkan bantuan lebih lanjut, hubungilah kami. Terima kasih telah bergabung dengan surveyon. Tim surveyon', 'repliedAt': datetime.datetime(2022, 3, 22, 8, 32, 30)}, {'reviewId': 'gp:AOqpTOHuyhBEAIMqMNDXwKLnzHvo7KomhyKoU9Z256rMxWP2fCVgPDQakiounnfY9yk_pV_2wD-hZFDQe1ZIbw', 'userName': 'Fadly Syam', 'userImage': 'https://play-lh.googleusercontent.com/a-/AOh14GitJ_geZUpabaHn-NQ9VfwC3Z1Fc1KdFwB92Tgtkw', 'content': 'Tanggal 30/3/2022 Saya Melakukan Penukaran Poin Surveyon Saya Ke Dalam Bentuk $3 Untuk Dikirim Ke Akun Paypal Saya, Tapi Kenapa Sampai Saat Saya Ini Uang Tersebut Belum Masuk Ke Akun Paypal Saya....??? Saya Mohon Agar Segera Di Tanggapi...', 'score': 3, 'thumbsUpCount': 0, 'reviewCreatedVersion': '2.7.6', 'at': datetime.datetime(2022, 4, 3, 19, 1, 27), 'replyContent': 'Yang terhormat Fadly Syam\\nTerima kasih telah menggunakan surveyon\\n\\nPembayaran tunai Paypal, biasanya membutuhkan waktu 7 - 10 hari.\\nUntuk mendapatkan informasi lebih detil, silakan kunjungi tautan berikut:\\nhttps://www.surveyon.com/point/exchange\\n\\nKami mengharapkan pengertian anda.\\n\\nTim surveyon', 'repliedAt': datetime.datetime(2022, 4, 5, 6, 5)}, {'reviewId': 'gp:AOqpTOHExeBnv2m5EGLI2T9r2VUuCdeGfzILYignqIki9hjaIGT6K4RnRfDpDviGZ8vCwNfcGmqgY4VQLLIE2A', 'userName': 'Nia Kurnia', 'userImage': 'https://play-lh.googleusercontent.com/a/AATXAJzLVQ2CX8NewBaNXZZOUo4qTt0REFLVpTsBelxM=mo', 'content': 'Mantap aplikasinya benar\" real terkirim k Paypal... terimakasih surveyon..lebih banyak lg yah survei nya dan lebih banyak lagi pointnya....😘', 'score': 5, 'thumbsUpCount': 0, 'reviewCreatedVersion': '2.7.6', 'at': datetime.datetime(2022, 2, 25, 12, 25, 21), 'replyContent': 'Yang terhormat VNia Kurnia Terima kasih telah menggunakan surveyon Kami sangat senang mendapatkan pujian dari anda. Adalah merupakan kebahagian kami untuk bisa menolong anda. Bila anda membutuhkan bantuan lebih lanjut, hubungilah kami. Terima kasih telah bergabung dengan surveyon. Tim surveyon', 'repliedAt': datetime.datetime(2022, 2, 28, 5, 19, 2)}, {'reviewId': 'gp:AOqpTOGUXfh8U2dYH1Ywdyo1N7IHW98wqmkJv9grJf4Dplu3qL9qYtXbzGrMb3fzt129EZP5wbt6GjfddrVi7Q', 'userName': 'Giri PocoX3', 'userImage': 'https://play-lh.googleusercontent.com/a/AATXAJwiM_PnLHFjTrNoywT22Z5BWFsQTlL-NvQ8BD_o=mo', 'content': 'Menurut saya aplikasi nya sudah bagus namun perlu perbaikan yang terus menerus agar aplikasi dapat lebih istimewa lagi, perbanyak survei dengan point yang tinggi perbanyak point hadiah dan untuk quickpol semoga bisa ditingkatkan lagi point nya jangan 1 point semoga aplikasi ini dapat bermanfaat bagi setiap orang, ⭐⭐⭐⭐ bagus tapi belum sempurna, semoga pendapat saya bisa berguna terimakasih', 'score': 4, 'thumbsUpCount': 9, 'reviewCreatedVersion': '2.6.6', 'at': datetime.datetime(2022, 1, 20, 13, 55, 59), 'replyContent': 'Yang terhormat Giri PocoX3 Terima kasih telah menggunakan surveyon Kami sangat senang mendapatkan pujian dari anda. Adalah merupakan kebahagian kami untuk bisa menolong anda. Bila anda membutuhkan bantuan lebih lanjut, hubungilah kami. Terima kasih telah bergabung dengan surveyon. Tim surveyon', 'repliedAt': datetime.datetime(2022, 1, 21, 4, 11, 4)}, {'reviewId': 'gp:AOqpTOG0-fUp3BBW1XGCUOqhylKF4wzBakWrEoADbgsnO7PTAeKKmLRPMaHZKqDaqR43zyVLSr-OCN65RVTmPw', 'userName': 'Ega Seven', 'userImage': 'https://play-lh.googleusercontent.com/a/AATXAJxMCQpR7yKFOuvFULydq8yLPJA25rAz3N8ESZ6D=mo', 'content': 'Cukup baik. Tapi sayang ternyata poin memiliki masa kadaluarsa. Mungkin lebih baik poin tidak perlu memakai masa kadaluarsa supaya mereka yang susah payah mengisi survey masih bisa tetap merasakan hasil usahanya tanpa takut poin kadaluarsa.', 'score': 4, 'thumbsUpCount': 19, 'reviewCreatedVersion': '2.6.6', 'at': datetime.datetime(2022, 2, 21, 21, 7, 34), 'replyContent': 'Yang terhormat Ega Seven\\nTerima kasih telah menggunakan surveyon\\nKami mohon maaf atas ketidaknyamanan Anda.\\n\\nJika Anda bermasalah segera hubungi kami dan menjelaskan detail permasalahannya sehingga kami dapat membantu Anda.\\nAnda dapat menghubungi kami melalui aplikasi surveyon.\\nhttps://www.surveyon.com/inquiry\\nTim surveyon', 'repliedAt': datetime.datetime(2022, 2, 22, 4, 42, 40)}, {'reviewId': 'gp:AOqpTOEKin0tvLDqANL_4-vFdDOjLPbaWK0gRJAqjMKS-oEZI5SdVFd7lJ9f_ESJV9X4k-WsTeMMq1gM-Ouh8Q', 'userName': 'Wahyu Kurniawan', 'userImage': 'https://play-lh.googleusercontent.com/a-/AOh14Ghp8KOtOzPKFyaAgnRmK9u3A3ApjjWoFdGCW7it6g', 'content': 'Akun saya di non aktifkan, padahal saya tidak melakukan apapun yg curang, dahlah emang hanya pengen data pribadi aplikasi j4ncok !!', 'score': 1, 'thumbsUpCount': 0, 'reviewCreatedVersion': '2.7.6', 'at': datetime.datetime(2022, 3, 31, 15, 51, 50), 'replyContent': 'Yang terhormat Wahyu Kurniawan\\n\\nUntuk menyelidiki masalah Anda, kami berharap Anda dapat mengirimkan pertanyaan kepada kami melalui aplikasi kami karena kami tidak dapat mengungkapkan informasi pribadi apapun tentang akun Anda di sini untuk alasan keamanan.\\n\\nhttps://www.surveyon.com/inquiry\\n\\nTim surveyon Anda.', 'repliedAt': datetime.datetime(2022, 4, 1, 5, 7, 32)}, {'reviewId': 'gp:AOqpTOHL9tlFil2OZvIE87uF7SX-4gdU9VVVAIuwshEuqR29cPiDKQBfeT57naVwmAS7jqbTulxfX0pLStt4RA', 'userName': 'Astri Fau', 'userImage': 'https://play-lh.googleusercontent.com/a-/AOh14Ghi9NWKoq7l4LfSgjYWeX0-YM7JdL3PqTVFafcxyw', 'content': 'Poin yang ditukar hanya bisa menggunakan pulsa dan paypal. Alangkah baiknya bisa dilakukan di shopeepay juga 😄', 'score': 4, 'thumbsUpCount': 0, 'reviewCreatedVersion': '2.7.6', 'at': datetime.datetime(2022, 3, 11, 5, 19, 14), 'replyContent': 'Yang terhormat Astri Fau\\nTerima kasih telah menggunakan surveyon\\nTerima kasih atas saran anda. Kami akan mencoba untuk memperbaiki pelayanan kami.\\n\\nTerima kasih karena anda sudah menggunakan surveyon.\\n\\nTim surveyon', 'repliedAt': datetime.datetime(2022, 3, 11, 7, 7, 35)}, {'reviewId': 'gp:AOqpTOGeoEhg5curzctNRD8ILoZkA9jb6WOwrURujtQgiEP0wiinyLoYp3s9xIj8JC7bgDdfmLuSx9ZlXzX-cw', 'userName': 'Nila yuliani', 'userImage': 'https://play-lh.googleusercontent.com/a-/AOh14Gh29spMGJpV2TtVyLtlNIw88w-36Yr4TNb8KVs8CH8', 'content': 'Setiap ada survey yang poinnya besar Gak pernah bisa terjawab. Selalu error . Lama² males. Aplikasi gajeee', 'score': 1, 'thumbsUpCount': 0, 'reviewCreatedVersion': '2.7.6', 'at': datetime.datetime(2022, 3, 25, 9, 53, 7), 'replyContent': 'Yang terhormat Nila yuliani Terima kasih telah menggunakan surveyon Kami mohon maaf atas ketidaknyamanan Anda. Jika Anda bermasalah segera hubungi kami dan menjelaskan detail permasalahannya sehingga kami dapat membantu Anda. Anda dapat menghubungi kami melalui aplikasi surveyon. https://www.surveyon.com/inquiry Tim surveyon', 'repliedAt': datetime.datetime(2022, 3, 28, 6, 4, 21)}, {'reviewId': 'gp:AOqpTOECh7tbqC6m5WADxtdQMjbz6palGfUaaJ8hGeq5CbnqXYgQegoEwnauzK_nphX2G98Fys2LxEi6WRb26w', 'userName': 'Camalia Wulaandari', 'userImage': 'https://play-lh.googleusercontent.com/a-/AOh14GjnPv2mOZELUPCgvAAamh_xVgE6tZi1G_Y4xxkr-g', 'content': 'Secara keseluruhan sudah bagus, tampilan simpel dan mudah dimengerti. Untuk mendapatkan survey pun menurut saya tidak terlalu sulit dan poin yg diberikan cukup besar dibanding tempat survey lain. Terimakasih.', 'score': 5, 'thumbsUpCount': 47, 'reviewCreatedVersion': '2.6.6', 'at': datetime.datetime(2022, 1, 6, 10, 47, 48), 'replyContent': 'Yang terhormat Camalia Wulaandr Terima kasih telah menggunakan surveyon Kami sangat senang mendapatkan pujian dari anda. Adalah merupakan kebahagian kami untuk bisa menolong anda. Bila anda membutuhkan bantuan lebih lanjut, hubungilah kami. Terima kasih telah bergabung dengan surveyon. Tim surveyon', 'repliedAt': datetime.datetime(2022, 1, 7, 5, 23, 16)}, {'reviewId': 'gp:AOqpTOF4QTer754BdU8QKZrt3ro2_YIKyLlVLgoNTQ0v6BZ_sMDBgYD8SlOltUFgrpLePFfeyO5p2D4Qz5X3oA', 'userName': 'Nuruz Zakiyah', 'userImage': 'https://play-lh.googleusercontent.com/a-/AOh14GgHe89Z7QmivX5DdTXgHnapONOGdMfw2WXV3TAc', 'content': 'Suka sangat dengan aplikasi ini..mudah bangt untuk ikuti survey survey nya..dan mudah bngt dapat e money nya..suka suka suka', 'score': 5, 'thumbsUpCount': 0, 'reviewCreatedVersion': '2.7.6', 'at': datetime.datetime(2022, 3, 4, 10, 25, 39), 'replyContent': 'Yang terhormat Nuruz Zakiyah Terima kasih telah menggunakan surveyon Kami sangat senang mendapatkan pujian dari anda. Adalah merupakan kebahagian kami untuk bisa menolong anda. Bila anda membutuhkan bantuan lebih lanjut, hubungilah kami. Terima kasih telah bergabung dengan surveyon. Tim surveyon', 'repliedAt': datetime.datetime(2022, 3, 7, 7, 44, 27)}, {'reviewId': 'gp:AOqpTOFnoWq11FkwcXJvP6c7W6oRRGpk9_nOBsIY5A60K92nIHAnVdbzAVjTuu8HLoa6eb6saYo5pBOQ6iwb1A', 'userName': 'Alfiyah 46', 'userImage': 'https://play-lh.googleusercontent.com/a-/AOh14GhEphIYROBzFzYDp2Fd5Uau-6J3fmL_7a-ETLtR', 'content': 'Sebenarnya ini apk bagus banget sekali survey langsung dapat banyak poin akan tetapi quickpoll sama acara nya gak bisa dibuka jadi gak bisa ikut event2', 'score': 4, 'thumbsUpCount': 0, 'reviewCreatedVersion': '2.7.6', 'at': datetime.datetime(2022, 3, 8, 21, 11, 24), 'replyContent': 'Yang terhormat Alfiyah 46 Terima kasih telah menggunakan surveyon Kami mohon maaf atas ketidaknyamanan Anda. Jika Anda bermasalah segera hubungi kami dan menjelaskan detail permasalahannya sehingga kami dapat membantu Anda. Anda dapat menghubungi kami melalui aplikasi surveyon. https://www.surveyon.com/inquiry Tim surveyon', 'repliedAt': datetime.datetime(2022, 3, 9, 4, 39, 17)}, {'reviewId': 'gp:AOqpTOG4-8i6ogdA2Z8oV4OkmxirJ69cJPZUG3rE1gFsx8_2nxLWB7p8xNn90aPEZv-_RaLBvvdeWqrrBM9m4A', 'userName': 'Mia Nuramelia Septiana', 'userImage': 'https://play-lh.googleusercontent.com/a-/AOh14GghXFuVmlsyl2XIz3DhLKEdKxuDOqLolnzxO2W-', 'content': 'Cukup mudah mendapatkan poin, saya sudah withdraw beberapa kali, tidak memerlukan waktu yang lama juga. Terimakasih Surveyon :)', 'score': 5, 'thumbsUpCount': 0, 'reviewCreatedVersion': '2.7.6', 'at': datetime.datetime(2022, 2, 25, 13, 2, 35), 'replyContent': 'Yang terhormat Mia Nuramelia Septiana Terima kasih telah menggunakan surveyon Kami sangat senang mendapatkan pujian dari anda. Adalah merupakan kebahagian kami untuk bisa menolong anda. Bila anda membutuhkan bantuan lebih lanjut, hubungilah kami. Terima kasih telah bergabung dengan surveyon. Tim surveyon', 'repliedAt': datetime.datetime(2022, 2, 28, 5, 18, 26)}, {'reviewId': 'gp:AOqpTOGVWUS6fk1AyPBt_-1DYtQkeLdJs01YOFZyD0wsv7T0aT3iNbrDXzimi_a41DQvnPoFVjkf90wCVk269w', 'userName': 'IAMDNZ!', 'userImage': 'https://play-lh.googleusercontent.com/a-/AOh14GgmbWe1ADR-dGSlKYa5MykU67M1G2UBLtxUbIo5', 'content': 'Nice app cuman untuk penarikan sangat lama bisa berbulan2 tapi untuk survey dan poin saya sudah puas walaupun jarang ada survey tapi untuk satu survey mendapatkan banyak poin bahkan hanya butuh 4 survey untuk dapat 11k!! Semoga terus begini dan tidak berubah2 jika ingin apk ini sukses', 'score': 5, 'thumbsUpCount': 0, 'reviewCreatedVersion': '2.6.6', 'at': datetime.datetime(2022, 4, 2, 7, 42, 23), 'replyContent': 'Yang terhormat IAMDINZヅ\\n\\nSilakan kunjungi link ini untuk mendapatkan informasi detil mengenai hadiah voucher:\\nhttps://www.surveyon.com/point/exchange/ecoupon\\n\\nJika Anda masih membutuhkan bantuan silakan menghubungi kami kembali.\\n\\nTim surveyon', 'repliedAt': datetime.datetime(2021, 12, 10, 4, 41, 38)}, {'reviewId': 'gp:AOqpTOE6t1ZUOdN-UpHtfblltRB-2m2ehaiuZEpAxz4X4gMaA13xDOADHBJFJVo3Qi25w23L2O-PvTrJ0XWNgQ', 'userName': 'Victor Saulus', 'userImage': 'https://play-lh.googleusercontent.com/a/AATXAJxo1xsHifq4Ml_tYIx6MmNzOe2G34UDmrCGQCrebw=mo', 'content': 'Secara keseluruhan sudah bagus apk ini, saya gabung udah dari 2016 dan selalu landing kalau WD, hanya saja kalau bisa diturunin untuk nominal tukar poinnya, 10 ribuanlah kalau bisa, dan untuk dompet penarikannya ditambahin \"DANA dan GOPAY, BANK LOKAL. semoga ditanggapi dengan perubahan. Trimakasih', 'score': 5, 'thumbsUpCount': 103, 'reviewCreatedVersion': '2.6.6', 'at': datetime.datetime(2022, 1, 3, 8, 17, 24), 'replyContent': 'Yang terhormat Victor Saulus\\nTerima kasih telah menggunakan surveyon\\n\\nKami sangat senang mendapatkan pujian dari anda.\\n\\nAdalah merupakan kebahagian kami untuk bisa menolong anda.\\nBila anda membutuhkan bantuan lebih lanjut, hubungilah kami.\\nTerima kasih telah bergabung dengan surveyon.\\n\\nTim surveyon', 'repliedAt': datetime.datetime(2022, 1, 3, 8, 6, 50)}, {'reviewId': 'gp:AOqpTOG-3AxDb3W97BRDWTKjglf37uDn1XU6FW1hGadXmzOP7fpjxVWLcUwPZE8jHSNUJaVNPOv96_PhO94OFw', 'userName': 'Unk Now', 'userImage': 'https://play-lh.googleusercontent.com/a-/AOh14GhdRd8OxMGDEB2tkKpx9pxN3M2ZZUF7rtTHFhxpgQ', 'content': 'Apk yg terbukti membayar, walaupun harus ngu sekitar 1mgg, tp ni apk terbukti membayar, moga kedepannya bisa lebih bagus👍', 'score': 5, 'thumbsUpCount': 1, 'reviewCreatedVersion': '2.7.6', 'at': datetime.datetime(2022, 3, 16, 5, 20, 41), 'replyContent': 'Yang terhormat Unk Now\\nTerima kasih telah menggunakan surveyon\\n\\nKami sangat senang mendapatkan pujian dari anda.\\n\\nAdalah merupakan kebahagian kami untuk bisa menolong anda.\\nBila anda membutuhkan bantuan lebih lanjut, hubungilah kami.\\nTerima kasih telah bergabung dengan surveyon.\\n\\nTim surveyon', 'repliedAt': datetime.datetime(2022, 3, 16, 5, 27, 41)}, {'reviewId': 'gp:AOqpTOGd08-76lipE5PMDmwv_ibup6exQFYKeoSjOQ5J04InZSUGPfMBM2o5yczlkSWzuwst_9xtGDyLBNVifg', 'userName': 'Aliyudin Mangprang', 'userImage': 'https://play-lh.googleusercontent.com/a/AATXAJzEKSYlkPJCxGEnBrFvxb0B4w0o8ZBVUoL609M-=mo', 'content': 'Bintang 2 dulu Pas ngisi survei tiba tiba eror aneh padahal jaringan lancar, dan untuk wd sendiri saya blom rasain semoga!', 'score': 2, 'thumbsUpCount': 0, 'reviewCreatedVersion': '2.7.6', 'at': datetime.datetime(2022, 4, 4, 4, 8, 51), 'replyContent': 'Yang terhormat Aliyudin Mangprang Terima kasih telah menggunakan surveyon Untuk menyelidiki ini lebih lanjut, berikan nomor survei dan detail lebih lanjut tentang masalah ini dan kirimkan melalui Layanan Pelanggan surveyon pada aplikasi: https://www.surveyon.com/inquiry Tim surveyon', 'repliedAt': datetime.datetime(2022, 4, 5, 6, 4, 32)}, {'reviewId': 'gp:AOqpTOF9ADZaOgEH6JEqMji81gjMFVbeRt4DYG140Wb_WcxKVSfNjg6LCrhdAriZBce7bcVP0F2ZlI024ksXEQ', 'userName': 'adi radita', 'userImage': 'https://play-lh.googleusercontent.com/a-/AOh14GjUlVh9mLj42U8Q5t_k83w7vxEjTzt41_CAdByH', 'content': 'Aku baru saja mencairkan koin saya, meskipun cuma dapat 10 rb tapi lumayan buat deposit DANA saya. Koinnya bisa ditukar apa saja, bisa buat beli pulsa atau langsung ditransfer melalui e-wallet. Cuma survei yang didapat koinnya kecil2, jarang ada yang besar. Sudah gitu jarang dapat survei. Meskipun begitu pencairan dana sebesar Rp 10rb akhirnya masuk ke DANA saya. Terima kasih atas pencairan dananya. 😘😘😘😘👍👍👍👍', 'score': 5, 'thumbsUpCount': 23, 'reviewCreatedVersion': '2.6.6', 'at': datetime.datetime(2022, 1, 13, 0, 16, 7), 'replyContent': 'Yang terhormat adi radita\\n\\nTerima kasih telah menggunakan surveyon\\n\\nKami sangat mengusahakan mengirim survei sebanyak mungkin kepada Anda.\\nNamun demikian, kami tidak bisa menjamin tiap hari ada survei.\\nKami mohon pengertiannya.\\n\\nTim surveyon.', 'repliedAt': datetime.datetime(2022, 1, 7, 5, 25, 2)}, {'reviewId': 'gp:AOqpTOEStfR2kswcFDD22cPns5oPk4IjYdXNdAyNubji2v-j2JwcnciASkcHb73CrMzqqu04arf5j9NxkLjWCQ', 'userName': 'fatmawati ali zaid', 'userImage': 'https://play-lh.googleusercontent.com/a-/AOh14GibqM8u7wrrLNVxLU0CMjYDiw32qTd8_FDZfq5BqA', 'content': 'Berkat surveyon, saya bisa menabung sedikit demi sedikit di Paypall dan bisa withdraw kapanpun saya mau, selain itu saya mendapatkan insight baru mengenai produk-produk baru', 'score': 5, 'thumbsUpCount': 0, 'reviewCreatedVersion': '2.7.6', 'at': datetime.datetime(2022, 3, 2, 1, 24, 22), 'replyContent': 'Yang terhormat fatmawati ali zaid Terima kasih telah menggunakan surveyon Kami sangat senang mendapatkan pujian dari anda. Adalah merupakan kebahagian kami untuk bisa menolong anda. Bila anda membutuhkan bantuan lebih lanjut, hubungilah kami. Terima kasih telah bergabung dengan surveyon. Tim surveyon', 'repliedAt': datetime.datetime(2022, 3, 1, 8, 32, 53)}, {'reviewId': 'gp:AOqpTOGJowwbrEKxZEy5uh-3Vq05dZhlVDCWju90sz8b9FU7ljUfd4eFO4USVNgOWn9ZHgddP1WZ9BQ0-RqPkQ', 'userName': 'Sofyan Syarif Batuah', 'userImage': 'https://play-lh.googleusercontent.com/a-/AOh14GgNJdK3fi6h-dio5KkYj4cjNW2xXAVt1TJOjrCoog', 'content': 'Bintang 3 dulu deh 🙏🏻 ,karna Poin saya baru terkumpul 3.700 an, sangat lama untuk mendapatkan survei baru, kalau saja emang benar benar bisa ditarik uang digital / pulsa, saya akan menaikan ke bintang 5, tetapi hanya 1 masalah saja, tolong untuk mendapatkan survei nya jangan lama 🙏🏻', 'score': 3, 'thumbsUpCount': 4, 'reviewCreatedVersion': '2.6.6', 'at': datetime.datetime(2022, 2, 23, 6, 7, 8), 'replyContent': 'Yang terhormat Sofyan Syarif Batuah\\n\\nTerima kasih telah menggunakan surveyon\\n\\nKami sangat mengusahakan mengirim survei sebanyak mungkin kepada Anda.\\nNamun demikian, kami tidak bisa menjamin tiap hari ada survei.\\nKami mohon pengertiannya.\\n\\nTim surveyon.', 'repliedAt': datetime.datetime(2022, 2, 24, 4, 35, 16)}, {'reviewId': 'gp:AOqpTOEZ3kvYSuJL4Uh3ucWZ7E7EAxV74YqRtO2Wc6r3HDfmIrSyAKJzeUR0DqR4aPT-AkFH6IEJWfnkuvQM8Q', 'userName': 'romulo napitupulu', 'userImage': 'https://play-lh.googleusercontent.com/a-/AOh14GiWBFA2_IaCiKqg7eunXMkPcQgAIXHg3wSrIBhG9A', 'content': 'Tgl 02/02/22 sy menukar 11.000 poin untuk pulsa telkomsel senilai 10.000. Menunggu 9 hari pulsa tsb tidak ada masuk. Sy coba komplen via email tgl 11/02/22, mendapatkan respon jawaban bahwa tgl 07/02/22 pulsa telah dikirimkan. Namun kenyataannya sampai detik ini tgl 18/02/22 pulsa tsb tidak ada masuk/ terkirim. Hadeuhh aneh bin ajaib ya.. tidak ada penyelesaian. Jawaban dari management hanya seperti itu. Kecewa banget!!!!', 'score': 1, 'thumbsUpCount': 31, 'reviewCreatedVersion': '2.6.6', 'at': datetime.datetime(2022, 2, 18, 16, 46, 17), 'replyContent': 'Yang terhormat romulo napitupulu\\nTerima kasih telah menggunakan surveyon\\nKami mohon maaf atas ketidaknyamanan Anda.\\n\\nJika Anda bermasalah segera hubungi kami dan menjelaskan detail permasalahannya sehingga kami dapat membantu Anda.\\nAnda dapat menghubungi kami melalui aplikasi surveyon.\\nhttps://www.surveyon.com/inquiry\\nTim surveyon', 'repliedAt': datetime.datetime(2022, 2, 21, 3, 16, 58)}, {'reviewId': 'gp:AOqpTOEXh9W9N-r6sNYHGpyMiIwhZCECmHdpCTwqtfhSAwVgTjSXmOryZZBcPOa6ywADFKFb883caYoPdeATRA', 'userName': 'Sri Dewi Kartini', 'userImage': 'https://play-lh.googleusercontent.com/a-/AOh14Ggk5ECVnlkUyN3grtS6dS36VpwkY4sUUmfRytzOlg', 'content': 'Sejauh ini sangat menyenangkan menjawab surveynya. Edit: aq kira cuma bisa withdraw pulsa dan paypal, setelah dijawab review sebelumnya ternyata bisa withdraw via ewallet jg, sudah dicoba dan ok. Jadi ga usah nunggu sampai 20.000 poin lg, cukup 11.000 uda bisa withdraw.', 'score': 5, 'thumbsUpCount': 0, 'reviewCreatedVersion': '2.6.6', 'at': datetime.datetime(2022, 2, 25, 11, 8, 47), 'replyContent': 'Yang terhormat Sri Dewi Kartini\\n\\nSilakan kunjungi link ini untuk mendapatkan informasi detil mengenai hadiah voucher:\\nhttps://www.surveyon.com/point/exchange/ecoupon\\n\\nJika Anda masih membutuhkan bantuan silakan menghubungi kami kembali.\\n\\nTim surveyon', 'repliedAt': datetime.datetime(2021, 12, 10, 4, 35, 29)}, {'reviewId': 'gp:AOqpTOF0ZuPFIT165wLTMZNNJMfhT0_cMlPgytga8d3KV1uqogqJ62CU5cLpOvO3sjw-yZ07EjL6ZEGivSY1Ag', 'userName': 'Dhanie Imran', 'userImage': 'https://play-lh.googleusercontent.com/a/AATXAJzR-28W9WNaa68o095_htyRvL3SdggG9CQNQ-AI=mo', 'content': 'Ada apa ya dengan surveyon? Untuk menu Acara dan Quick Survey tdk bisa dibuka \"Time Out terus.. Sdh Log-out dan Log-in serta Uninstal dan Instal kembali tetep aja ga bisa, Mohon segera di maintenance! Terima kasih..', 'score': 3, 'thumbsUpCount': 6, 'reviewCreatedVersion': '2.6.6', 'at': datetime.datetime(2022, 2, 18, 23, 18, 50), 'replyContent': 'Yang terhormat Dhanie Imran Terima kasih telah menggunakan surveyon Kami mohon maaf atas ketidaknyamanan Anda. Jika Anda bermasalah segera hubungi kami dan menjelaskan detail permasalahannya sehingga kami dapat membantu Anda. Anda dapat menghubungi kami melalui aplikasi surveyon. https://www.surveyon.com/inquiry Tim surveyon', 'repliedAt': datetime.datetime(2022, 2, 21, 3, 16, 13)}, {'reviewId': 'gp:AOqpTOG5c3ibSHYOTgqKLG7xYfNRVLCVTh5HzZ_I-YYNusK-doBaxph1IUKU5l99zk7XKdwIaCNITMSzr33ejA', 'userName': 'Winda Rattna', 'userImage': 'https://play-lh.googleusercontent.com/a-/AOh14GjjNB7pl0gVS4RMJTCV3aUn6rwPPn4gNcLR4oECyg', 'content': 'Sekarang kenapa gabisa buka beranda ya? Tulisannya cek koneksi internet terus padahal koneksi bagus dan kenceng, apk lainnya juga lancar-lancar saja. Cek pembaruan jg gaada pembaruan', 'score': 3, 'thumbsUpCount': 2, 'reviewCreatedVersion': '2.6.6', 'at': datetime.datetime(2022, 1, 28, 11, 17, 18), 'replyContent': 'Yang terhormat Winda Rattna\\nKami mohon maaf atas ketidaknyamanan Anda.\\n\\nJika Anda bermasalah segera hubungi kami dan menjelaskan detail permasalahannya sehingga kami dapat membantu Anda.\\nAnda dapat menghubungi kami melalui aplikasi surveyon.\\nhttps://www.surveyon.com/inquiry\\n\\nTim surveyon', 'repliedAt': datetime.datetime(2022, 1, 28, 13, 33, 26)}, {'reviewId': 'gp:AOqpTOEQM47ypcub0CsTg1lsqMoSJP9g2M5Exbzkm3XV82OsTwJHVz6pSWRvMceXIsa1Rj7eWCp3dawDxJdpwg', 'userName': 'Wina', 'userImage': 'https://play-lh.googleusercontent.com/a-/AOh14Gj6j7Rud1eje78yq6Nk2KsU4LmhkRCRTlQ74ipb', 'content': 'Survei nya mudah bayaran nya lumayan bisa cepat withdraw, mohon di perbaiki kadang suka tiba2 survei berhenti padahal sudah mau selesai dan tidak mendapat poin.', 'score': 5, 'thumbsUpCount': 8, 'reviewCreatedVersion': '2.6.6', 'at': datetime.datetime(2021, 12, 16, 11, 22, 52), 'replyContent': 'Yang terhormat Wina\\nTerima kasih telah menggunakan surveyon\\n\\nKami sangat senang mendapatkan pujian dari anda.\\n\\nAdalah merupakan kebahagian kami untuk bisa menolong anda.\\nBila anda membutuhkan bantuan lebih lanjut, hubungilah kami.\\nTerima kasih telah bergabung dengan surveyon.\\n\\nTim surveyon', 'repliedAt': datetime.datetime(2021, 12, 17, 1, 19)}, {'reviewId': 'gp:AOqpTOFU_F-Pz4pmis5cLWXQWP4MGgmHkAUJcP1jU9cNSnAfK12GHJx8N78Gc_iW7ysOL69dfQEhxy8YewzGVQ', 'userName': 'abdulharis gokil', 'userImage': 'https://play-lh.googleusercontent.com/a-/AOh14GidQdcEx1BmvHPyzV5O_2KrBMLWOTE-_-Na5qViNg', 'content': 'Saya kasih 4 bintang terlebih dahulu 🙏🙏 karena asal ada survey yang dikerjakan malah tiba2 ada pemberitahuan survey tidak cocok dengan kriteria anda / survey sudah penuh, alhasil point yang didapatkan hanya point ikut berpartisipasi yang nominalnya hanya 200 ataupun kurang dari 200 (tidak sesuai dengan point yg tertera pada survey. Tlng developer diperbaiki mngnai hal ini, jika dah diperbaiki saya tambah 1 bntng lagi dan akan mnjadi full bintang.', 'score': 4, 'thumbsUpCount': 26, 'reviewCreatedVersion': '2.6.6', 'at': datetime.datetime(2022, 2, 15, 9, 10, 3), 'replyContent': 'Yang terhormat abdulharis gokil\\nTerima kasih telah menggunakan surveyon\\nKami mohon maaf atas ketidaknyamanan Anda.\\n\\nJika Anda bermasalah segera hubungi kami dan menjelaskan detail permasalahannya sehingga kami dapat membantu Anda.\\nAnda dapat menghubungi kami melalui aplikasi surveyon.\\nhttps://www.surveyon.com/inquiry\\nTim surveyon', 'repliedAt': datetime.datetime(2022, 2, 9, 7, 20, 23)}, {'reviewId': 'gp:AOqpTOH_zRabzEADOZefJIV7-58H4BP5QPiCUS4WJ7kOhmaLupiKtEHZX72cpJlt-oW84T7jqANoRdKOBRO3gg', 'userName': 'Mutiara Wati', 'userImage': 'https://play-lh.googleusercontent.com/a-/AOh14GjCBmcWqgW5lRiXLONCBj0lXZMjO9OD6x8zZScyWg', 'content': 'Aplikasinya jadi error pas diupdate, gak bisa muncul quickpoll trus surveynya dikit, nanya CS bilangnya akun dibekukan krn menolak email dari surveyon, padahal gak pernah nolak email surveyon, aneh.', 'score': 2, 'thumbsUpCount': 73, 'reviewCreatedVersion': '2.6.6', 'at': datetime.datetime(2022, 2, 21, 15, 7, 11), 'replyContent': 'Yang terhormat Mutiara Wati\\nTerima kasih telah menggunakan surveyon\\nKami mohon maaf atas ketidaknyamanan Anda.\\n\\nJika Anda bermasalah segera hubungi kami dan menjelaskan detail permasalahannya sehingga kami dapat membantu Anda.\\nAnda dapat menghubungi kami melalui aplikasi surveyon.\\nhttps://www.surveyon.com/inquiry\\nTim surveyon', 'repliedAt': datetime.datetime(2022, 2, 22, 4, 44, 10)}, {'reviewId': 'gp:AOqpTOFKuqNL6PbwEfmki59Ez6gRkY1jwUwbJ8BmBwwFkzaCA7VlmADr6zqcGZBHrMb9sx1FSqhobE-dYlQcWA', 'userName': 'Daniel Mariyanto', 'userImage': 'https://play-lh.googleusercontent.com/a-/AOh14Ghk3SPooNsqQevPUHzuUcZLnwhOZip91Hb9ZwQfXXQ', 'content': 'Bukan penghasilan tiap hari.. bukan tambah hasil.. tapi mengunggu hasil.. maaf sy out krn sama sama bukan kriteria, data pribadi yg sedalam dalamnya mohon jgn di sebarluaskan, itu data pengangguran. Hehehe.. Terima kasih..', 'score': 1, 'thumbsUpCount': 23, 'reviewCreatedVersion': '2.6.6', 'at': datetime.datetime(2022, 1, 31, 0, 11, 13), 'replyContent': 'Yang terhormat Daniel Mariyanto\\n\\nTerima kasih telah menggunakan surveyon\\n\\nKami sangat mengusahakan mengirim survei sebanyak mungkin kepada Anda.\\nNamun demikian, kami tidak bisa menjamin tiap hari ada survei.\\nKami mohon pengertiannya.\\n\\nTim surveyon.', 'repliedAt': datetime.datetime(2022, 1, 31, 4, 53, 30)}, {'reviewId': 'gp:AOqpTOFHE7UQYdToFEj1a_lqacDjBJXjOb__JkYfhQCjLJG7riBKRICsR-fu7z4TVx1qRoHspfViovYgkH_G0Q', 'userName': 'Mariam Park', 'userImage': 'https://play-lh.googleusercontent.com/a-/AOh14GjDHBVMdbAkkq_jmYRLcVZXj5LmRqg6T8B8T-mpRQ', 'content': 'Saya kasih bintang 3 dulu.. Karena setiap mau isi survey selalu aja ada kata \"waktu otentikasi telah habis\" Kalau kata-kata itu yang selalu muncul, bagaimana koin nya bertambah??? Saya akan menghapus aplikasi ini jika masih seperti itu~~', 'score': 3, 'thumbsUpCount': 43, 'reviewCreatedVersion': '2.6.6', 'at': datetime.datetime(2022, 1, 30, 3, 56, 25), 'replyContent': 'Yang terhormat Mariam Park\\n\\nTerima kasih telah menggunakan surveyon\\n\\nUntuk menyelidiki ini lebih lanjut, berikan nomor survei dan detail lebih lanjut tentang masalah ini dan kirimkan melalui Layanan Pelanggan surveyon pada aplikasi:\\n\\nhttps://www.surveyon.com/inquiry\\n\\nTim surveyon', 'repliedAt': datetime.datetime(2022, 1, 31, 5, 47, 54)}, {'reviewId': 'gp:AOqpTOH3cE-3sV3i6AX0bsXdPgCqK8w9nxXrk-4xRckydJbgtAgHo_vUEJhP-KGpF2f8XM_nrZz5qbw-l_XRhA', 'userName': 'Faisal Alfatih', 'userImage': 'https://play-lh.googleusercontent.com/a-/AOh14Gh005haxMjrFbb7wyMViQ5I6PiDWt65BBj_nT-I8g', 'content': 'Jangan instal, akun saya dinonaktifkan secara sepihak, tidak ada pemberitahuan atau kesalahan apa yang saya lakukan, saya menggunakan aplikasi ini secara prosedural, tiba-tiba dinonaktifkan.. sudah capek-capek ngumpulin point, uninstal buang waktu aja..', 'score': 1, 'thumbsUpCount': 12, 'reviewCreatedVersion': '2.6.6', 'at': datetime.datetime(2022, 1, 27, 8, 2, 14), 'replyContent': 'Yang terhormat Faisal Alfatih,\\n\\nUntuk menyelidiki masalah Anda, kami berharap Anda dapat mengirimkan pertanyaan kepada kami melalui aplikasi kami karena kami tidak dapat mengungkapkan informasi pribadi apapun tentang akun Anda di sini untuk alasan keamanan.\\n\\nhttps://www.surveyon.com/inquiry\\n\\nTim surveyon Anda.', 'repliedAt': datetime.datetime(2022, 1, 27, 13, 43, 45)}, {'reviewId': 'gp:AOqpTOGx6xVcAGX35uQQzT2zN5jFyzCtrgeEEWm_rwR9QauouNmxFBOJTCPtszFKIS1x5dm4_RhvFVUYawfqvw', 'userName': 'Roy Roni', 'userImage': 'https://play-lh.googleusercontent.com/a-/AOh14Gi3GlnVLzg7Dp0TzooFPEvpHesskooAnRktL5gV', 'content': 'Aplikasi gak guna masa hari ini saya mau isi survey nya katanya \"THE CONNECTION TIME OUT\" Padahal koneksi internet gue stabil,... gw saranin buat yang baru tau nih aplikasi jangan didownload. Pertama kalian pake sih aman\" aja tapi lama\" kalian bahkan ngerasain betapa jelek nya aplikasi ini 😏', 'score': 1, 'thumbsUpCount': 5, 'reviewCreatedVersion': '2.7.6', 'at': datetime.datetime(2022, 2, 25, 6, 26, 46), 'replyContent': 'Yang terhormat Roy Roni\\nTerima kasih telah menggunakan surveyon\\nKami mohon maaf atas ketidaknyamanan Anda.\\n\\nJika Anda bermasalah segera hubungi kami dan menjelaskan detail permasalahannya sehingga kami dapat membantu Anda.\\nAnda dapat menghubungi kami melalui aplikasi surveyon.\\nhttps://www.surveyon.com/inquiry\\nTim surveyon', 'repliedAt': datetime.datetime(2022, 2, 28, 5, 22, 57)}, {'reviewId': 'gp:AOqpTOE66IxIQV6oUy0PNVd-hePJYnuOOkVARp9Prnl5pb36lK_EcUisQsg4cBxk-wA5Dwwq1hrKvyPc5WKDjw', 'userName': 'Yudi Lestaluhu', 'userImage': 'https://play-lh.googleusercontent.com/a-/AOh14GgsU-Fso-WpUu3Vc45wn-KpiI9CNN4OZMVvQ1gj', 'content': 'apk surveyon sangat bagus ringan dan cepat buat android dan servenya juga ocy buat menambah inspirasi kita semua', 'score': 5, 'thumbsUpCount': 0, 'reviewCreatedVersion': '2.7.6', 'at': datetime.datetime(2022, 3, 31, 11, 3, 56), 'replyContent': 'Yang terhormat Yudi Lestaluhu Terima kasih telah menggunakan surveyon Kami sangat senang mendapatkan pujian dari anda. Adalah merupakan kebahagian kami untuk bisa menolong anda. Bila anda membutuhkan bantuan lebih lanjut, hubungilah kami. Terima kasih telah bergabung dengan surveyon. Tim surveyon', 'repliedAt': datetime.datetime(2022, 4, 1, 5, 19, 17)}, {'reviewId': 'gp:AOqpTOHEfU2uJArpWXC0njS3EMfs1ucZaMSXi7C_RkFr6TI0FBPjADRDzmtES9AOgG6PrzQlWDGvRlbAUY0wiw', 'userName': 'Player', 'userImage': 'https://play-lh.googleusercontent.com/a/AATXAJzoc-q1LOXahMcIYsUrNG9oBPYm_XLLYHtYrvQX=mo', 'content': 'Aplikasi ini betulan bayar. Tadi baru aja masuk saldonya. Terima kasih.', 'score': 5, 'thumbsUpCount': 0, 'reviewCreatedVersion': '2.7.6', 'at': datetime.datetime(2022, 3, 28, 4, 48, 5), 'replyContent': 'Yang terhormat Player\\nTerima kasih telah menggunakan surveyon\\n\\nKami sangat senang mendapatkan pujian dari anda.\\n\\nAdalah merupakan kebahagian kami untuk bisa menolong anda.\\nBila anda membutuhkan bantuan lebih lanjut, hubungilah kami.\\nTerima kasih telah bergabung dengan surveyon.\\n\\nTim surveyon', 'repliedAt': datetime.datetime(2022, 3, 28, 6, 0, 52)}, {'reviewId': 'gp:AOqpTOHuMPfCL2Y4r8huodZqhrI7OGG_9JrC83gkbsASMxbWSd2yg3pZs2tKrbzOEqAR-g0sAj7-jBT8khHdfg', 'userName': 'Purwanti P', 'userImage': 'https://play-lh.googleusercontent.com/a/AATXAJzngJj6zJ60X3jSfrxwP5XLTYNYeHsqIEQHD5N3=mo', 'content': 'Aplikasi mudah dijalankan, sangat cocok untuk mengisi waktu luang dengan mengisi survey2 yang ada', 'score': 5, 'thumbsUpCount': 0, 'reviewCreatedVersion': '2.7.6', 'at': datetime.datetime(2022, 3, 10, 1, 35), 'replyContent': 'Yang terhormat Purwanti P\\nTerima kasih telah menggunakan surveyon\\n\\nKami sangat senang mendapatkan pujian dari anda.\\n\\nAdalah merupakan kebahagian kami untuk bisa menolong anda.\\nBila anda membutuhkan bantuan lebih lanjut, hubungilah kami.\\nTerima kasih telah bergabung dengan surveyon.\\n\\nTim surveyon', 'repliedAt': datetime.datetime(2022, 3, 10, 4, 29, 42)}, {'reviewId': 'gp:AOqpTOFHGu2SUMn4WBRQzGNwcrYRMzRjUhk14jMH7AZa1BQq2ewwcHSnlYvd4bhRmV9TK7qBjjxLIP7fWy__2w', 'userName': 'Dwi Pramana', 'userImage': 'https://play-lh.googleusercontent.com/a/AATXAJzNm7Zf1yMjc-Y7MNFkXId2jmd1XIVDB2pCups=mo', 'content': 'Elehhh penukaran ke paypal aja belum masuk\" sampe sekarang..greget banget capek\" nyurvey ehhh boong banget..disuruh hubungi cs tapi gak ada responn😑', 'score': 5, 'thumbsUpCount': 0, 'reviewCreatedVersion': '2.7.6', 'at': datetime.datetime(2022, 3, 11, 14, 2, 35), 'replyContent': 'Yang terhormat Dwi Pramana\\nTerima kasih telah menggunakan surveyon\\n\\nPembayaran tunai Paypal, biasanya membutuhkan waktu 7 - 10 hari.\\nUntuk mendapatkan informasi lebih detil, silakan kunjungi tautan berikut:\\nhttps://www.surveyon.com/point/exchange\\n\\nKami mengharapkan pengertian anda.\\n\\nTim surveyon', 'repliedAt': datetime.datetime(2021, 8, 9, 8, 58, 22)}, {'reviewId': 'gp:AOqpTOGlhJIrbcVZUPF64aGNqqhJoZWPPAYCMsWxHm4JIEz_VsEQVi6MM-Q_1y6NcicoDWiZoNz1El3bnYMZSQ', 'userName': 'dicky imron', 'userImage': 'https://play-lh.googleusercontent.com/a/AATXAJzUDeDb1uDO5yZzMaD9azHn6cgGbEUV5Nn_eYhN=mo', 'content': 'Mengapa selalu muncul the connection has timed out saat buka lucky survey? Padahal jaringan tidak ada masalah', 'score': 4, 'thumbsUpCount': 0, 'reviewCreatedVersion': '2.7.6', 'at': datetime.datetime(2022, 3, 17, 5, 58, 15), 'replyContent': 'Yang terhormat dicky imron\\nTerima kasih telah menggunakan surveyon\\nKami mohon maaf atas ketidaknyamanan Anda.\\n\\nJika Anda bermasalah segera hubungi kami dan menjelaskan detail permasalahannya sehingga kami dapat membantu Anda.\\nAnda dapat menghubungi kami melalui aplikasi surveyon.\\nhttps://www.surveyon.com/inquiry\\nTim surveyon', 'repliedAt': datetime.datetime(2022, 3, 21, 6, 28, 30)}, {'reviewId': 'gp:AOqpTOH1hWEcRZDaow8-Tbuo93QAnZdGPNxQ26ByTsyJOyV8ty-SlLWNTriccnI9zfVJ25iFZ0mTlJdg-_D55g', 'userName': 'vicky gaming', 'userImage': 'https://play-lh.googleusercontent.com/a/AATXAJyPNGbcFoJ-5SNZPboPMp6Hnln7mENz-eN4Xi65=mo', 'content': 'Udah 1 minggu lebih nuker poin buat dapatin pulsa 10k, sampai saat ini ga ada masuknya tuh pulsa, aplikasi miskin, ampas', 'score': 1, 'thumbsUpCount': 1, 'reviewCreatedVersion': '2.7.6', 'at': datetime.datetime(2022, 3, 13, 21, 33, 41), 'replyContent': 'Yang terhormat vicky gaming\\n\\nSilakan kunjungi link ini untuk mendapatkan informasi detil mengenai hadiah voucher:\\nhttps://www.surveyon.com/point/exchange/ecoupon\\nPermintaan penukaran Anda akan diselesaikan dalam 7-10 hari.\\n\\nJika Anda masih membutuhkan bantuan silakan menghubungi kami kembali.\\n\\nTim surveyon', 'repliedAt': datetime.datetime(2022, 3, 14, 8, 50, 5)}, {'reviewId': 'gp:AOqpTOFMFqwsy1Ro1CypeMNAGlvgg3Ka6FjGx8Wez6qO01rXh4merPTQT3_ueJmx4QLOOD1Q4XNLMobsrovCHg', 'userName': 'Rohhana Rohhana', 'userImage': 'https://play-lh.googleusercontent.com/a/AATXAJwF1j1VcV0bN5fTZqyA19lGdMR9jayORyhjSISa=mo', 'content': 'Terbaik, survei lancar apalagi pembayaran nya. Lancar banget👍👍', 'score': 5, 'thumbsUpCount': 0, 'reviewCreatedVersion': '2.7.6', 'at': datetime.datetime(2022, 3, 14, 23, 47, 17), 'replyContent': 'Yang terhormat Rohhana Rohhana\\nTerima kasih telah menggunakan surveyon\\n\\nKami sangat senang mendapatkan pujian dari anda.\\n\\nAdalah merupakan kebahagian kami untuk bisa menolong anda.\\nBila anda membutuhkan bantuan lebih lanjut, hubungilah kami.\\nTerima kasih telah bergabung dengan surveyon.\\n\\nTim surveyon', 'repliedAt': datetime.datetime(2022, 3, 15, 6, 31, 44)}, {'reviewId': 'gp:AOqpTOExfn7kg9OTwDd7h7nRqRKFkbhG6dGzqgNzIauWur5XyDKSJMeYinsu37SEp-3it_t8ZnkvuC-ANm0noA', 'userName': 'Fangga Frandika', 'userImage': 'https://play-lh.googleusercontent.com/a-/AOh14GgoOcM_qSrIkDwSK9ov4NyBDJ_JWISQvQQ9oP26KA', 'content': 'Kak tolong ini penjelasanya kenapa ko tiba tiba akun saya di nonaktifkan padahal saya tidak melakukan apa apa .orang padahal saya aja menggunakan aplikasi ini jarang', 'score': 5, 'thumbsUpCount': 0, 'reviewCreatedVersion': '2.7.6', 'at': datetime.datetime(2022, 3, 18, 0, 53, 37), 'replyContent': 'Yang terhormat Fangga Frandika\\n\\nUntuk menyelidiki masalah Anda, kami berharap Anda dapat mengirimkan pertanyaan kepada kami melalui aplikasi kami karena kami tidak dapat mengungkapkan informasi pribadi apapun tentang akun Anda di sini untuk alasan keamanan.\\n\\nhttps://www.surveyon.com/inquiry\\n\\nTim surveyon Anda.', 'repliedAt': datetime.datetime(2022, 3, 21, 6, 16, 2)}, {'reviewId': 'gp:AOqpTOH2rAZWFTYUE2qW6g6nJLZQfsSWlC8i89_sxUspYcEhJFz5ifVEqPrSj61FnsXOufszD6p2UQOdrUBOTw', 'userName': 'Iqbal Al Hakim', 'userImage': 'https://play-lh.googleusercontent.com/a-/AOh14Gjp_i-xyJssv5gogQMsHahtUfkvCfOWL9VjGdTVbA', 'content': 'Aplikasi minta update..sudah diupdate tidak bisa terbuka dan muncul notifikasi update lagi..padahal saya sudah update..dah lah jadi males', 'score': 1, 'thumbsUpCount': 0, 'reviewCreatedVersion': '2.6.6', 'at': datetime.datetime(2022, 2, 24, 10, 10, 15), 'replyContent': 'Yang terhormat Iqbal Al Hakim Terima kasih telah menggunakan surveyon Kami mohon maaf atas ketidaknyamanan Anda. Jika Anda bermasalah segera hubungi kami dan menjelaskan detail permasalahannya sehingga kami dapat membantu Anda. Anda dapat menghubungi kami melalui aplikasi surveyon. https://www.surveyon.com/inquiry Tim surveyon', 'repliedAt': datetime.datetime(2022, 3, 2, 4, 34, 28)}, {'reviewId': 'gp:AOqpTOFx92oTgLOw23BQ81dchQ3mVlsaHD9samowP_20jg_gv401t3EcVwfcOW9myxlGnoHGH2DF5_y4IOSTzA', 'userName': 'Reza Nur Qolby', 'userImage': 'https://play-lh.googleusercontent.com/a-/AOh14GgPyukenNim8qNVFRpMV70jV-EHXZoknaydZofbfw', 'content': 'Pertama kali mau tukar poin dengan gopay. Ternyata tidak masuk-masuk uang yang seharusnya. Sangat disayangkan poin yang sudah saya kumpulkan terbuang sia-sia begitu saja. Namun, untuk kedua kalinya saya menukar poin, tiga hari setelah ditikar akhirnya terkirim juga gopaynya. Semoga kedepannya tidak ada kejadian seperti yang saya alami. Tolong diperbaiki lagi ya.', 'score': 5, 'thumbsUpCount': 22, 'reviewCreatedVersion': '2.6.6', 'at': datetime.datetime(2022, 1, 24, 15, 38), 'replyContent': 'Yang terhormat Reza Nur Qolby\\nTerima kasih telah menggunakan surveyon\\n\\nSilakan hubungi Layanan pendukung surveyon,\\ndan silakan berikan rincian yang diperlukan dari pertukaran poin Anda,\\nsehingga kami dapat menyelidiki dan memberikan respons yang lebih baik.\\n\\nKami mohon maaf atas ketidaknyamanan yang ditimbulkan.\\n\\nTim surveyon', 'repliedAt': datetime.datetime(2022, 1, 25, 8, 40, 9)}, {'reviewId': 'gp:AOqpTOFNRUKBF16cinCC0h5k_7MfFh3GGwa-aY9157rlW4algYAjqChYAb6s5xXwoLkydGnNxaXMMDOAF2Sk1w', 'userName': 'Saeful Maarif', 'userImage': 'https://play-lh.googleusercontent.com/a-/AOh14GhTRiywPvaFRhbmQc8tzxjvIWKxEL8UIThnTXtM9Q', 'content': 'Bagus, Aplikasi nya asli membayar tapi sayangnya nomor yang mau diisi nya gk bisa diganti ya?? Harus nomer itu terus?', 'score': 5, 'thumbsUpCount': 3, 'reviewCreatedVersion': '2.7.6', 'at': datetime.datetime(2022, 2, 24, 11, 52, 46), 'replyContent': 'Yang terhormat Saeful Maarif\\n\\nUntuk menyelidiki masalah Anda, kami berharap Anda dapat mengirimkan pertanyaan kepada kami melalui aplikasi kami karena kami tidak dapat mengungkapkan informasi pribadi apapun tentang akun Anda di sini untuk alasan keamanan.\\n\\nhttps://www.surveyon.com/inquiry\\n\\nTim surveyon Anda.', 'repliedAt': datetime.datetime(2022, 3, 4, 6, 43, 52)}, {'reviewId': 'gp:AOqpTOHINwhZtVMbr8wh25mKTiAqEND8XxhPkWdXqjTNBfy0Sfip73ruGWF8nUj0PTuBcep7wHNgRUgDToFJNw', 'userName': 'yogi Bedagas', 'userImage': 'https://play-lh.googleusercontent.com/a-/AOh14GhYshWJ7rM9qv6Vfv6GmaYbQmOUE6T5ki5H2pmXKw', 'content': 'Saya sangat suka dengan surveyon karena sangat mudah untuk mendapatkan poin semoga untuk kedepaannya surveyon menjadi lebih sukses ,berkembang dan semakin banyak partnernya', 'score': 5, 'thumbsUpCount': 0, 'reviewCreatedVersion': '2.7.6', 'at': datetime.datetime(2022, 3, 4, 9, 17, 34), 'replyContent': 'Yang terhormat yogi Bedagas Terima kasih telah menggunakan surveyon Kami sangat senang mendapatkan pujian dari anda. Adalah merupakan kebahagian kami untuk bisa menolong anda. Bila anda membutuhkan bantuan lebih lanjut, hubungilah kami. Terima kasih telah bergabung dengan surveyon. Tim surveyon', 'repliedAt': datetime.datetime(2022, 3, 9, 4, 40, 25)}, {'reviewId': 'gp:AOqpTOFY4HSpzG_Gh68LXw2m3nCrAWaCsbR5o51SyeCviX3fyGpFrRZ4rrF51uNg96Fnty5nNPTE9v1MDfsAGA', 'userName': 'Hana kyuline', 'userImage': 'https://play-lh.googleusercontent.com/a-/AOh14Gi5HDRMx6twGwjcGnS8t4L8ZxAgWWtptlKPV8lOhx8', 'content': 'Udah tuker pulsa 10rb an 4 kali di sini. Emang lama sih masuknya. Tp standar sih 14hr kerja.. Lebih banyakan survei nya donk kak biar bisa dapat banyak. He', 'score': 5, 'thumbsUpCount': 0, 'reviewCreatedVersion': '2.7.6', 'at': datetime.datetime(2022, 2, 25, 8, 17, 40), 'replyContent': 'Yang terhormat Hana kyuline Terima kasih telah menggunakan surveyon Kami sangat senang mendapatkan pujian dari anda. Adalah merupakan kebahagian kami untuk bisa menolong anda. Bila anda membutuhkan bantuan lebih lanjut, hubungilah kami. Terima kasih telah bergabung dengan surveyon. Tim surveyon', 'repliedAt': datetime.datetime(2022, 2, 28, 5, 47, 49)}, {'reviewId': 'gp:AOqpTOGXplU6D1ZBmC9ks3QIjqZ_tn1WEUp0m9aFJa24BCCq9PEJiWPLUiMT_ie8jCtOHVNhHRXbRdI3GhBmsA', 'userName': 'risma milik hari', 'userImage': 'https://play-lh.googleusercontent.com/a-/AOh14GhmhQANw43Xjh5R9d2zZmR1Ocm2-Z_LAwbQ_fwj', 'content': 'Saya sudah berkali-kali melakukan penarikan dan sukses. Berarti surveyon benar\" Terbukti membayar. Terimakasih surveyon.', 'score': 5, 'thumbsUpCount': 1, 'reviewCreatedVersion': '2.7.6', 'at': datetime.datetime(2022, 2, 24, 12, 53, 54), 'replyContent': 'Yang terhormat risma milik hari Terima kasih telah menggunakan surveyon Kami sangat senang mendapatkan pujian dari anda. Adalah merupakan kebahagian kami untuk bisa menolong anda. Bila anda membutuhkan bantuan lebih lanjut, hubungilah kami. Terima kasih telah bergabung dengan surveyon. Tim surveyon', 'repliedAt': datetime.datetime(2021, 7, 28, 9, 48, 32)}, {'reviewId': 'gp:AOqpTOG8halX__jh1uPGvbq-6gUZuwfWCzfMSIOvrRm2_mAdUS6_X5QrEWekb4bk3cdxhZpVQgm5AtcoHLjyVA', 'userName': 'Ibni Abyan', 'userImage': 'https://play-lh.googleusercontent.com/a/AATXAJz6bZFP4x9sSwQyGHZBkhgMbd3MRN87-SA4rO7c=mo', 'content': 'pas awal ngisi² survey gampang trs cepet dpt poinnya,eh pas mau isi lagi tiba² gabisa terus keterangannya udah pernah ngisi padahal belom:(', 'score': 4, 'thumbsUpCount': 0, 'reviewCreatedVersion': '2.7.6', 'at': datetime.datetime(2022, 2, 24, 11, 40, 49), 'replyContent': 'Yang terhormat Ibni Abyan\\n\\nTerima kasih telah menggunakan surveyon\\n\\nUntuk menyelidiki ini lebih lanjut, berikan nomor survei dan detail lebih lanjut tentang masalah ini dan kirimkan melalui Layanan Pelanggan surveyon pada aplikasi:\\n\\nhttps://www.surveyon.com/inquiry\\n\\nTim surveyon', 'repliedAt': datetime.datetime(2022, 3, 2, 4, 31, 45)}, {'reviewId': 'gp:AOqpTOH3FpkK8jcsxOgJ17LTbzDK-cOyjMBwb0D93vH1A62gZI8ljRbg9MuSfgAKJ2YHNo5GB3MfVt5QctEUlQ', 'userName': 'Kuliner Rindu', 'userImage': 'https://play-lh.googleusercontent.com/a-/AOh14Ggz2nZHS0RL4cigAMelWE9QDKFcKj-HmLtttouUfQ', 'content': 'Surveyor, trimikasih sudah membayar.. pokok aplikasi yang bagus dan top deh.. nyesel klaw gak download 😍👍', 'score': 5, 'thumbsUpCount': 0, 'reviewCreatedVersion': '2.7.6', 'at': datetime.datetime(2022, 2, 28, 15, 4, 24), 'replyContent': 'Yang terhormat Kuliner Rindu Terima kasih telah menggunakan surveyon Kami sangat senang mendapatkan pujian dari anda. Adalah merupakan kebahagian kami untuk bisa menolong anda. Bila anda membutuhkan bantuan lebih lanjut, hubungilah kami. Terima kasih telah bergabung dengan surveyon. Tim surveyon', 'repliedAt': datetime.datetime(2022, 3, 1, 8, 32, 33)}, {'reviewId': 'gp:AOqpTOHNGl16CklQh-KRr3OawW8ZTIHRDR0xrbuTwXPAzGlXswfrxuzMg7RsIAUPtWCfoNZo-bywwSJPFGDXYw', 'userName': 'Muhamad Maridi', 'userImage': 'https://play-lh.googleusercontent.com/a/AATXAJyGK3N6kk8vsDPRMLT0f7F-pOJbcNUl2pma9Iau=mo', 'content': 'Terimakasih surveyon pulsa nya sudah masuk,kedepan ny tolong dong survey nya jangan cuma hari rabu saja yang bisa di kerjakan hari yang lain gak bisa,dan untuk penukaran pulsa mohon di percepat.', 'score': 4, 'thumbsUpCount': 5, 'reviewCreatedVersion': '2.7.6', 'at': datetime.datetime(2022, 2, 28, 6, 44, 34), 'replyContent': 'Yang terhormat Muhamad Maridi\\n\\nTerima kasih telah menggunakan surveyon\\n\\nKami sangat mengusahakan mengirim survei sebanyak mungkin kepada Anda.\\nNamun demikian, kami tidak bisa menjamin tiap hari ada survei.\\nKami mohon pengertiannya.\\n\\nTim surveyon.', 'repliedAt': datetime.datetime(2021, 12, 28, 8, 39, 56)}, {'reviewId': 'gp:AOqpTOHKb7-8upnGAWZi0gacvXSyg_MUdBA8PE7a9Xw-insMIG7mFvfWzbEKZdxcK8qmj9o5UPVdaLhAeQQkPQ', 'userName': 'Zain Store', 'userImage': 'https://play-lh.googleusercontent.com/a/AATXAJw70LlZlgiQqcfc-8FUIzPZ1sVcl3x-9mi0Dz3x=mo', 'content': 'Terimakasih surveyon saya telah menarik di aplikasi ini dan hasilnya terbukti membayat. Yok tunggu apalagi buruan Download surveyon!!!', 'score': 5, 'thumbsUpCount': 0, 'reviewCreatedVersion': '2.7.6', 'at': datetime.datetime(2022, 3, 4, 10, 44, 23), 'replyContent': 'Yang terhormat Zain Store Terima kasih telah menggunakan surveyon Kami sangat senang mendapatkan pujian dari anda. Adalah merupakan kebahagian kami untuk bisa menolong anda. Bila anda membutuhkan bantuan lebih lanjut, hubungilah kami. Terima kasih telah bergabung dengan surveyon. Tim surveyon', 'repliedAt': datetime.datetime(2022, 3, 7, 7, 43, 43)}, {'reviewId': 'gp:AOqpTOFzbuzsG0sBfvCtkUwbVP4TxfVsqWYMmOxiTnE-Fpd2t6ThbXYZWAYQnQ3lN-i5kI75qTvpQdOswHjWNg', 'userName': 'zain aguero', 'userImage': 'https://play-lh.googleusercontent.com/a/AATXAJyBvfLS_4mqdFf_yJvIFKLrA9GjHlnfiG4cOdv-=mo', 'content': 'Kenapa aku nukar point ke pulsa gk masuk2 udh 1 bulan lebih..Biasanya juga masuk di pertengahan bulan, ini koq gk ada sampai skrg..Mohon ditindak lanjuti min jgn buat kecewa Terimakasih', 'score': 4, 'thumbsUpCount': 1, 'reviewCreatedVersion': '2.7.6', 'at': datetime.datetime(2022, 2, 26, 21, 57, 2), 'replyContent': 'Yang terhormat zain aguero\\n\\nSilakan kunjungi link ini untuk mendapatkan informasi detil mengenai hadiah voucher:\\nhttps://www.surveyon.com/point/exchange/ecoupon\\nPermintaan penukaran Anda akan diselesaikan dalam 7-10 hari.\\n\\nJika Anda masih membutuhkan bantuan silakan menghubungi kami kembali.\\n\\nTim surveyon', 'repliedAt': datetime.datetime(2022, 2, 28, 2, 27, 41)}, {'reviewId': 'gp:AOqpTOEZE_NnejSdQfuiNWRn6jrNieDOpITInMJQ-t0uyG0lgI38DflvhWVcKhx3fMu3_TPyzeyvPgWwEcixXA', 'userName': 'Ibrahim Salim Taqiyuddin', 'userImage': 'https://play-lh.googleusercontent.com/a-/AOh14GgD5MT49Vh0sgsvIyUhozrCOF8CYNqJXcgS2BcApQ', 'content': 'aplikasi surveyon ini sangat bagus... saya bisa meluangkan waktu untuk menjawab survey dan mendapatkan uang... terimakasih surveyon 😁', 'score': 5, 'thumbsUpCount': 0, 'reviewCreatedVersion': '2.7.6', 'at': datetime.datetime(2022, 2, 24, 8, 1, 21), 'replyContent': 'Yang terhormat Ibrahim Salim Taqiyuddin Terima kasih telah menggunakan surveyon Kami sangat senang mendapatkan pujian dari anda. Adalah merupakan kebahagian kami untuk bisa menolong anda. Bila anda membutuhkan bantuan lebih lanjut, hubungilah kami. Terima kasih telah bergabung dengan surveyon. Tim surveyon', 'repliedAt': datetime.datetime(2022, 3, 16, 5, 31, 9)}, {'reviewId': 'gp:AOqpTOGE_fyilSEkANqAKnjUzdnNcUlzV_VKB1LPBfKaWjxHHIM7Lu_c0FsCv1blH-KO3Yljrgz54XlWKfTDqQ', 'userName': 'nina Azman', 'userImage': 'https://play-lh.googleusercontent.com/a/AATXAJx4BJT4KR972mewONHItjuuu0IrTsnHILzR4Nbk=mo', 'content': 'Kasih bintang 3 dulu.Setiap ada survey dengan poin besar,misalnya 5000 point dan 9000 poin,baru jawab 3 pertanyaan pasti langsung selesai dan ada pemberitahuan survey telah penuh,dan hanya dikasih 200 poin.Maksudnya apa ni ya survey on?', 'score': 3, 'thumbsUpCount': 5, 'reviewCreatedVersion': '2.7.6', 'at': datetime.datetime(2022, 2, 25, 1, 6, 12), 'replyContent': 'Yang terhormat nina Azman\\n\\nTerima kasih telah menggunakan surveyon\\n\\nUntuk menyelidiki ini lebih lanjut, berikan nomor survei dan detail lebih lanjut tentang masalah ini dan kirimkan melalui Layanan Pelanggan surveyon pada aplikasi:\\n\\nhttps://www.surveyon.com/inquiry\\n\\nTim surveyon', 'repliedAt': datetime.datetime(2022, 2, 28, 5, 29, 32)}, {'reviewId': 'gp:AOqpTOH3hpMi4C6HAykhS74ugT2RR-sMXcgv-eV2U7SiXfth1QSVM7jvvPRByFKWDXKhJOcJiQ5sAu21-bzZ0w', 'userName': 'Widi a', 'userImage': 'https://play-lh.googleusercontent.com/a-/AOh14GgFTP3s0LcrrY4m6KIzz7H68N3m7hSsyauF5GoGqw', 'content': 'Bagus, aplikasinya mudah di pahami tolong perbanyak survei setiap harinya', 'score': 5, 'thumbsUpCount': 0, 'reviewCreatedVersion': '2.7.6', 'at': datetime.datetime(2022, 3, 4, 9, 32, 55), 'replyContent': 'Yang terhormat Widi a Terima kasih telah menggunakan surveyon Kami sangat senang mendapatkan pujian dari anda. Adalah merupakan kebahagian kami untuk bisa menolong anda. Bila anda membutuhkan bantuan lebih lanjut, hubungilah kami. Terima kasih telah bergabung dengan surveyon. Tim surveyon', 'repliedAt': datetime.datetime(2022, 3, 8, 10, 29, 21)}, {'reviewId': 'gp:AOqpTOGJ2722yTKrBPlXukwAIgY0bTPfF7kWQXkunGSq0t9uPIdghInUOqDvmBScXThIHxsHWiQeHWF6j1o8WQ', 'userName': 'ade indra wahyudi', 'userImage': 'https://play-lh.googleusercontent.com/a-/AOh14Gj28JnwQOM07nmxvtuvzZHxmtYZTyzEUgvuS6iYXQ', 'content': 'Pendapat saya untuk surveyon : 1 . Tolong POIN di tingkatkan 2 . Untuk surve tolong jangan terlalu panjang , kalo pun harus panjang surve nya tolong berikan poin nyata di atas 10000 poin 3 . Tolong pas Withdraw di percepat itu saja terima kasih SURVEYON #SUKSESslaluAmieen', 'score': 5, 'thumbsUpCount': 46, 'reviewCreatedVersion': '2.6.6', 'at': datetime.datetime(2022, 2, 3, 17, 56, 10), 'replyContent': 'Yang terhormat ade indra wahyudi Terima kasih telah menggunakan surveyon Kami sangat senang mendapatkan pujian dari anda. Adalah merupakan kebahagian kami untuk bisa menolong anda. Bila anda membutuhkan bantuan lebih lanjut, hubungilah kami. Terima kasih telah bergabung dengan surveyon. Tim surveyon', 'repliedAt': datetime.datetime(2022, 2, 4, 3, 32, 42)}, {'reviewId': 'gp:AOqpTOEYtYAYpmMQDkVwv6rvrdUkFe8MDlsfIBbzMB7-2I_J6ym_Yqoz12cwsVks2YlFoUzQooTjKbl9DiPsAQ', 'userName': 'Nurkholifahh', 'userImage': 'https://play-lh.googleusercontent.com/a-/AOh14Gh2T9z8ML56cMH8LKhFk1BpOwezGDhKhBrQTDtIxw', 'content': 'Apk nya bagus saya juga sudah narik beberapa kali taip ya harus dabar nunggu survey nya gak tiap hari ada, tapi belakangan ini saya mau tarik lagi nomernya tidak bisa di rubah kalau nomernya sudah mati kan percuma saya udah update juga gak bisa2', 'score': 4, 'thumbsUpCount': 6, 'reviewCreatedVersion': '2.6.6', 'at': datetime.datetime(2022, 2, 9, 5, 31, 24), 'replyContent': 'Yang terhormat Nurkholifahh\\nTerima kasih telah menggunakan surveyon\\n\\nKami sangat senang mendapatkan pujian dari anda.\\n\\nAdalah merupakan kebahagian kami untuk bisa menolong anda.\\nBila anda membutuhkan bantuan lebih lanjut, hubungilah kami.\\nTerima kasih telah bergabung dengan surveyon.\\n\\nTim surveyon', 'repliedAt': datetime.datetime(2022, 2, 9, 7, 19, 46)}, {'reviewId': 'gp:AOqpTOHZDA3CSL7XbaFzUeslW7NG8Avm4UsWjESCoQjQ7E6yZWP95HL6Gyek_t-8Yap_V_7vYH5-co39AvEYcQ', 'userName': 'Desy Ramadhani', 'userImage': 'https://play-lh.googleusercontent.com/a-/AOh14GinyHyCMintkzi8W32agjPHXoYGIGi_L9QiWn6ybA', 'content': 'Mudah digunakan, masih mencoba mengumpulkan poin sedikit demi sedikit. Sudah bagus, namun kalau bisa survey lebih diperbanyak lagi hehe', 'score': 5, 'thumbsUpCount': 0, 'reviewCreatedVersion': '2.6.6', 'at': datetime.datetime(2022, 1, 20, 12, 52, 57), 'replyContent': 'Yang terhormat Desy Ramadhani Terima kasih telah menggunakan surveyon Kami sangat senang mendapatkan pujian dari anda. Adalah merupakan kebahagian kami untuk bisa menolong anda. Bila anda membutuhkan bantuan lebih lanjut, hubungilah kami. Terima kasih telah bergabung dengan surveyon. Tim surveyon', 'repliedAt': datetime.datetime(2022, 1, 21, 4, 24, 38)}, {'reviewId': 'gp:AOqpTOFWyWYKNQvWxuvWdY441-VKKrOGQahXABiVlRhNZN5rl-KpFF5BclPY5CbihrQHa29hl3-0n8ErWMVDBA', 'userName': 'Siti Nur Hasana', 'userImage': 'https://play-lh.googleusercontent.com/a-/AOh14Gg65oDgwbdoLX7vJ1rZoAzMLFTg7FEZ31gUus8-cA', 'content': 'Bagus banget apkx walaupun agak lama mendapatkan poin tak apa apa...namanya juga cari duit,saya sudah buktikan dengan menarik 11.000poin ditukar ke dana 10k dan berhasil,penarikannya -lebih seminggu', 'score': 5, 'thumbsUpCount': 0, 'reviewCreatedVersion': '2.6.6', 'at': datetime.datetime(2022, 2, 25, 8, 30), 'replyContent': 'Yang terhormat Siti Nur Hasana Terima kasih telah menggunakan surveyon Kami sangat senang mendapatkan pujian dari anda. Adalah merupakan kebahagian kami untuk bisa menolong anda. Bila anda membutuhkan bantuan lebih lanjut, hubungilah kami. Terima kasih telah bergabung dengan surveyon. Tim surveyon', 'repliedAt': datetime.datetime(2022, 2, 28, 5, 48, 33)}]\n"
          ]
        }
      ],
      "source": [
        "print(scrapreview)\n",
        "app_reviews_df = pd.DataFrame(scrapreview)\n",
        "app_reviews_df.to_csv('/content/drive/MyDrive/Dataset/reviewsurveyon.csv', index=None, header=True)"
      ]
    },
    {
      "cell_type": "markdown",
      "metadata": {
        "id": "fwC191hwIvgy"
      },
      "source": [
        "## **Input Data Training**"
      ]
    },
    {
      "cell_type": "markdown",
      "metadata": {
        "id": "5SFFJmodyEtW"
      },
      "source": [
        "Import library"
      ]
    },
    {
      "cell_type": "code",
      "execution_count": null,
      "metadata": {
        "id": "mcWAq7BvyGxX"
      },
      "outputs": [],
      "source": [
        "import pandas as pd\n",
        "import numpy as np"
      ]
    },
    {
      "cell_type": "markdown",
      "metadata": {
        "id": "7eP7sgjLxwlC"
      },
      "source": [
        "Import Dataset"
      ]
    },
    {
      "cell_type": "code",
      "execution_count": null,
      "metadata": {
        "colab": {
          "base_uri": "https://localhost:8080/",
          "height": 617
        },
        "id": "pCC5R68cx836",
        "outputId": "c8b70d5a-30a3-4e24-c0b3-9c0805bc5cfc"
      },
      "outputs": [
        {
          "data": {
            "text/html": [
              "\n",
              "  <div id=\"df-02aad2d3-f153-43ad-92fb-991fd8f047b7\">\n",
              "    <div class=\"colab-df-container\">\n",
              "      <div>\n",
              "<style scoped>\n",
              "    .dataframe tbody tr th:only-of-type {\n",
              "        vertical-align: middle;\n",
              "    }\n",
              "\n",
              "    .dataframe tbody tr th {\n",
              "        vertical-align: top;\n",
              "    }\n",
              "\n",
              "    .dataframe thead th {\n",
              "        text-align: right;\n",
              "    }\n",
              "</style>\n",
              "<table border=\"1\" class=\"dataframe\">\n",
              "  <thead>\n",
              "    <tr style=\"text-align: right;\">\n",
              "      <th></th>\n",
              "      <th>reviewId</th>\n",
              "      <th>userName</th>\n",
              "      <th>userImage</th>\n",
              "      <th>content</th>\n",
              "      <th>score</th>\n",
              "      <th>thumbsUpCount</th>\n",
              "      <th>reviewCreatedVersion</th>\n",
              "      <th>at</th>\n",
              "      <th>replyContent</th>\n",
              "      <th>repliedAt</th>\n",
              "    </tr>\n",
              "  </thead>\n",
              "  <tbody>\n",
              "    <tr>\n",
              "      <th>0</th>\n",
              "      <td>gp:AOqpTOE3xG2tinWNCGfRplATUiPlj480OE_eErNKSQl...</td>\n",
              "      <td>ARuMI</td>\n",
              "      <td>https://play-lh.googleusercontent.com/a-/AOh14...</td>\n",
              "      <td>Memang beneran membayar koq, cm ada beberapa k...</td>\n",
              "      <td>4</td>\n",
              "      <td>66</td>\n",
              "      <td>2.7.6</td>\n",
              "      <td>2022-03-01 16:39:09</td>\n",
              "      <td>Yang terhormat ARuMI\\nTerima kasih telah mengg...</td>\n",
              "      <td>2022-03-02 04:18:53</td>\n",
              "    </tr>\n",
              "    <tr>\n",
              "      <th>1</th>\n",
              "      <td>gp:AOqpTOE3fh2EX8gccaCQ3B1UUQow0kvl_TSPzuyb__W...</td>\n",
              "      <td>Ahmad Rozali</td>\n",
              "      <td>https://play-lh.googleusercontent.com/a-/AOh14...</td>\n",
              "      <td>Bagus banget meskipun survey nya jarang keluar...</td>\n",
              "      <td>5</td>\n",
              "      <td>72</td>\n",
              "      <td>2.7.6</td>\n",
              "      <td>2022-03-07 13:37:13</td>\n",
              "      <td>Yang terhormat Ahmad Rozali Terima kasih telah...</td>\n",
              "      <td>2022-02-18 09:05:47</td>\n",
              "    </tr>\n",
              "    <tr>\n",
              "      <th>2</th>\n",
              "      <td>gp:AOqpTOGMSXahPrhjrH1H6dVKv2lCKH8hwKr2EhOW3ln...</td>\n",
              "      <td>Dilla Fallen</td>\n",
              "      <td>https://play-lh.googleusercontent.com/a-/AOh14...</td>\n",
              "      <td>Nie aplikasi bagus, recommended banget, walaup...</td>\n",
              "      <td>5</td>\n",
              "      <td>54</td>\n",
              "      <td>2.7.6</td>\n",
              "      <td>2022-02-25 03:02:11</td>\n",
              "      <td>Yang terhormat Dilla Fallen Terima kasih telah...</td>\n",
              "      <td>2022-03-02 04:22:25</td>\n",
              "    </tr>\n",
              "    <tr>\n",
              "      <th>3</th>\n",
              "      <td>gp:AOqpTOECqRkLY52IBGiFJxiy_lS7Dz8wA2wPnw41inB...</td>\n",
              "      <td>Chaerur Rozikin</td>\n",
              "      <td>https://play-lh.googleusercontent.com/a/AATXAJ...</td>\n",
              "      <td>Aplikasi KUCLUK...!! cuma pas baru didownload ...</td>\n",
              "      <td>1</td>\n",
              "      <td>5</td>\n",
              "      <td>2.7.6</td>\n",
              "      <td>2022-03-30 08:21:38</td>\n",
              "      <td>Yang terhormat Chaerur Rozikin\\nTerima kasih t...</td>\n",
              "      <td>2022-03-30 08:50:59</td>\n",
              "    </tr>\n",
              "    <tr>\n",
              "      <th>4</th>\n",
              "      <td>gp:AOqpTOGpibg7w8A6q0E7EPnFaRhHPkC1dlzxizlCEwl...</td>\n",
              "      <td>Ziaz Zie</td>\n",
              "      <td>https://play-lh.googleusercontent.com/a-/AOh14...</td>\n",
              "      <td>Survey nya terbukti membayar cuman harus sabar...</td>\n",
              "      <td>5</td>\n",
              "      <td>2</td>\n",
              "      <td>2.7.6</td>\n",
              "      <td>2022-03-28 06:48:56</td>\n",
              "      <td>Yang terhormat Ziaz Zie Terima kasih telah men...</td>\n",
              "      <td>2022-03-29 04:35:27</td>\n",
              "    </tr>\n",
              "  </tbody>\n",
              "</table>\n",
              "</div>\n",
              "      <button class=\"colab-df-convert\" onclick=\"convertToInteractive('df-02aad2d3-f153-43ad-92fb-991fd8f047b7')\"\n",
              "              title=\"Convert this dataframe to an interactive table.\"\n",
              "              style=\"display:none;\">\n",
              "        \n",
              "  <svg xmlns=\"http://www.w3.org/2000/svg\" height=\"24px\"viewBox=\"0 0 24 24\"\n",
              "       width=\"24px\">\n",
              "    <path d=\"M0 0h24v24H0V0z\" fill=\"none\"/>\n",
              "    <path d=\"M18.56 5.44l.94 2.06.94-2.06 2.06-.94-2.06-.94-.94-2.06-.94 2.06-2.06.94zm-11 1L8.5 8.5l.94-2.06 2.06-.94-2.06-.94L8.5 2.5l-.94 2.06-2.06.94zm10 10l.94 2.06.94-2.06 2.06-.94-2.06-.94-.94-2.06-.94 2.06-2.06.94z\"/><path d=\"M17.41 7.96l-1.37-1.37c-.4-.4-.92-.59-1.43-.59-.52 0-1.04.2-1.43.59L10.3 9.45l-7.72 7.72c-.78.78-.78 2.05 0 2.83L4 21.41c.39.39.9.59 1.41.59.51 0 1.02-.2 1.41-.59l7.78-7.78 2.81-2.81c.8-.78.8-2.07 0-2.86zM5.41 20L4 18.59l7.72-7.72 1.47 1.35L5.41 20z\"/>\n",
              "  </svg>\n",
              "      </button>\n",
              "      \n",
              "  <style>\n",
              "    .colab-df-container {\n",
              "      display:flex;\n",
              "      flex-wrap:wrap;\n",
              "      gap: 12px;\n",
              "    }\n",
              "\n",
              "    .colab-df-convert {\n",
              "      background-color: #E8F0FE;\n",
              "      border: none;\n",
              "      border-radius: 50%;\n",
              "      cursor: pointer;\n",
              "      display: none;\n",
              "      fill: #1967D2;\n",
              "      height: 32px;\n",
              "      padding: 0 0 0 0;\n",
              "      width: 32px;\n",
              "    }\n",
              "\n",
              "    .colab-df-convert:hover {\n",
              "      background-color: #E2EBFA;\n",
              "      box-shadow: 0px 1px 2px rgba(60, 64, 67, 0.3), 0px 1px 3px 1px rgba(60, 64, 67, 0.15);\n",
              "      fill: #174EA6;\n",
              "    }\n",
              "\n",
              "    [theme=dark] .colab-df-convert {\n",
              "      background-color: #3B4455;\n",
              "      fill: #D2E3FC;\n",
              "    }\n",
              "\n",
              "    [theme=dark] .colab-df-convert:hover {\n",
              "      background-color: #434B5C;\n",
              "      box-shadow: 0px 1px 3px 1px rgba(0, 0, 0, 0.15);\n",
              "      filter: drop-shadow(0px 1px 2px rgba(0, 0, 0, 0.3));\n",
              "      fill: #FFFFFF;\n",
              "    }\n",
              "  </style>\n",
              "\n",
              "      <script>\n",
              "        const buttonEl =\n",
              "          document.querySelector('#df-02aad2d3-f153-43ad-92fb-991fd8f047b7 button.colab-df-convert');\n",
              "        buttonEl.style.display =\n",
              "          google.colab.kernel.accessAllowed ? 'block' : 'none';\n",
              "\n",
              "        async function convertToInteractive(key) {\n",
              "          const element = document.querySelector('#df-02aad2d3-f153-43ad-92fb-991fd8f047b7');\n",
              "          const dataTable =\n",
              "            await google.colab.kernel.invokeFunction('convertToInteractive',\n",
              "                                                     [key], {});\n",
              "          if (!dataTable) return;\n",
              "\n",
              "          const docLinkHtml = 'Like what you see? Visit the ' +\n",
              "            '<a target=\"_blank\" href=https://colab.research.google.com/notebooks/data_table.ipynb>data table notebook</a>'\n",
              "            + ' to learn more about interactive tables.';\n",
              "          element.innerHTML = '';\n",
              "          dataTable['output_type'] = 'display_data';\n",
              "          await google.colab.output.renderOutput(dataTable, element);\n",
              "          const docLink = document.createElement('div');\n",
              "          docLink.innerHTML = docLinkHtml;\n",
              "          element.appendChild(docLink);\n",
              "        }\n",
              "      </script>\n",
              "    </div>\n",
              "  </div>\n",
              "  "
            ],
            "text/plain": [
              "                                            reviewId         userName  \\\n",
              "0  gp:AOqpTOE3xG2tinWNCGfRplATUiPlj480OE_eErNKSQl...            ARuMI   \n",
              "1  gp:AOqpTOE3fh2EX8gccaCQ3B1UUQow0kvl_TSPzuyb__W...     Ahmad Rozali   \n",
              "2  gp:AOqpTOGMSXahPrhjrH1H6dVKv2lCKH8hwKr2EhOW3ln...     Dilla Fallen   \n",
              "3  gp:AOqpTOECqRkLY52IBGiFJxiy_lS7Dz8wA2wPnw41inB...  Chaerur Rozikin   \n",
              "4  gp:AOqpTOGpibg7w8A6q0E7EPnFaRhHPkC1dlzxizlCEwl...         Ziaz Zie   \n",
              "\n",
              "                                           userImage  \\\n",
              "0  https://play-lh.googleusercontent.com/a-/AOh14...   \n",
              "1  https://play-lh.googleusercontent.com/a-/AOh14...   \n",
              "2  https://play-lh.googleusercontent.com/a-/AOh14...   \n",
              "3  https://play-lh.googleusercontent.com/a/AATXAJ...   \n",
              "4  https://play-lh.googleusercontent.com/a-/AOh14...   \n",
              "\n",
              "                                             content  score  thumbsUpCount  \\\n",
              "0  Memang beneran membayar koq, cm ada beberapa k...      4             66   \n",
              "1  Bagus banget meskipun survey nya jarang keluar...      5             72   \n",
              "2  Nie aplikasi bagus, recommended banget, walaup...      5             54   \n",
              "3  Aplikasi KUCLUK...!! cuma pas baru didownload ...      1              5   \n",
              "4  Survey nya terbukti membayar cuman harus sabar...      5              2   \n",
              "\n",
              "  reviewCreatedVersion                   at  \\\n",
              "0                2.7.6  2022-03-01 16:39:09   \n",
              "1                2.7.6  2022-03-07 13:37:13   \n",
              "2                2.7.6  2022-02-25 03:02:11   \n",
              "3                2.7.6  2022-03-30 08:21:38   \n",
              "4                2.7.6  2022-03-28 06:48:56   \n",
              "\n",
              "                                        replyContent            repliedAt  \n",
              "0  Yang terhormat ARuMI\\nTerima kasih telah mengg...  2022-03-02 04:18:53  \n",
              "1  Yang terhormat Ahmad Rozali Terima kasih telah...  2022-02-18 09:05:47  \n",
              "2  Yang terhormat Dilla Fallen Terima kasih telah...  2022-03-02 04:22:25  \n",
              "3  Yang terhormat Chaerur Rozikin\\nTerima kasih t...  2022-03-30 08:50:59  \n",
              "4  Yang terhormat Ziaz Zie Terima kasih telah men...  2022-03-29 04:35:27  "
            ]
          },
          "execution_count": 37,
          "metadata": {},
          "output_type": "execute_result"
        }
      ],
      "source": [
        "sent_analys = pd.read_csv(\"/content/drive/MyDrive/Dataset/reviewsurveyon.csv\")\n",
        "sent_analys.head()"
      ]
    },
    {
      "cell_type": "markdown",
      "metadata": {
        "id": "TccZwI_nK3T5"
      },
      "source": [
        "Pada dataset yang telah didapatkan terdapat banyak kolom yang sebenarnya tidak dipakai nantinya. Oleh karena itu tabel (kolom) yang tidak dipakai didrop (dihapus)."
      ]
    },
    {
      "cell_type": "code",
      "execution_count": null,
      "metadata": {
        "colab": {
          "base_uri": "https://localhost:8080/",
          "height": 424
        },
        "id": "9t8tdwmn_9tH",
        "outputId": "ef265a60-46fe-4ed5-ce99-e8faa93b0aeb"
      },
      "outputs": [
        {
          "data": {
            "text/html": [
              "\n",
              "  <div id=\"df-4513aa3e-fa3b-47ed-b41b-7402a40984ab\">\n",
              "    <div class=\"colab-df-container\">\n",
              "      <div>\n",
              "<style scoped>\n",
              "    .dataframe tbody tr th:only-of-type {\n",
              "        vertical-align: middle;\n",
              "    }\n",
              "\n",
              "    .dataframe tbody tr th {\n",
              "        vertical-align: top;\n",
              "    }\n",
              "\n",
              "    .dataframe thead th {\n",
              "        text-align: right;\n",
              "    }\n",
              "</style>\n",
              "<table border=\"1\" class=\"dataframe\">\n",
              "  <thead>\n",
              "    <tr style=\"text-align: right;\">\n",
              "      <th></th>\n",
              "      <th>content</th>\n",
              "      <th>score</th>\n",
              "    </tr>\n",
              "  </thead>\n",
              "  <tbody>\n",
              "    <tr>\n",
              "      <th>0</th>\n",
              "      <td>Memang beneran membayar koq, cm ada beberapa k...</td>\n",
              "      <td>4</td>\n",
              "    </tr>\n",
              "    <tr>\n",
              "      <th>1</th>\n",
              "      <td>Bagus banget meskipun survey nya jarang keluar...</td>\n",
              "      <td>5</td>\n",
              "    </tr>\n",
              "    <tr>\n",
              "      <th>2</th>\n",
              "      <td>Nie aplikasi bagus, recommended banget, walaup...</td>\n",
              "      <td>5</td>\n",
              "    </tr>\n",
              "    <tr>\n",
              "      <th>3</th>\n",
              "      <td>Aplikasi KUCLUK...!! cuma pas baru didownload ...</td>\n",
              "      <td>1</td>\n",
              "    </tr>\n",
              "    <tr>\n",
              "      <th>4</th>\n",
              "      <td>Survey nya terbukti membayar cuman harus sabar...</td>\n",
              "      <td>5</td>\n",
              "    </tr>\n",
              "    <tr>\n",
              "      <th>...</th>\n",
              "      <td>...</td>\n",
              "      <td>...</td>\n",
              "    </tr>\n",
              "    <tr>\n",
              "      <th>95</th>\n",
              "      <td>Bagus, aplikasinya mudah di pahami tolong perb...</td>\n",
              "      <td>5</td>\n",
              "    </tr>\n",
              "    <tr>\n",
              "      <th>96</th>\n",
              "      <td>Pendapat saya untuk surveyon : 1 . Tolong POIN...</td>\n",
              "      <td>5</td>\n",
              "    </tr>\n",
              "    <tr>\n",
              "      <th>97</th>\n",
              "      <td>Apk nya bagus saya juga sudah narik beberapa k...</td>\n",
              "      <td>4</td>\n",
              "    </tr>\n",
              "    <tr>\n",
              "      <th>98</th>\n",
              "      <td>Mudah digunakan, masih mencoba mengumpulkan po...</td>\n",
              "      <td>5</td>\n",
              "    </tr>\n",
              "    <tr>\n",
              "      <th>99</th>\n",
              "      <td>Bagus banget apkx walaupun agak lama mendapatk...</td>\n",
              "      <td>5</td>\n",
              "    </tr>\n",
              "  </tbody>\n",
              "</table>\n",
              "<p>100 rows × 2 columns</p>\n",
              "</div>\n",
              "      <button class=\"colab-df-convert\" onclick=\"convertToInteractive('df-4513aa3e-fa3b-47ed-b41b-7402a40984ab')\"\n",
              "              title=\"Convert this dataframe to an interactive table.\"\n",
              "              style=\"display:none;\">\n",
              "        \n",
              "  <svg xmlns=\"http://www.w3.org/2000/svg\" height=\"24px\"viewBox=\"0 0 24 24\"\n",
              "       width=\"24px\">\n",
              "    <path d=\"M0 0h24v24H0V0z\" fill=\"none\"/>\n",
              "    <path d=\"M18.56 5.44l.94 2.06.94-2.06 2.06-.94-2.06-.94-.94-2.06-.94 2.06-2.06.94zm-11 1L8.5 8.5l.94-2.06 2.06-.94-2.06-.94L8.5 2.5l-.94 2.06-2.06.94zm10 10l.94 2.06.94-2.06 2.06-.94-2.06-.94-.94-2.06-.94 2.06-2.06.94z\"/><path d=\"M17.41 7.96l-1.37-1.37c-.4-.4-.92-.59-1.43-.59-.52 0-1.04.2-1.43.59L10.3 9.45l-7.72 7.72c-.78.78-.78 2.05 0 2.83L4 21.41c.39.39.9.59 1.41.59.51 0 1.02-.2 1.41-.59l7.78-7.78 2.81-2.81c.8-.78.8-2.07 0-2.86zM5.41 20L4 18.59l7.72-7.72 1.47 1.35L5.41 20z\"/>\n",
              "  </svg>\n",
              "      </button>\n",
              "      \n",
              "  <style>\n",
              "    .colab-df-container {\n",
              "      display:flex;\n",
              "      flex-wrap:wrap;\n",
              "      gap: 12px;\n",
              "    }\n",
              "\n",
              "    .colab-df-convert {\n",
              "      background-color: #E8F0FE;\n",
              "      border: none;\n",
              "      border-radius: 50%;\n",
              "      cursor: pointer;\n",
              "      display: none;\n",
              "      fill: #1967D2;\n",
              "      height: 32px;\n",
              "      padding: 0 0 0 0;\n",
              "      width: 32px;\n",
              "    }\n",
              "\n",
              "    .colab-df-convert:hover {\n",
              "      background-color: #E2EBFA;\n",
              "      box-shadow: 0px 1px 2px rgba(60, 64, 67, 0.3), 0px 1px 3px 1px rgba(60, 64, 67, 0.15);\n",
              "      fill: #174EA6;\n",
              "    }\n",
              "\n",
              "    [theme=dark] .colab-df-convert {\n",
              "      background-color: #3B4455;\n",
              "      fill: #D2E3FC;\n",
              "    }\n",
              "\n",
              "    [theme=dark] .colab-df-convert:hover {\n",
              "      background-color: #434B5C;\n",
              "      box-shadow: 0px 1px 3px 1px rgba(0, 0, 0, 0.15);\n",
              "      filter: drop-shadow(0px 1px 2px rgba(0, 0, 0, 0.3));\n",
              "      fill: #FFFFFF;\n",
              "    }\n",
              "  </style>\n",
              "\n",
              "      <script>\n",
              "        const buttonEl =\n",
              "          document.querySelector('#df-4513aa3e-fa3b-47ed-b41b-7402a40984ab button.colab-df-convert');\n",
              "        buttonEl.style.display =\n",
              "          google.colab.kernel.accessAllowed ? 'block' : 'none';\n",
              "\n",
              "        async function convertToInteractive(key) {\n",
              "          const element = document.querySelector('#df-4513aa3e-fa3b-47ed-b41b-7402a40984ab');\n",
              "          const dataTable =\n",
              "            await google.colab.kernel.invokeFunction('convertToInteractive',\n",
              "                                                     [key], {});\n",
              "          if (!dataTable) return;\n",
              "\n",
              "          const docLinkHtml = 'Like what you see? Visit the ' +\n",
              "            '<a target=\"_blank\" href=https://colab.research.google.com/notebooks/data_table.ipynb>data table notebook</a>'\n",
              "            + ' to learn more about interactive tables.';\n",
              "          element.innerHTML = '';\n",
              "          dataTable['output_type'] = 'display_data';\n",
              "          await google.colab.output.renderOutput(dataTable, element);\n",
              "          const docLink = document.createElement('div');\n",
              "          docLink.innerHTML = docLinkHtml;\n",
              "          element.appendChild(docLink);\n",
              "        }\n",
              "      </script>\n",
              "    </div>\n",
              "  </div>\n",
              "  "
            ],
            "text/plain": [
              "                                              content  score\n",
              "0   Memang beneran membayar koq, cm ada beberapa k...      4\n",
              "1   Bagus banget meskipun survey nya jarang keluar...      5\n",
              "2   Nie aplikasi bagus, recommended banget, walaup...      5\n",
              "3   Aplikasi KUCLUK...!! cuma pas baru didownload ...      1\n",
              "4   Survey nya terbukti membayar cuman harus sabar...      5\n",
              "..                                                ...    ...\n",
              "95  Bagus, aplikasinya mudah di pahami tolong perb...      5\n",
              "96  Pendapat saya untuk surveyon : 1 . Tolong POIN...      5\n",
              "97  Apk nya bagus saya juga sudah narik beberapa k...      4\n",
              "98  Mudah digunakan, masih mencoba mengumpulkan po...      5\n",
              "99  Bagus banget apkx walaupun agak lama mendapatk...      5\n",
              "\n",
              "[100 rows x 2 columns]"
            ]
          },
          "execution_count": 38,
          "metadata": {},
          "output_type": "execute_result"
        }
      ],
      "source": [
        "#Drop table yang tidak terpakai\n",
        "sent_analys = sent_analys.drop(['reviewId','userName','userImage','reviewCreatedVersion','thumbsUpCount','at','replyContent','replyContent','repliedAt'], axis = 1)\n",
        "sent_analys"
      ]
    },
    {
      "cell_type": "markdown",
      "metadata": {
        "id": "lIHLq3FODkm3"
      },
      "source": [
        "Menghitung banyaknya data pada tiap score muncul"
      ]
    },
    {
      "cell_type": "code",
      "execution_count": null,
      "metadata": {
        "colab": {
          "base_uri": "https://localhost:8080/"
        },
        "id": "_zYB727VD-0-",
        "outputId": "423f5e94-87c2-4710-d6b4-bf104fdab730"
      },
      "outputs": [
        {
          "data": {
            "text/plain": [
              "2     6\n",
              "3    12\n",
              "1    13\n",
              "4    16\n",
              "5    53\n",
              "Name: score, dtype: int64"
            ]
          },
          "execution_count": 39,
          "metadata": {},
          "output_type": "execute_result"
        }
      ],
      "source": [
        "sent_analys['score'].value_counts().sort_values(ascending=True)"
      ]
    },
    {
      "cell_type": "markdown",
      "metadata": {
        "id": "NFQwtmB5T3XP"
      },
      "source": [
        "Memberi label pada score. Label 1 ditujukan untuk review dengan score 4 dan 5, sedangkan label 2 ditujukan untuk review dengan score 1, 2, dan 3."
      ]
    },
    {
      "cell_type": "code",
      "execution_count": null,
      "metadata": {
        "colab": {
          "base_uri": "https://localhost:8080/",
          "height": 206
        },
        "id": "wozjCOykO8sl",
        "outputId": "6af86f56-696b-4703-cde3-e02e7eccf15c"
      },
      "outputs": [
        {
          "data": {
            "text/html": [
              "\n",
              "  <div id=\"df-0bd7ad7b-a6bc-4a16-a76d-67b6d6bdb579\">\n",
              "    <div class=\"colab-df-container\">\n",
              "      <div>\n",
              "<style scoped>\n",
              "    .dataframe tbody tr th:only-of-type {\n",
              "        vertical-align: middle;\n",
              "    }\n",
              "\n",
              "    .dataframe tbody tr th {\n",
              "        vertical-align: top;\n",
              "    }\n",
              "\n",
              "    .dataframe thead th {\n",
              "        text-align: right;\n",
              "    }\n",
              "</style>\n",
              "<table border=\"1\" class=\"dataframe\">\n",
              "  <thead>\n",
              "    <tr style=\"text-align: right;\">\n",
              "      <th></th>\n",
              "      <th>content</th>\n",
              "      <th>label</th>\n",
              "    </tr>\n",
              "  </thead>\n",
              "  <tbody>\n",
              "    <tr>\n",
              "      <th>0</th>\n",
              "      <td>Memang beneran membayar koq, cm ada beberapa k...</td>\n",
              "      <td>1</td>\n",
              "    </tr>\n",
              "    <tr>\n",
              "      <th>1</th>\n",
              "      <td>Bagus banget meskipun survey nya jarang keluar...</td>\n",
              "      <td>1</td>\n",
              "    </tr>\n",
              "    <tr>\n",
              "      <th>2</th>\n",
              "      <td>Nie aplikasi bagus, recommended banget, walaup...</td>\n",
              "      <td>1</td>\n",
              "    </tr>\n",
              "    <tr>\n",
              "      <th>3</th>\n",
              "      <td>Aplikasi KUCLUK...!! cuma pas baru didownload ...</td>\n",
              "      <td>0</td>\n",
              "    </tr>\n",
              "    <tr>\n",
              "      <th>4</th>\n",
              "      <td>Survey nya terbukti membayar cuman harus sabar...</td>\n",
              "      <td>1</td>\n",
              "    </tr>\n",
              "  </tbody>\n",
              "</table>\n",
              "</div>\n",
              "      <button class=\"colab-df-convert\" onclick=\"convertToInteractive('df-0bd7ad7b-a6bc-4a16-a76d-67b6d6bdb579')\"\n",
              "              title=\"Convert this dataframe to an interactive table.\"\n",
              "              style=\"display:none;\">\n",
              "        \n",
              "  <svg xmlns=\"http://www.w3.org/2000/svg\" height=\"24px\"viewBox=\"0 0 24 24\"\n",
              "       width=\"24px\">\n",
              "    <path d=\"M0 0h24v24H0V0z\" fill=\"none\"/>\n",
              "    <path d=\"M18.56 5.44l.94 2.06.94-2.06 2.06-.94-2.06-.94-.94-2.06-.94 2.06-2.06.94zm-11 1L8.5 8.5l.94-2.06 2.06-.94-2.06-.94L8.5 2.5l-.94 2.06-2.06.94zm10 10l.94 2.06.94-2.06 2.06-.94-2.06-.94-.94-2.06-.94 2.06-2.06.94z\"/><path d=\"M17.41 7.96l-1.37-1.37c-.4-.4-.92-.59-1.43-.59-.52 0-1.04.2-1.43.59L10.3 9.45l-7.72 7.72c-.78.78-.78 2.05 0 2.83L4 21.41c.39.39.9.59 1.41.59.51 0 1.02-.2 1.41-.59l7.78-7.78 2.81-2.81c.8-.78.8-2.07 0-2.86zM5.41 20L4 18.59l7.72-7.72 1.47 1.35L5.41 20z\"/>\n",
              "  </svg>\n",
              "      </button>\n",
              "      \n",
              "  <style>\n",
              "    .colab-df-container {\n",
              "      display:flex;\n",
              "      flex-wrap:wrap;\n",
              "      gap: 12px;\n",
              "    }\n",
              "\n",
              "    .colab-df-convert {\n",
              "      background-color: #E8F0FE;\n",
              "      border: none;\n",
              "      border-radius: 50%;\n",
              "      cursor: pointer;\n",
              "      display: none;\n",
              "      fill: #1967D2;\n",
              "      height: 32px;\n",
              "      padding: 0 0 0 0;\n",
              "      width: 32px;\n",
              "    }\n",
              "\n",
              "    .colab-df-convert:hover {\n",
              "      background-color: #E2EBFA;\n",
              "      box-shadow: 0px 1px 2px rgba(60, 64, 67, 0.3), 0px 1px 3px 1px rgba(60, 64, 67, 0.15);\n",
              "      fill: #174EA6;\n",
              "    }\n",
              "\n",
              "    [theme=dark] .colab-df-convert {\n",
              "      background-color: #3B4455;\n",
              "      fill: #D2E3FC;\n",
              "    }\n",
              "\n",
              "    [theme=dark] .colab-df-convert:hover {\n",
              "      background-color: #434B5C;\n",
              "      box-shadow: 0px 1px 3px 1px rgba(0, 0, 0, 0.15);\n",
              "      filter: drop-shadow(0px 1px 2px rgba(0, 0, 0, 0.3));\n",
              "      fill: #FFFFFF;\n",
              "    }\n",
              "  </style>\n",
              "\n",
              "      <script>\n",
              "        const buttonEl =\n",
              "          document.querySelector('#df-0bd7ad7b-a6bc-4a16-a76d-67b6d6bdb579 button.colab-df-convert');\n",
              "        buttonEl.style.display =\n",
              "          google.colab.kernel.accessAllowed ? 'block' : 'none';\n",
              "\n",
              "        async function convertToInteractive(key) {\n",
              "          const element = document.querySelector('#df-0bd7ad7b-a6bc-4a16-a76d-67b6d6bdb579');\n",
              "          const dataTable =\n",
              "            await google.colab.kernel.invokeFunction('convertToInteractive',\n",
              "                                                     [key], {});\n",
              "          if (!dataTable) return;\n",
              "\n",
              "          const docLinkHtml = 'Like what you see? Visit the ' +\n",
              "            '<a target=\"_blank\" href=https://colab.research.google.com/notebooks/data_table.ipynb>data table notebook</a>'\n",
              "            + ' to learn more about interactive tables.';\n",
              "          element.innerHTML = '';\n",
              "          dataTable['output_type'] = 'display_data';\n",
              "          await google.colab.output.renderOutput(dataTable, element);\n",
              "          const docLink = document.createElement('div');\n",
              "          docLink.innerHTML = docLinkHtml;\n",
              "          element.appendChild(docLink);\n",
              "        }\n",
              "      </script>\n",
              "    </div>\n",
              "  </div>\n",
              "  "
            ],
            "text/plain": [
              "                                             content  label\n",
              "0  Memang beneran membayar koq, cm ada beberapa k...      1\n",
              "1  Bagus banget meskipun survey nya jarang keluar...      1\n",
              "2  Nie aplikasi bagus, recommended banget, walaup...      1\n",
              "3  Aplikasi KUCLUK...!! cuma pas baru didownload ...      0\n",
              "4  Survey nya terbukti membayar cuman harus sabar...      1"
            ]
          },
          "execution_count": 40,
          "metadata": {},
          "output_type": "execute_result"
        }
      ],
      "source": [
        "label=[]\n",
        "for index, row in sent_analys.iterrows():\n",
        "    if row['score']==5:\n",
        "        label.append(1)\n",
        "    elif row['score']==4:\n",
        "        label.append(1)\n",
        "    else:\n",
        "        label.append(0)\n",
        "\n",
        "sent_analys['label']=label\n",
        "sent_analys=sent_analys.drop(columns='score', axis=1)\n",
        "sent_analys.head()"
      ]
    },
    {
      "cell_type": "code",
      "execution_count": null,
      "metadata": {
        "colab": {
          "base_uri": "https://localhost:8080/"
        },
        "id": "sSCJdcCrO9zJ",
        "outputId": "bc8928d7-bf8e-40f9-dff5-9df6e12ad263"
      },
      "outputs": [
        {
          "name": "stdout",
          "output_type": "stream",
          "text": [
            "(200, 2)\n",
            "1    0.5\n",
            "0    0.5\n",
            "Name: label, dtype: float64\n"
          ]
        }
      ],
      "source": [
        "s1=sent_analys[sent_analys.label==1].sample(100, replace=True)\n",
        "s2=sent_analys[sent_analys.label==0].sample(100, replace=True)\n",
        "\n",
        "sent_analys=pd.concat([s1,s2])\n",
        "print(sent_analys.shape)\n",
        "print(sent_analys.label.value_counts(normalize=True))"
      ]
    },
    {
      "cell_type": "code",
      "execution_count": null,
      "metadata": {
        "colab": {
          "base_uri": "https://localhost:8080/",
          "height": 424
        },
        "id": "fiFHvhf6O_3-",
        "outputId": "11fe60db-05c7-4830-f22a-8bf3bfa6087c"
      },
      "outputs": [
        {
          "data": {
            "text/html": [
              "\n",
              "  <div id=\"df-060650c8-ada2-4ea3-9647-b38ebae994f3\">\n",
              "    <div class=\"colab-df-container\">\n",
              "      <div>\n",
              "<style scoped>\n",
              "    .dataframe tbody tr th:only-of-type {\n",
              "        vertical-align: middle;\n",
              "    }\n",
              "\n",
              "    .dataframe tbody tr th {\n",
              "        vertical-align: top;\n",
              "    }\n",
              "\n",
              "    .dataframe thead th {\n",
              "        text-align: right;\n",
              "    }\n",
              "</style>\n",
              "<table border=\"1\" class=\"dataframe\">\n",
              "  <thead>\n",
              "    <tr style=\"text-align: right;\">\n",
              "      <th></th>\n",
              "      <th>content</th>\n",
              "      <th>label</th>\n",
              "    </tr>\n",
              "  </thead>\n",
              "  <tbody>\n",
              "    <tr>\n",
              "      <th>30</th>\n",
              "      <td>Aplikasi mantap..karna kita bisa saling melont...</td>\n",
              "      <td>1</td>\n",
              "    </tr>\n",
              "    <tr>\n",
              "      <th>56</th>\n",
              "      <td>Nice app cuman untuk penarikan sangat lama bis...</td>\n",
              "      <td>1</td>\n",
              "    </tr>\n",
              "    <tr>\n",
              "      <th>67</th>\n",
              "      <td>Survei nya mudah bayaran nya lumayan bisa cepa...</td>\n",
              "      <td>1</td>\n",
              "    </tr>\n",
              "    <tr>\n",
              "      <th>56</th>\n",
              "      <td>Nice app cuman untuk penarikan sangat lama bis...</td>\n",
              "      <td>1</td>\n",
              "    </tr>\n",
              "    <tr>\n",
              "      <th>95</th>\n",
              "      <td>Bagus, aplikasinya mudah di pahami tolong perb...</td>\n",
              "      <td>1</td>\n",
              "    </tr>\n",
              "    <tr>\n",
              "      <th>...</th>\n",
              "      <td>...</td>\n",
              "      <td>...</td>\n",
              "    </tr>\n",
              "    <tr>\n",
              "      <th>94</th>\n",
              "      <td>Kasih bintang 3 dulu.Setiap ada survey dengan ...</td>\n",
              "      <td>0</td>\n",
              "    </tr>\n",
              "    <tr>\n",
              "      <th>94</th>\n",
              "      <td>Kasih bintang 3 dulu.Setiap ada survey dengan ...</td>\n",
              "      <td>0</td>\n",
              "    </tr>\n",
              "    <tr>\n",
              "      <th>82</th>\n",
              "      <td>Aplikasi minta update..sudah diupdate tidak bi...</td>\n",
              "      <td>0</td>\n",
              "    </tr>\n",
              "    <tr>\n",
              "      <th>49</th>\n",
              "      <td>Akun saya di non aktifkan, padahal saya tidak ...</td>\n",
              "      <td>0</td>\n",
              "    </tr>\n",
              "    <tr>\n",
              "      <th>62</th>\n",
              "      <td>Bintang 3 dulu deh 🙏🏻 ,karna Poin saya baru te...</td>\n",
              "      <td>0</td>\n",
              "    </tr>\n",
              "  </tbody>\n",
              "</table>\n",
              "<p>200 rows × 2 columns</p>\n",
              "</div>\n",
              "      <button class=\"colab-df-convert\" onclick=\"convertToInteractive('df-060650c8-ada2-4ea3-9647-b38ebae994f3')\"\n",
              "              title=\"Convert this dataframe to an interactive table.\"\n",
              "              style=\"display:none;\">\n",
              "        \n",
              "  <svg xmlns=\"http://www.w3.org/2000/svg\" height=\"24px\"viewBox=\"0 0 24 24\"\n",
              "       width=\"24px\">\n",
              "    <path d=\"M0 0h24v24H0V0z\" fill=\"none\"/>\n",
              "    <path d=\"M18.56 5.44l.94 2.06.94-2.06 2.06-.94-2.06-.94-.94-2.06-.94 2.06-2.06.94zm-11 1L8.5 8.5l.94-2.06 2.06-.94-2.06-.94L8.5 2.5l-.94 2.06-2.06.94zm10 10l.94 2.06.94-2.06 2.06-.94-2.06-.94-.94-2.06-.94 2.06-2.06.94z\"/><path d=\"M17.41 7.96l-1.37-1.37c-.4-.4-.92-.59-1.43-.59-.52 0-1.04.2-1.43.59L10.3 9.45l-7.72 7.72c-.78.78-.78 2.05 0 2.83L4 21.41c.39.39.9.59 1.41.59.51 0 1.02-.2 1.41-.59l7.78-7.78 2.81-2.81c.8-.78.8-2.07 0-2.86zM5.41 20L4 18.59l7.72-7.72 1.47 1.35L5.41 20z\"/>\n",
              "  </svg>\n",
              "      </button>\n",
              "      \n",
              "  <style>\n",
              "    .colab-df-container {\n",
              "      display:flex;\n",
              "      flex-wrap:wrap;\n",
              "      gap: 12px;\n",
              "    }\n",
              "\n",
              "    .colab-df-convert {\n",
              "      background-color: #E8F0FE;\n",
              "      border: none;\n",
              "      border-radius: 50%;\n",
              "      cursor: pointer;\n",
              "      display: none;\n",
              "      fill: #1967D2;\n",
              "      height: 32px;\n",
              "      padding: 0 0 0 0;\n",
              "      width: 32px;\n",
              "    }\n",
              "\n",
              "    .colab-df-convert:hover {\n",
              "      background-color: #E2EBFA;\n",
              "      box-shadow: 0px 1px 2px rgba(60, 64, 67, 0.3), 0px 1px 3px 1px rgba(60, 64, 67, 0.15);\n",
              "      fill: #174EA6;\n",
              "    }\n",
              "\n",
              "    [theme=dark] .colab-df-convert {\n",
              "      background-color: #3B4455;\n",
              "      fill: #D2E3FC;\n",
              "    }\n",
              "\n",
              "    [theme=dark] .colab-df-convert:hover {\n",
              "      background-color: #434B5C;\n",
              "      box-shadow: 0px 1px 3px 1px rgba(0, 0, 0, 0.15);\n",
              "      filter: drop-shadow(0px 1px 2px rgba(0, 0, 0, 0.3));\n",
              "      fill: #FFFFFF;\n",
              "    }\n",
              "  </style>\n",
              "\n",
              "      <script>\n",
              "        const buttonEl =\n",
              "          document.querySelector('#df-060650c8-ada2-4ea3-9647-b38ebae994f3 button.colab-df-convert');\n",
              "        buttonEl.style.display =\n",
              "          google.colab.kernel.accessAllowed ? 'block' : 'none';\n",
              "\n",
              "        async function convertToInteractive(key) {\n",
              "          const element = document.querySelector('#df-060650c8-ada2-4ea3-9647-b38ebae994f3');\n",
              "          const dataTable =\n",
              "            await google.colab.kernel.invokeFunction('convertToInteractive',\n",
              "                                                     [key], {});\n",
              "          if (!dataTable) return;\n",
              "\n",
              "          const docLinkHtml = 'Like what you see? Visit the ' +\n",
              "            '<a target=\"_blank\" href=https://colab.research.google.com/notebooks/data_table.ipynb>data table notebook</a>'\n",
              "            + ' to learn more about interactive tables.';\n",
              "          element.innerHTML = '';\n",
              "          dataTable['output_type'] = 'display_data';\n",
              "          await google.colab.output.renderOutput(dataTable, element);\n",
              "          const docLink = document.createElement('div');\n",
              "          docLink.innerHTML = docLinkHtml;\n",
              "          element.appendChild(docLink);\n",
              "        }\n",
              "      </script>\n",
              "    </div>\n",
              "  </div>\n",
              "  "
            ],
            "text/plain": [
              "                                              content  label\n",
              "30  Aplikasi mantap..karna kita bisa saling melont...      1\n",
              "56  Nice app cuman untuk penarikan sangat lama bis...      1\n",
              "67  Survei nya mudah bayaran nya lumayan bisa cepa...      1\n",
              "56  Nice app cuman untuk penarikan sangat lama bis...      1\n",
              "95  Bagus, aplikasinya mudah di pahami tolong perb...      1\n",
              "..                                                ...    ...\n",
              "94  Kasih bintang 3 dulu.Setiap ada survey dengan ...      0\n",
              "94  Kasih bintang 3 dulu.Setiap ada survey dengan ...      0\n",
              "82  Aplikasi minta update..sudah diupdate tidak bi...      0\n",
              "49  Akun saya di non aktifkan, padahal saya tidak ...      0\n",
              "62  Bintang 3 dulu deh 🙏🏻 ,karna Poin saya baru te...      0\n",
              "\n",
              "[200 rows x 2 columns]"
            ]
          },
          "execution_count": 42,
          "metadata": {},
          "output_type": "execute_result"
        }
      ],
      "source": [
        "sent_analys"
      ]
    },
    {
      "cell_type": "markdown",
      "metadata": {
        "id": "7Mq85bH7IbFp"
      },
      "source": [
        "# **Proses Preprocessing, Case Folding, Stopword Removal, Steming**"
      ]
    },
    {
      "cell_type": "code",
      "execution_count": null,
      "metadata": {
        "colab": {
          "base_uri": "https://localhost:8080/"
        },
        "id": "FREYbaXQKPRI",
        "outputId": "7a6fb690-a9fa-48a4-e8df-bbe9e56cefcb"
      },
      "outputs": [
        {
          "name": "stdout",
          "output_type": "stream",
          "text": [
            "Requirement already satisfied: sastrawi in /usr/local/lib/python3.7/dist-packages (1.0.1)\n"
          ]
        }
      ],
      "source": [
        "!pip install sastrawi"
      ]
    },
    {
      "cell_type": "code",
      "execution_count": null,
      "metadata": {
        "id": "hMEEvbQjIaho"
      },
      "outputs": [],
      "source": [
        "import nltk\n",
        "from nltk.tokenize import word_tokenize\n",
        "from nltk.corpus import stopwords\n",
        "from nltk.stem import SnowballStemmer\n",
        "import re\n",
        "import string\n",
        "from Sastrawi.Stemmer.StemmerFactory import StemmerFactory\n",
        "from Sastrawi.StopWordRemover.StopWordRemoverFactory import StopWordRemoverFactory"
      ]
    },
    {
      "cell_type": "code",
      "execution_count": null,
      "metadata": {
        "colab": {
          "base_uri": "https://localhost:8080/"
        },
        "id": "WOQvA_Gf48FZ",
        "outputId": "f495db93-0ddd-4d6c-fb13-ba81523c3f84"
      },
      "outputs": [
        {
          "name": "stdout",
          "output_type": "stream",
          "text": [
            "[nltk_data] Downloading package punkt to /root/nltk_data...\n",
            "[nltk_data]   Package punkt is already up-to-date!\n",
            "[nltk_data] Downloading package stopwords to /root/nltk_data...\n",
            "[nltk_data]   Package stopwords is already up-to-date!\n"
          ]
        },
        {
          "data": {
            "text/plain": [
              "True"
            ]
          },
          "execution_count": 45,
          "metadata": {},
          "output_type": "execute_result"
        }
      ],
      "source": [
        "nltk.download('punkt')\n",
        "nltk.download('stopwords')"
      ]
    },
    {
      "cell_type": "markdown",
      "metadata": {
        "id": "aQksgkvWUMkt"
      },
      "source": [
        "Melakukan preprocessing yaitu mengecilkan huruf kapital, menghilangkan tanda baca (punctuation), menghilangkan karakter spesial, dan menghilangkan baris baru."
      ]
    },
    {
      "cell_type": "code",
      "execution_count": null,
      "metadata": {
        "id": "baGsnGTZJHUZ"
      },
      "outputs": [],
      "source": [
        "import string, re\n",
        "\n",
        "def cleansing(sent_analys):\n",
        "    #lowertext\n",
        "    sent_analys=sent_analys.lower()\n",
        "    \n",
        "    #Remove Punctuation\n",
        "    remove=string.punctuation\n",
        "    translator=str.maketrans(remove,' '*len(remove))\n",
        "    sent_analys=sent_analys.translate(translator)\n",
        "    \n",
        "    #Remove ASCII & UNICODE\n",
        "    sent_analys=sent_analys.encode('ascii','ignore').decode('utf-8')\n",
        "    sent_analys=re.sub(r'[^\\x00-\\x7f]',r'', sent_analys)\n",
        "    \n",
        "    #Remove Newline\n",
        "    sent_analys=sent_analys.replace('\\n',' ')\n",
        "    \n",
        "    return sent_analys"
      ]
    },
    {
      "cell_type": "code",
      "execution_count": null,
      "metadata": {
        "id": "yHBchIegKPof"
      },
      "outputs": [],
      "source": [
        "review = []\n",
        "for index, row  in sent_analys.iterrows():\n",
        "  review.append(cleansing(row['content']))"
      ]
    },
    {
      "cell_type": "code",
      "execution_count": null,
      "metadata": {
        "colab": {
          "base_uri": "https://localhost:8080/"
        },
        "id": "n6l1nRMYPRFA",
        "outputId": "3fe8c8de-0809-4aba-f0d3-993fa2401065"
      },
      "outputs": [
        {
          "data": {
            "text/plain": [
              "['aplikasi mantap  karna kita bisa saling melontarkan pertanyaan  dan poin nya mudah di dpat  pokoknya mantap lah',\n",
              " 'nice app cuman untuk penarikan sangat lama bisa berbulan2 tapi untuk survey dan poin saya sudah puas walaupun jarang ada survey tapi untuk satu survey mendapatkan banyak poin bahkan hanya butuh 4 survey untuk dapat 11k   semoga terus begini dan tidak berubah2 jika ingin apk ini sukses',\n",
              " 'survei nya mudah bayaran nya lumayan bisa cepat withdraw  mohon di perbaiki kadang suka tiba2 survei berhenti padahal sudah mau selesai dan tidak mendapat poin ',\n",
              " 'nice app cuman untuk penarikan sangat lama bisa berbulan2 tapi untuk survey dan poin saya sudah puas walaupun jarang ada survey tapi untuk satu survey mendapatkan banyak poin bahkan hanya butuh 4 survey untuk dapat 11k   semoga terus begini dan tidak berubah2 jika ingin apk ini sukses',\n",
              " 'bagus  aplikasinya mudah di pahami tolong perbanyak survei setiap harinya',\n",
              " 'aku udah dari 2021 pake aplikasi ini  walaupun kehitungnya baru beberapa bulan  yaaa lumayan lah dapet 30 ribuan  buat top up game bisa lahh wkwkw tapi ini bener bener sangat membantu loh walaupun emg surveinya suka jarang jarang  tapi cuma sama apk ini doang aku percaya wkwkw ga pindah pindah ',\n",
              " 'udah sangat baik  kan sekarang pengguna surveyon ini kak saran saya sebagai pengguna lama  kalau bisa tolong dong team surveyon yg sudah menyediakan survey tetapi tidak bisa terjawab semua alias hanya sampai dipertengahan saja contoh survey yg 5000 atau 6000   mohon dengan hormat untuk memberikan 1 4dari total nilai point survey trsebut misal 0 25 x5000 1250   trimakasih',\n",
              " 'nie aplikasi bagus  recommended banget  walaupun setiap hari belum tentu ada survei yg dikerjakan    saran aja buat pengguna apk ini  klo mau wd mending ke paypal aja  dijamin pasti landing dengan sempurna walupun agak lama sii    harus nunggu sekitar 2mingguan   ',\n",
              " 'mantap aplikasinya benar  real terkirim k paypal    terimakasih surveyon  lebih banyak lg yah survei nya dan lebih banyak lagi pointnya    ',\n",
              " 'sampe lupa tidak pernah memberi ulasan dan rating  sebelumnya terima kasih buat tim surveyon sudah sering dapat pulsa  ya walaupun cuma pulsa 10k lumayan banget terbantu dengan survey surveynya  saran lebih perbanyak lagi survey surveynya',\n",
              " 'elehhh penukaran ke paypal aja belum masuk  sampe sekarang  greget banget capek  nyurvey ehhh boong banget  disuruh hubungi cs tapi gak ada responn',\n",
              " 'udah tuker pulsa 10rb an 4 kali di sini  emang lama sih masuknya  tp standar sih 14hr kerja   lebih banyakan survei nya donk kak biar bisa dapat banyak  he',\n",
              " 'aplikasi ringan dan benar2 terbukti membayar ya walaupun survey nya ga selalu ada  sumpah si sedih banget udah ga pernah login pas login koin ku kedaluwarsa padahal udah 9 rb',\n",
              " 'saya kasih 4 bintang terlebih dahulu  karena asal ada survey yang dikerjakan malah tiba2 ada pemberitahuan survey tidak cocok dengan kriteria anda   survey sudah penuh  alhasil point yang didapatkan hanya point ikut berpartisipasi yang nominalnya hanya 200 ataupun kurang dari 200  tidak sesuai dengan point yg tertera pada survey  tlng developer diperbaiki mngnai hal ini  jika dah diperbaiki saya tambah 1 bntng lagi dan akan mnjadi full bintang ',\n",
              " 'memang beneran membayar koq  cm ada beberapa kekurangan aplikasi ini    1  point yg didapat kecil dan tdk sering ada 2  msh banyak bug di sana sini  misalnya survey yg tiba tiba terhenti saat kita mengisinya atau tdk msk msk survey nya overall aplikasi cukup membantu keuangan sih  jadi makasih banyak buat developer nya yaaa',\n",
              " 'sejauh ini sangat menyenangkan menjawab surveynya  edit  aq kira cuma bisa withdraw pulsa dan paypal  setelah dijawab review sebelumnya ternyata bisa withdraw via ewallet jg  sudah dicoba dan ok  jadi ga usah nunggu sampai 20 000 poin lg  cukup 11 000 uda bisa withdraw ',\n",
              " 'terima kasih surveyon aplikasi saya sudah bisa terbuka lagi setelah beberapa kendala update versi respon terbaik dari development tetap jadi aplikasi survei terbaik',\n",
              " 'apk surveyon sangat bagus ringan dan cepat buat android dan servenya juga ocy buat menambah inspirasi kita semua',\n",
              " 'aplikasi surveyon ini sangat bagus    saya bisa meluangkan waktu untuk menjawab survey dan mendapatkan uang    terimakasih surveyon ',\n",
              " 'apk surveyon sangat bagus ringan dan cepat buat android dan servenya juga ocy buat menambah inspirasi kita semua',\n",
              " 'suka sangat dengan aplikasi ini  mudah bangt untuk ikuti survey survey nya  dan mudah bngt dapat e money nya  suka suka suka',\n",
              " 'pertama kali mau tukar poin dengan gopay  ternyata tidak masuk masuk uang yang seharusnya  sangat disayangkan poin yang sudah saya kumpulkan terbuang sia sia begitu saja  namun  untuk kedua kalinya saya menukar poin  tiga hari setelah ditikar akhirnya terkirim juga gopaynya  semoga kedepannya tidak ada kejadian seperti yang saya alami  tolong diperbaiki lagi ya ',\n",
              " 'apk yg terbukti membayar  walaupun harus ngu sekitar 1mgg  tp ni apk terbukti membayar  moga kedepannya bisa lebih bagus',\n",
              " 'pertama kali mau tukar poin dengan gopay  ternyata tidak masuk masuk uang yang seharusnya  sangat disayangkan poin yang sudah saya kumpulkan terbuang sia sia begitu saja  namun  untuk kedua kalinya saya menukar poin  tiga hari setelah ditikar akhirnya terkirim juga gopaynya  semoga kedepannya tidak ada kejadian seperti yang saya alami  tolong diperbaiki lagi ya ',\n",
              " 'bagus banget apkx walaupun agak lama mendapatkan poin tak apa apa   namanya juga cari duit saya sudah buktikan dengan menarik 11 000poin ditukar ke dana 10k dan berhasil penarikannya  lebih seminggu',\n",
              " 'elehhh penukaran ke paypal aja belum masuk  sampe sekarang  greget banget capek  nyurvey ehhh boong banget  disuruh hubungi cs tapi gak ada responn',\n",
              " 'aplikasi ini betulan bayar  tadi baru aja masuk saldonya  terima kasih ',\n",
              " 'aplikasi mudah dijalankan  sangat cocok untuk mengisi waktu luang dengan mengisi survey2 yang ada',\n",
              " 'mantep tapi ga banget mantep ae yo soalnya baru install baru 2 bulan make ni aplikasi okelah cukup sekian dan makasih tapi ga banyak  ',\n",
              " 'aplikasi mantap  karna kita bisa saling melontarkan pertanyaan  dan poin nya mudah di dpat  pokoknya mantap lah',\n",
              " 'aku baru saja mencairkan koin saya  meskipun cuma dapat 10 rb tapi lumayan buat deposit dana saya  koinnya bisa ditukar apa saja  bisa buat beli pulsa atau langsung ditransfer melalui e wallet  cuma survei yang didapat koinnya kecil2  jarang ada yang besar  sudah gitu jarang dapat survei  meskipun begitu pencairan dana sebesar rp 10rb akhirnya masuk ke dana saya  terima kasih atas pencairan dananya  ',\n",
              " 'poin yang ditukar hanya bisa menggunakan pulsa dan paypal  alangkah baiknya bisa dilakukan di shopeepay juga ',\n",
              " 'wiiiiih apk ini terbukti membayar loh sayang poinny gk bisa ke dana tpi lumayanlah udh dpt 30k poin sayang harus sabar nunggu survey ny yg agk lama ',\n",
              " 'bagus aplikasinya  walaupun surveynya gak setiap hari ada dan ngumpulin pointnya agak lama  tapi terbukti membayar  walaupun juga pengiriman uangnya membutuhkan 3 5 hari untuk masuk ke rekening',\n",
              " 'sangat suka  tapi tolong perbanyak lagi survei agar poin cepat terkumpul  dan untuk survey point yg di dapat terlalu sedikit coba perbanyak lagi bonus poin nya saya jamin pasti banyak yang download ',\n",
              " 'sampe lupa tidak pernah memberi ulasan dan rating  sebelumnya terima kasih buat tim surveyon sudah sering dapat pulsa  ya walaupun cuma pulsa 10k lumayan banget terbantu dengan survey surveynya  saran lebih perbanyak lagi survey surveynya',\n",
              " 'aplikasi ini real membayar saya   saya sudah tukar 50 000 point  walapun pembayaran nya membutuhkan waktu 3 sampai 4 hari saya maklum mungkin sistem sedang sibuk',\n",
              " 'apk surveyon sangat bagus ringan dan cepat buat android dan servenya juga ocy buat menambah inspirasi kita semua',\n",
              " 'terimakasih surveyon pulsa nya sudah masuk kedepan ny tolong dong survey nya jangan cuma hari rabu saja yang bisa di kerjakan hari yang lain gak bisa dan untuk penukaran pulsa mohon di percepat ',\n",
              " 'saya kasih 4 bintang terlebih dahulu  karena asal ada survey yang dikerjakan malah tiba2 ada pemberitahuan survey tidak cocok dengan kriteria anda   survey sudah penuh  alhasil point yang didapatkan hanya point ikut berpartisipasi yang nominalnya hanya 200 ataupun kurang dari 200  tidak sesuai dengan point yg tertera pada survey  tlng developer diperbaiki mngnai hal ini  jika dah diperbaiki saya tambah 1 bntng lagi dan akan mnjadi full bintang ',\n",
              " 'kak tolong ini penjelasanya kenapa ko tiba tiba akun saya di nonaktifkan padahal saya tidak melakukan apa apa  orang padahal saya aja menggunakan aplikasi ini jarang',\n",
              " 'pakai aplikasi ini sejak 2017  tidak ada kendala pembayaran baik pulsa maupun paypal namun sayangnya untuk survey cepat jarang tersedia harapan ku untuk menu jakpat di quicpol  tambahin rewardnya ya',\n",
              " 'aplikasi ini betulan bayar  tadi baru aja masuk saldonya  terima kasih ',\n",
              " 'walaupun jarang dan kadang2 mendapatkan survei dan poinnya juga kecil   kita trimakasih aja setidaknya masih ada aplikasi yg tidak tipu2   saya sdh meraskan terbukti membayar pulsa telkomsel  luar biasa trimakasih superyon  jaya selalu semogga aplikasi ini berkah utk semua orang amin ',\n",
              " 'apk surveyon sangat bagus ringan dan cepat buat android dan servenya juga ocy buat menambah inspirasi kita semua',\n",
              " 'kalian wajib download aplikasi surveyon ini  karena aplikasi ini bagus  mendapatkan poinnya juga cepat  dan jika kita gagal menjawab survei mungkin karena survei tidak cocok aplikasi ini tetap menberi imbalan 200 p  berbeda dengan aplikasi lain jika gagal menjawab survei maka tidak ada imbalan sama sekali  dan setelah selesai survei aplikasi ini mengucapakan terima kasih  tetapi survei yang diberikan terlalu sedikit  tolong di beri survei yang banyak ya  sama sama developer',\n",
              " 'bagus  aplikasi nya asli membayar tapi sayangnya nomor yang mau diisi nya gk bisa diganti ya   harus nomer itu terus ',\n",
              " 'aku suka surveyon  pengisian angket dengan bahasa yang mudah untuk dipahami  semoga ada survey setiap harinya ya biar bisa cepat tukar poinnya',\n",
              " 'sejauh ini sangat menyenangkan menjawab surveynya  edit  aq kira cuma bisa withdraw pulsa dan paypal  setelah dijawab review sebelumnya ternyata bisa withdraw via ewallet jg  sudah dicoba dan ok  jadi ga usah nunggu sampai 20 000 poin lg  cukup 11 000 uda bisa withdraw ',\n",
              " 'aku kasih bintang 5  karna memang sudah terbukti membayar 11 000 point di tukar uang digital dana 10 000 sayangnya survey nya sangat langka  apalagi dengan harga 1 survey dapat point nya dikit  mohon development untuk ngasih point nya gede  soalnya kan survey nya lama ',\n",
              " 'aplikasi ini betulan bayar  tadi baru aja masuk saldonya  terima kasih ',\n",
              " 'pas awal ngisi survey gampang trs cepet dpt poinnya eh pas mau isi lagi tiba gabisa terus keterangannya udah pernah ngisi padahal belom  ',\n",
              " 'saya sangat suka dengan surveyon karena sangat mudah untuk mendapatkan poin semoga untuk kedepaannya surveyon menjadi lebih sukses  berkembang dan semakin banyak partnernya',\n",
              " 'bagus aplikasinya  walaupun surveynya gak setiap hari ada dan ngumpulin pointnya agak lama  tapi terbukti membayar  walaupun juga pengiriman uangnya membutuhkan 3 5 hari untuk masuk ke rekening',\n",
              " 'aplikasi ini betulan bayar  tadi baru aja masuk saldonya  terima kasih ',\n",
              " 'mantap aplikasinya benar  real terkirim k paypal    terimakasih surveyon  lebih banyak lg yah survei nya dan lebih banyak lagi pointnya    ',\n",
              " 'aplikasi surveyon ini sangat bagus    saya bisa meluangkan waktu untuk menjawab survey dan mendapatkan uang    terimakasih surveyon ',\n",
              " 'sebenarnya ini apk bagus banget sekali survey langsung dapat banyak poin akan tetapi quickpoll sama acara nya gak bisa dibuka jadi gak bisa ikut event2',\n",
              " 'elehhh penukaran ke paypal aja belum masuk  sampe sekarang  greget banget capek  nyurvey ehhh boong banget  disuruh hubungi cs tapi gak ada responn',\n",
              " 'poin yang ditukar hanya bisa menggunakan pulsa dan paypal  alangkah baiknya bisa dilakukan di shopeepay juga ',\n",
              " 'elehhh penukaran ke paypal aja belum masuk  sampe sekarang  greget banget capek  nyurvey ehhh boong banget  disuruh hubungi cs tapi gak ada responn',\n",
              " 'saya sangat suka dengan surveyon karena sangat mudah untuk mendapatkan poin semoga untuk kedepaannya surveyon menjadi lebih sukses  berkembang dan semakin banyak partnernya',\n",
              " 'pertama kali mau tukar poin dengan gopay  ternyata tidak masuk masuk uang yang seharusnya  sangat disayangkan poin yang sudah saya kumpulkan terbuang sia sia begitu saja  namun  untuk kedua kalinya saya menukar poin  tiga hari setelah ditikar akhirnya terkirim juga gopaynya  semoga kedepannya tidak ada kejadian seperti yang saya alami  tolong diperbaiki lagi ya ',\n",
              " 'saya sangat suka dengan surveyon karena sangat mudah untuk mendapatkan poin semoga untuk kedepaannya surveyon menjadi lebih sukses  berkembang dan semakin banyak partnernya',\n",
              " 'sampe lupa tidak pernah memberi ulasan dan rating  sebelumnya terima kasih buat tim surveyon sudah sering dapat pulsa  ya walaupun cuma pulsa 10k lumayan banget terbantu dengan survey surveynya  saran lebih perbanyak lagi survey surveynya',\n",
              " 'aplikasi surveyon ini sangat bagus    saya bisa meluangkan waktu untuk menjawab survey dan mendapatkan uang    terimakasih surveyon ',\n",
              " 'aku baru saja mencairkan koin saya  meskipun cuma dapat 10 rb tapi lumayan buat deposit dana saya  koinnya bisa ditukar apa saja  bisa buat beli pulsa atau langsung ditransfer melalui e wallet  cuma survei yang didapat koinnya kecil2  jarang ada yang besar  sudah gitu jarang dapat survei  meskipun begitu pencairan dana sebesar rp 10rb akhirnya masuk ke dana saya  terima kasih atas pencairan dananya  ',\n",
              " 'elehhh penukaran ke paypal aja belum masuk  sampe sekarang  greget banget capek  nyurvey ehhh boong banget  disuruh hubungi cs tapi gak ada responn',\n",
              " 'udah sangat baik  kan sekarang pengguna surveyon ini kak saran saya sebagai pengguna lama  kalau bisa tolong dong team surveyon yg sudah menyediakan survey tetapi tidak bisa terjawab semua alias hanya sampai dipertengahan saja contoh survey yg 5000 atau 6000   mohon dengan hormat untuk memberikan 1 4dari total nilai point survey trsebut misal 0 25 x5000 1250   trimakasih',\n",
              " 'bagus  aplikasi nya asli membayar tapi sayangnya nomor yang mau diisi nya gk bisa diganti ya   harus nomer itu terus ',\n",
              " 'aplikasi yang benar benar membayar   semoga surveyny lebih banyak lagi agar lebih cepat dapat cuan atau pulsanya   oh iya maaf ko sekarang sudah dua minggu ini saya ga bisa nulis quick poll ya mengisi juga ga bisa server bermasalah terus untuk bulan ini baru dua kali bisa isi survey  apakah memang sedang ada perbaikan atau bagaimana surveyon sy selalu sy update  semoga ditanggapi dan cepat diperbaiki jika ada gangguan teknis  terima kasih  terus maju surveyon  cayyo    ',\n",
              " 'memang beneran membayar koq  cm ada beberapa kekurangan aplikasi ini    1  point yg didapat kecil dan tdk sering ada 2  msh banyak bug di sana sini  misalnya survey yg tiba tiba terhenti saat kita mengisinya atau tdk msk msk survey nya overall aplikasi cukup membantu keuangan sih  jadi makasih banyak buat developer nya yaaa',\n",
              " 'elehhh penukaran ke paypal aja belum masuk  sampe sekarang  greget banget capek  nyurvey ehhh boong banget  disuruh hubungi cs tapi gak ada responn',\n",
              " 'saya telah mengikuti surveyon  setelah menyelesaikan beberapa survey ternyata tidak ribet seperti apk yang lain  cuma saran surveynya perlu diperbanyak lagi biar poinnya cepet banyak ',\n",
              " 'aplikasi surveyon ini sangat bagus    saya bisa meluangkan waktu untuk menjawab survey dan mendapatkan uang    terimakasih surveyon ',\n",
              " 'walaupun jarang dan kadang2 mendapatkan survei dan poinnya juga kecil   kita trimakasih aja setidaknya masih ada aplikasi yg tidak tipu2   saya sdh meraskan terbukti membayar pulsa telkomsel  luar biasa trimakasih superyon  jaya selalu semogga aplikasi ini berkah utk semua orang amin ',\n",
              " 'bagus  aplikasi nya asli membayar tapi sayangnya nomor yang mau diisi nya gk bisa diganti ya   harus nomer itu terus ',\n",
              " 'wiiiiih apk ini terbukti membayar loh sayang poinny gk bisa ke dana tpi lumayanlah udh dpt 30k poin sayang harus sabar nunggu survey ny yg agk lama ',\n",
              " 'terbaik  survei lancar apalagi pembayaran nya  lancar banget',\n",
              " 'aku udah dari 2021 pake aplikasi ini  walaupun kehitungnya baru beberapa bulan  yaaa lumayan lah dapet 30 ribuan  buat top up game bisa lahh wkwkw tapi ini bener bener sangat membantu loh walaupun emg surveinya suka jarang jarang  tapi cuma sama apk ini doang aku percaya wkwkw ga pindah pindah ',\n",
              " 'secara keseluruhan ok dan sdh beberapa kali widraw ke paypal  untuk kedepanya poin survei agar lebih besar lagi ya dan survei lebih sering supaya tidak terlalu lama untuk widraw ke paypal  sukses surveyon',\n",
              " 'wiiiiih apk ini terbukti membayar loh sayang poinny gk bisa ke dana tpi lumayanlah udh dpt 30k poin sayang harus sabar nunggu survey ny yg agk lama ',\n",
              " 'sampe lupa tidak pernah memberi ulasan dan rating  sebelumnya terima kasih buat tim surveyon sudah sering dapat pulsa  ya walaupun cuma pulsa 10k lumayan banget terbantu dengan survey surveynya  saran lebih perbanyak lagi survey surveynya',\n",
              " 'bagus  aplikasi nya asli membayar tapi sayangnya nomor yang mau diisi nya gk bisa diganti ya   harus nomer itu terus ',\n",
              " 'udah sangat baik  kan sekarang pengguna surveyon ini kak saran saya sebagai pengguna lama  kalau bisa tolong dong team surveyon yg sudah menyediakan survey tetapi tidak bisa terjawab semua alias hanya sampai dipertengahan saja contoh survey yg 5000 atau 6000   mohon dengan hormat untuk memberikan 1 4dari total nilai point survey trsebut misal 0 25 x5000 1250   trimakasih',\n",
              " 'terimakasih surveyon  walaupun poinnya tidak terlalu besar  dan tidak terlalu sering tapi kalau sabar bisa dapat  pulsa saya 10rb sudah masuk  harus menunggu sekitar 3 hari but gpp  terimakasih banyak',\n",
              " 'terimakasih surveyon  walaupun poinnya tidak terlalu besar  dan tidak terlalu sering tapi kalau sabar bisa dapat  pulsa saya 10rb sudah masuk  harus menunggu sekitar 3 hari but gpp  terimakasih banyak',\n",
              " 'kak tolong ini penjelasanya kenapa ko tiba tiba akun saya di nonaktifkan padahal saya tidak melakukan apa apa  orang padahal saya aja menggunakan aplikasi ini jarang',\n",
              " 'bagus banget meskipun survey nya jarang keluar  tapi hasilnya memuaskan dan mudah digunakan tidak seperti aplikasi lain seperti buzzbreek sih receh yang lama ngumpulin koin nya  dan kembangkan terus aplikasi ini agar lebih banyak penggunanya  dan yang bilang dapat poinnya kadang 200p ya nggak papa lah lagian gratis kok nggak di pungut biaya    ',\n",
              " 'bagus banget meskipun survey nya jarang keluar  tapi hasilnya memuaskan dan mudah digunakan tidak seperti aplikasi lain seperti buzzbreek sih receh yang lama ngumpulin koin nya  dan kembangkan terus aplikasi ini agar lebih banyak penggunanya  dan yang bilang dapat poinnya kadang 200p ya nggak papa lah lagian gratis kok nggak di pungut biaya    ',\n",
              " 'bagus banget apkx walaupun agak lama mendapatkan poin tak apa apa   namanya juga cari duit saya sudah buktikan dengan menarik 11 000poin ditukar ke dana 10k dan berhasil penarikannya  lebih seminggu',\n",
              " 'aku kasih bintang 5  karna memang sudah terbukti membayar 11 000 point di tukar uang digital dana 10 000 sayangnya survey nya sangat langka  apalagi dengan harga 1 survey dapat point nya dikit  mohon development untuk ngasih point nya gede  soalnya kan survey nya lama ',\n",
              " 'wiiiiih apk ini terbukti membayar loh sayang poinny gk bisa ke dana tpi lumayanlah udh dpt 30k poin sayang harus sabar nunggu survey ny yg agk lama ',\n",
              " 'sampe lupa tidak pernah memberi ulasan dan rating  sebelumnya terima kasih buat tim surveyon sudah sering dapat pulsa  ya walaupun cuma pulsa 10k lumayan banget terbantu dengan survey surveynya  saran lebih perbanyak lagi survey surveynya',\n",
              " 'survei nya mudah bayaran nya lumayan bisa cepat withdraw  mohon di perbaiki kadang suka tiba2 survei berhenti padahal sudah mau selesai dan tidak mendapat poin ',\n",
              " 'berkat surveyon  saya bisa menabung sedikit demi sedikit di paypall dan bisa withdraw kapanpun saya mau  selain itu saya mendapatkan insight baru mengenai produk produk baru',\n",
              " 'secara keseluruhan sudah bagus apk ini  saya gabung udah dari 2016 dan selalu landing kalau wd  hanya saja kalau bisa diturunin untuk nominal tukar poinnya  10 ribuanlah kalau bisa  dan untuk dompet penarikannya ditambahin  dana dan gopay  bank lokal  semoga ditanggapi dengan perubahan  trimakasih',\n",
              " 'sebenarnya ini apk bagus banget sekali survey langsung dapat banyak poin akan tetapi quickpoll sama acara nya gak bisa dibuka jadi gak bisa ikut event2',\n",
              " 'bagus  aplikasi nya asli membayar tapi sayangnya nomor yang mau diisi nya gk bisa diganti ya   harus nomer itu terus ',\n",
              " 'mengapa selalu muncul the connection has timed out saat buka lucky survey  padahal jaringan tidak ada masalah',\n",
              " 'oi kenapa waktu saya mau buka quickpoll selalu ada tulisan  the connection has timed out  padahal saya baru beli kuota cug  satu lagi kemarin ada survei baru  saya buka tuh survei lagi  ada tulisan  anda telah menyelesaikan survei  nyatanya saya baru buka apk surveyon dan poin yang saya dapatkan 0  sudah 2 bulan ini trs terjadi  sekarang poin yang saya punya cmn 2000rb karna banyaknya survei yang bernilai 0 poin  udah seneng dpt survei eh malah di php kan koncol',\n",
              " 'tanggal 30 3 2022 saya melakukan penukaran poin surveyon saya ke dalam bentuk  3 untuk dikirim ke akun paypal saya  tapi kenapa sampai saat saya ini uang tersebut belum masuk ke akun paypal saya        saya mohon agar segera di tanggapi   ',\n",
              " 'udah 1 minggu lebih nuker poin buat dapatin pulsa 10k  sampai saat ini ga ada masuknya tuh pulsa  aplikasi miskin  ampas',\n",
              " 'ada apa ya dengan surveyon  untuk menu acara dan quick survey tdk bisa dibuka  time out terus   sdh log out dan log in serta uninstal dan instal kembali tetep aja ga bisa  mohon segera di maintenance  terima kasih  ',\n",
              " 'setiap ada survey yang poinnya besar gak pernah bisa terjawab  selalu error   lama males  aplikasi gajeee',\n",
              " 'bintang 2 dulu pas ngisi survei tiba tiba eror aneh padahal jaringan lancar  dan untuk wd sendiri saya blom rasain semoga ',\n",
              " 'sangat sangat susah buat nyari survei  kalau ada yg mau download ni apss di sarankan buat sangat sangat sangat sabarrr karena bisa 1   2 bulan baru ada surbei',\n",
              " 'sangat sangat susah buat nyari survei  kalau ada yg mau download ni apss di sarankan buat sangat sangat sangat sabarrr karena bisa 1   2 bulan baru ada surbei',\n",
              " 'saya kasih bintang 3 dulu   karena setiap mau isi survey selalu aja ada kata  waktu otentikasi telah habis  kalau kata kata itu yang selalu muncul  bagaimana koin nya bertambah    saya akan menghapus aplikasi ini jika masih seperti itu  ',\n",
              " 'aplikasi gak guna masa hari ini saya mau isi survey nya katanya  the connection time out  padahal koneksi internet gue stabil     gw saranin buat yang baru tau nih aplikasi jangan didownload  pertama kalian pake sih aman  aja tapi lama  kalian bahkan ngerasain betapa jelek nya aplikasi ini ',\n",
              " 'beneran survey berbayar dan mudah penukaran poinnya  sayangnya ada beberapa survey yang sudah dijawab panjang lebar poinnya cuma dapat 200  kadang malah ga dapat sama sekali  sering juga sudah dijawab panjang lebar endingnya  maaf anda tidak memenuhi syarat mengikuti survey ini   kenapa ga dari awal deteksi pemenuhan syarat ikut survey nya  hadeww ',\n",
              " 'kadang dapet survey isi poin lebih banyak  semakin harus diisi semua  tiba tiba keluar sendiri tidak jelas karena kuota survei berakhir katanya  dapet kompensasi 10 point  ',\n",
              " 'setiap ada survey yang poinnya besar gak pernah bisa terjawab  selalu error   lama males  aplikasi gajeee',\n",
              " 'saya beri dua bintang duluh karena  survey nya kadang gak bisa di buka  dan biasanya muncul survey nya lamah banget   tapi benar menghasilkan uang karena saya pernah menarik rp 10 000 tolong di perbaiki dan di tamba survey nya jadi lumayan banyak terimakasih',\n",
              " 'bintang 2 dulu pas ngisi survei tiba tiba eror aneh padahal jaringan lancar  dan untuk wd sendiri saya blom rasain semoga ',\n",
              " 'untuk masalah survey nya tolong di perbaiki lagi sering ada kesalahan  baru mulai malah ada pemberitahuan  survey telah di selesai kan  padahal baru mau mulai  dan juga poin nya yg didapat kan juga tidak sesuai dengan yang tertera di survey  poin nya 4000p pas di selesaikan malah dapat 200p kan aneh',\n",
              " 'aplikasinya bagus  tapi kalau bisa tambah lebih banyak lagi ya surveinya agar tiap hari selalu ada  saya hanya telat beberapa menit sedikit tetapi tidak bisa mengikuti surveinya  ',\n",
              " 'kadang dapet survey isi poin lebih banyak  semakin harus diisi semua  tiba tiba keluar sendiri tidak jelas karena kuota survei berakhir katanya  dapet kompensasi 10 point  ',\n",
              " 'tgl 02 02 22 sy menukar 11 000 poin untuk pulsa telkomsel senilai 10 000  menunggu 9 hari pulsa tsb tidak ada masuk  sy coba komplen via email tgl 11 02 22  mendapatkan respon jawaban bahwa tgl 07 02 22 pulsa telah dikirimkan  namun kenyataannya sampai detik ini tgl 18 02 22 pulsa tsb tidak ada masuk  terkirim  hadeuhh aneh bin ajaib ya   tidak ada penyelesaian  jawaban dari management hanya seperti itu  kecewa banget    ',\n",
              " 'tolong perbaiki ada survei yg butuh mode dekstop untuk panel survei yg besar   terus ketika berganti mode dekstop malah keluar survei  klo ga ganti mode dekstop ga bisa lanjut   bro  bro  masih cacad nih aplikasi lu   ',\n",
              " 'aplikasi kucluk      cuma pas baru didownload doang kita dikasih survei dengan upah 2 154p  hari ke 2 ada survei upah 120p  hari ke3 zonk   dan seterusnya  survei masuk tpi gak ada isi  di klik langsung ada laporan  anda berhasil mengerjakan survei  tapi nilai poin gak brtambah  aplikasi ini nyari sebanyak mungkin para pen download  gak peduli yg download itu kesel apa kecewa  nah dari situ aplikasi ini nyari keuntungan  politik    bro    ',\n",
              " 'bintang 3 dulu deh   karna poin saya baru terkumpul 3 700 an  sangat lama untuk mendapatkan survei baru  kalau saja emang benar benar bisa ditarik uang digital   pulsa  saya akan menaikan ke bintang 5  tetapi hanya 1 masalah saja  tolong untuk mendapatkan survei nya jangan lama ',\n",
              " 'udah 1 minggu lebih nuker poin buat dapatin pulsa 10k  sampai saat ini ga ada masuknya tuh pulsa  aplikasi miskin  ampas',\n",
              " 'app nya membayar   sangat disayangkan ketika ngisi survey panjang ber puluh2 menit tapi pas di akhir bilang tidak sesuai   ngabisin batre doang   cuma dapet 200 poin hasil ngabisin batre 20 persen  ',\n",
              " 'aplikasi minta update  sudah diupdate tidak bisa terbuka dan muncul notifikasi update lagi  padahal saya sudah update  dah lah jadi males',\n",
              " 'oi kenapa waktu saya mau buka quickpoll selalu ada tulisan  the connection has timed out  padahal saya baru beli kuota cug  satu lagi kemarin ada survei baru  saya buka tuh survei lagi  ada tulisan  anda telah menyelesaikan survei  nyatanya saya baru buka apk surveyon dan poin yang saya dapatkan 0  sudah 2 bulan ini trs terjadi  sekarang poin yang saya punya cmn 2000rb karna banyaknya survei yang bernilai 0 poin  udah seneng dpt survei eh malah di php kan koncol',\n",
              " 'bintang 2 dulu pas ngisi survei tiba tiba eror aneh padahal jaringan lancar  dan untuk wd sendiri saya blom rasain semoga ',\n",
              " 'bukan penghasilan tiap hari   bukan tambah hasil   tapi mengunggu hasil   maaf sy out krn sama sama bukan kriteria  data pribadi yg sedalam dalamnya mohon jgn di sebarluaskan  itu data pengangguran  hehehe   terima kasih  ',\n",
              " 'tgl 02 02 22 sy menukar 11 000 poin untuk pulsa telkomsel senilai 10 000  menunggu 9 hari pulsa tsb tidak ada masuk  sy coba komplen via email tgl 11 02 22  mendapatkan respon jawaban bahwa tgl 07 02 22 pulsa telah dikirimkan  namun kenyataannya sampai detik ini tgl 18 02 22 pulsa tsb tidak ada masuk  terkirim  hadeuhh aneh bin ajaib ya   tidak ada penyelesaian  jawaban dari management hanya seperti itu  kecewa banget    ',\n",
              " 'bukan penghasilan tiap hari   bukan tambah hasil   tapi mengunggu hasil   maaf sy out krn sama sama bukan kriteria  data pribadi yg sedalam dalamnya mohon jgn di sebarluaskan  itu data pengangguran  hehehe   terima kasih  ',\n",
              " 'saya kasih bintang 3 dulu   karena setiap mau isi survey selalu aja ada kata  waktu otentikasi telah habis  kalau kata kata itu yang selalu muncul  bagaimana koin nya bertambah    saya akan menghapus aplikasi ini jika masih seperti itu  ',\n",
              " 'sangat sangat susah buat nyari survei  kalau ada yg mau download ni apss di sarankan buat sangat sangat sangat sabarrr karena bisa 1   2 bulan baru ada surbei',\n",
              " 'aplikasi minta update  sudah diupdate tidak bisa terbuka dan muncul notifikasi update lagi  padahal saya sudah update  dah lah jadi males',\n",
              " 'aplikasi kucluk      cuma pas baru didownload doang kita dikasih survei dengan upah 2 154p  hari ke 2 ada survei upah 120p  hari ke3 zonk   dan seterusnya  survei masuk tpi gak ada isi  di klik langsung ada laporan  anda berhasil mengerjakan survei  tapi nilai poin gak brtambah  aplikasi ini nyari sebanyak mungkin para pen download  gak peduli yg download itu kesel apa kecewa  nah dari situ aplikasi ini nyari keuntungan  politik    bro    ',\n",
              " 'setiap ada survey yang poinnya besar gak pernah bisa terjawab  selalu error   lama males  aplikasi gajeee',\n",
              " 'sangat sangat susah buat nyari survei  kalau ada yg mau download ni apss di sarankan buat sangat sangat sangat sabarrr karena bisa 1   2 bulan baru ada surbei',\n",
              " 'aplikasi minta update  sudah diupdate tidak bisa terbuka dan muncul notifikasi update lagi  padahal saya sudah update  dah lah jadi males',\n",
              " 'aplikasinya jadi error pas diupdate  gak bisa muncul quickpoll trus surveynya dikit  nanya cs bilangnya akun dibekukan krn menolak email dari surveyon  padahal gak pernah nolak email surveyon  aneh ',\n",
              " 'ada apa ya dengan surveyon  untuk menu acara dan quick survey tdk bisa dibuka  time out terus   sdh log out dan log in serta uninstal dan instal kembali tetep aja ga bisa  mohon segera di maintenance  terima kasih  ',\n",
              " 'oi kenapa waktu saya mau buka quickpoll selalu ada tulisan  the connection has timed out  padahal saya baru beli kuota cug  satu lagi kemarin ada survei baru  saya buka tuh survei lagi  ada tulisan  anda telah menyelesaikan survei  nyatanya saya baru buka apk surveyon dan poin yang saya dapatkan 0  sudah 2 bulan ini trs terjadi  sekarang poin yang saya punya cmn 2000rb karna banyaknya survei yang bernilai 0 poin  udah seneng dpt survei eh malah di php kan koncol',\n",
              " 'beneran survey berbayar dan mudah penukaran poinnya  sayangnya ada beberapa survey yang sudah dijawab panjang lebar poinnya cuma dapat 200  kadang malah ga dapat sama sekali  sering juga sudah dijawab panjang lebar endingnya  maaf anda tidak memenuhi syarat mengikuti survey ini   kenapa ga dari awal deteksi pemenuhan syarat ikut survey nya  hadeww ',\n",
              " 'oi kenapa waktu saya mau buka quickpoll selalu ada tulisan  the connection has timed out  padahal saya baru beli kuota cug  satu lagi kemarin ada survei baru  saya buka tuh survei lagi  ada tulisan  anda telah menyelesaikan survei  nyatanya saya baru buka apk surveyon dan poin yang saya dapatkan 0  sudah 2 bulan ini trs terjadi  sekarang poin yang saya punya cmn 2000rb karna banyaknya survei yang bernilai 0 poin  udah seneng dpt survei eh malah di php kan koncol',\n",
              " 'dibayar sih emang    tapi muncul surveynya bisa ampe 1 minggu 1x  blom lagi point yg didapet tuh kecil  trus yg paling parahnya  udh ngisi panjang lebar  tiba2 survey berhenti n point gagal didapet  pernah juga  udh ngisi smua kolom  tapi point gk nambah  payah sih ',\n",
              " 'ini sistem kerja nya bagaimana ya  misal disurvei nya tertulis 5000 poin eh pas ngerjain cm dpt 200 poin  uda gitu kadang ya ada tulisan  maaf anda tidak termasuk kriteria kami  jdi kriteria yg seperti apa yg kalian butuhkan jika bkn karna kami informasikan apa yg bisa kalian kumpulkan  pastinya ga adakan  lain kali diperjelas bagaimana sistem pembagian poin   kriteria apa yg sedang kalian cari',\n",
              " 'kasih bintang 3 dulu setiap ada survey dengan poin besar misalnya 5000 point dan 9000 poin baru jawab 3 pertanyaan pasti langsung selesai dan ada pemberitahuan survey telah penuh dan hanya dikasih 200 poin maksudnya apa ni ya survey on ',\n",
              " 'dibayar sih emang    tapi muncul surveynya bisa ampe 1 minggu 1x  blom lagi point yg didapet tuh kecil  trus yg paling parahnya  udh ngisi panjang lebar  tiba2 survey berhenti n point gagal didapet  pernah juga  udh ngisi smua kolom  tapi point gk nambah  payah sih ',\n",
              " 'aplikasi kucluk      cuma pas baru didownload doang kita dikasih survei dengan upah 2 154p  hari ke 2 ada survei upah 120p  hari ke3 zonk   dan seterusnya  survei masuk tpi gak ada isi  di klik langsung ada laporan  anda berhasil mengerjakan survei  tapi nilai poin gak brtambah  aplikasi ini nyari sebanyak mungkin para pen download  gak peduli yg download itu kesel apa kecewa  nah dari situ aplikasi ini nyari keuntungan  politik    bro    ',\n",
              " 'tolong perbaiki ada survei yg butuh mode dekstop untuk panel survei yg besar   terus ketika berganti mode dekstop malah keluar survei  klo ga ganti mode dekstop ga bisa lanjut   bro  bro  masih cacad nih aplikasi lu   ',\n",
              " 'saya beri dua bintang duluh karena  survey nya kadang gak bisa di buka  dan biasanya muncul survey nya lamah banget   tapi benar menghasilkan uang karena saya pernah menarik rp 10 000 tolong di perbaiki dan di tamba survey nya jadi lumayan banyak terimakasih',\n",
              " 'udah 1 minggu lebih nuker poin buat dapatin pulsa 10k  sampai saat ini ga ada masuknya tuh pulsa  aplikasi miskin  ampas',\n",
              " 'untuk masalah survey nya tolong di perbaiki lagi sering ada kesalahan  baru mulai malah ada pemberitahuan  survey telah di selesai kan  padahal baru mau mulai  dan juga poin nya yg didapat kan juga tidak sesuai dengan yang tertera di survey  poin nya 4000p pas di selesaikan malah dapat 200p kan aneh',\n",
              " 'dibayar sih emang    tapi muncul surveynya bisa ampe 1 minggu 1x  blom lagi point yg didapet tuh kecil  trus yg paling parahnya  udh ngisi panjang lebar  tiba2 survey berhenti n point gagal didapet  pernah juga  udh ngisi smua kolom  tapi point gk nambah  payah sih ',\n",
              " 'aplikasinya jadi error pas diupdate  gak bisa muncul quickpoll trus surveynya dikit  nanya cs bilangnya akun dibekukan krn menolak email dari surveyon  padahal gak pernah nolak email surveyon  aneh ',\n",
              " 'oi kenapa waktu saya mau buka quickpoll selalu ada tulisan  the connection has timed out  padahal saya baru beli kuota cug  satu lagi kemarin ada survei baru  saya buka tuh survei lagi  ada tulisan  anda telah menyelesaikan survei  nyatanya saya baru buka apk surveyon dan poin yang saya dapatkan 0  sudah 2 bulan ini trs terjadi  sekarang poin yang saya punya cmn 2000rb karna banyaknya survei yang bernilai 0 poin  udah seneng dpt survei eh malah di php kan koncol',\n",
              " 'aplikasi gak guna masa hari ini saya mau isi survey nya katanya  the connection time out  padahal koneksi internet gue stabil     gw saranin buat yang baru tau nih aplikasi jangan didownload  pertama kalian pake sih aman  aja tapi lama  kalian bahkan ngerasain betapa jelek nya aplikasi ini ',\n",
              " 'bintang 3 dulu deh   karna poin saya baru terkumpul 3 700 an  sangat lama untuk mendapatkan survei baru  kalau saja emang benar benar bisa ditarik uang digital   pulsa  saya akan menaikan ke bintang 5  tetapi hanya 1 masalah saja  tolong untuk mendapatkan survei nya jangan lama ',\n",
              " 'tgl 02 02 22 sy menukar 11 000 poin untuk pulsa telkomsel senilai 10 000  menunggu 9 hari pulsa tsb tidak ada masuk  sy coba komplen via email tgl 11 02 22  mendapatkan respon jawaban bahwa tgl 07 02 22 pulsa telah dikirimkan  namun kenyataannya sampai detik ini tgl 18 02 22 pulsa tsb tidak ada masuk  terkirim  hadeuhh aneh bin ajaib ya   tidak ada penyelesaian  jawaban dari management hanya seperti itu  kecewa banget    ',\n",
              " 'udah 1 minggu lebih nuker poin buat dapatin pulsa 10k  sampai saat ini ga ada masuknya tuh pulsa  aplikasi miskin  ampas',\n",
              " 'ada apa dengan jaringan internet saya padahal buka apapun bisa kebuka tapi giliran buka apk ini selalu gagal dan ada tulisan jaringan sedang eror coba lagi emang seberat itu kah apk ini               ',\n",
              " 'beri bintang 3 dulu  terakhir pakai tgl 12 02 2022 ketika masuk beranda ada notif periksa koneksi internet anda  padahal jaringan internetnya ada  sy coba masuk ke quickpoll lalu jawab pertanyaan bisa  ada point yg masuk  biasanya kalau di beranda tidak ada survey ya kosong gitu aja  g ada notif apa2  tapi hari ini setelah sy update mash tetap sama',\n",
              " 'sangat sangat susah buat nyari survei  kalau ada yg mau download ni apss di sarankan buat sangat sangat sangat sabarrr karena bisa 1   2 bulan baru ada surbei',\n",
              " 'untuk masalah survey nya tolong di perbaiki lagi sering ada kesalahan  baru mulai malah ada pemberitahuan  survey telah di selesai kan  padahal baru mau mulai  dan juga poin nya yg didapat kan juga tidak sesuai dengan yang tertera di survey  poin nya 4000p pas di selesaikan malah dapat 200p kan aneh',\n",
              " 'bintang 2 dulu pas ngisi survei tiba tiba eror aneh padahal jaringan lancar  dan untuk wd sendiri saya blom rasain semoga ',\n",
              " 'app nya membayar   sangat disayangkan ketika ngisi survey panjang ber puluh2 menit tapi pas di akhir bilang tidak sesuai   ngabisin batre doang   cuma dapet 200 poin hasil ngabisin batre 20 persen  ',\n",
              " 'aplikasi gak guna masa hari ini saya mau isi survey nya katanya  the connection time out  padahal koneksi internet gue stabil     gw saranin buat yang baru tau nih aplikasi jangan didownload  pertama kalian pake sih aman  aja tapi lama  kalian bahkan ngerasain betapa jelek nya aplikasi ini ',\n",
              " 'ada apa dengan jaringan internet saya padahal buka apapun bisa kebuka tapi giliran buka apk ini selalu gagal dan ada tulisan jaringan sedang eror coba lagi emang seberat itu kah apk ini               ',\n",
              " 'ini sistem kerja nya bagaimana ya  misal disurvei nya tertulis 5000 poin eh pas ngerjain cm dpt 200 poin  uda gitu kadang ya ada tulisan  maaf anda tidak termasuk kriteria kami  jdi kriteria yg seperti apa yg kalian butuhkan jika bkn karna kami informasikan apa yg bisa kalian kumpulkan  pastinya ga adakan  lain kali diperjelas bagaimana sistem pembagian poin   kriteria apa yg sedang kalian cari',\n",
              " 'tgl 02 02 22 sy menukar 11 000 poin untuk pulsa telkomsel senilai 10 000  menunggu 9 hari pulsa tsb tidak ada masuk  sy coba komplen via email tgl 11 02 22  mendapatkan respon jawaban bahwa tgl 07 02 22 pulsa telah dikirimkan  namun kenyataannya sampai detik ini tgl 18 02 22 pulsa tsb tidak ada masuk  terkirim  hadeuhh aneh bin ajaib ya   tidak ada penyelesaian  jawaban dari management hanya seperti itu  kecewa banget    ',\n",
              " 'setiap ada survey yang poinnya besar gak pernah bisa terjawab  selalu error   lama males  aplikasi gajeee',\n",
              " 'untuk masalah survey nya tolong di perbaiki lagi sering ada kesalahan  baru mulai malah ada pemberitahuan  survey telah di selesai kan  padahal baru mau mulai  dan juga poin nya yg didapat kan juga tidak sesuai dengan yang tertera di survey  poin nya 4000p pas di selesaikan malah dapat 200p kan aneh',\n",
              " 'kadang dapet survey isi poin lebih banyak  semakin harus diisi semua  tiba tiba keluar sendiri tidak jelas karena kuota survei berakhir katanya  dapet kompensasi 10 point  ',\n",
              " 'bintang 2 dulu pas ngisi survei tiba tiba eror aneh padahal jaringan lancar  dan untuk wd sendiri saya blom rasain semoga ',\n",
              " 'udah 1 minggu lebih nuker poin buat dapatin pulsa 10k  sampai saat ini ga ada masuknya tuh pulsa  aplikasi miskin  ampas',\n",
              " 'saya kasih bintang 3 dulu   karena setiap mau isi survey selalu aja ada kata  waktu otentikasi telah habis  kalau kata kata itu yang selalu muncul  bagaimana koin nya bertambah    saya akan menghapus aplikasi ini jika masih seperti itu  ',\n",
              " 'app nya membayar   sangat disayangkan ketika ngisi survey panjang ber puluh2 menit tapi pas di akhir bilang tidak sesuai   ngabisin batre doang   cuma dapet 200 poin hasil ngabisin batre 20 persen  ',\n",
              " 'tolong perbaiki ada survei yg butuh mode dekstop untuk panel survei yg besar   terus ketika berganti mode dekstop malah keluar survei  klo ga ganti mode dekstop ga bisa lanjut   bro  bro  masih cacad nih aplikasi lu   ',\n",
              " 'aplikasi kucluk      cuma pas baru didownload doang kita dikasih survei dengan upah 2 154p  hari ke 2 ada survei upah 120p  hari ke3 zonk   dan seterusnya  survei masuk tpi gak ada isi  di klik langsung ada laporan  anda berhasil mengerjakan survei  tapi nilai poin gak brtambah  aplikasi ini nyari sebanyak mungkin para pen download  gak peduli yg download itu kesel apa kecewa  nah dari situ aplikasi ini nyari keuntungan  politik    bro    ',\n",
              " 'akun saya di non aktifkan  padahal saya tidak melakukan apapun yg curang  dahlah emang hanya pengen data pribadi aplikasi j4ncok   ',\n",
              " 'aplikasinya bagus  tapi kalau bisa tambah lebih banyak lagi ya surveinya agar tiap hari selalu ada  saya hanya telat beberapa menit sedikit tetapi tidak bisa mengikuti surveinya  ',\n",
              " 'bintang 3 dulu deh   karna poin saya baru terkumpul 3 700 an  sangat lama untuk mendapatkan survei baru  kalau saja emang benar benar bisa ditarik uang digital   pulsa  saya akan menaikan ke bintang 5  tetapi hanya 1 masalah saja  tolong untuk mendapatkan survei nya jangan lama ',\n",
              " 'kasih bintang 3 dulu setiap ada survey dengan poin besar misalnya 5000 point dan 9000 poin baru jawab 3 pertanyaan pasti langsung selesai dan ada pemberitahuan survey telah penuh dan hanya dikasih 200 poin maksudnya apa ni ya survey on ',\n",
              " 'udah 1 minggu lebih nuker poin buat dapatin pulsa 10k  sampai saat ini ga ada masuknya tuh pulsa  aplikasi miskin  ampas',\n",
              " 'ada apa ya dengan surveyon  untuk menu acara dan quick survey tdk bisa dibuka  time out terus   sdh log out dan log in serta uninstal dan instal kembali tetep aja ga bisa  mohon segera di maintenance  terima kasih  ',\n",
              " 'jangan instal  akun saya dinonaktifkan secara sepihak  tidak ada pemberitahuan atau kesalahan apa yang saya lakukan  saya menggunakan aplikasi ini secara prosedural  tiba tiba dinonaktifkan   sudah capek capek ngumpulin point  uninstal buang waktu aja  ',\n",
              " 'tanggal 30 3 2022 saya melakukan penukaran poin surveyon saya ke dalam bentuk  3 untuk dikirim ke akun paypal saya  tapi kenapa sampai saat saya ini uang tersebut belum masuk ke akun paypal saya        saya mohon agar segera di tanggapi   ',\n",
              " 'udah 1 minggu lebih nuker poin buat dapatin pulsa 10k  sampai saat ini ga ada masuknya tuh pulsa  aplikasi miskin  ampas',\n",
              " 'setiap ada survey yang poinnya besar gak pernah bisa terjawab  selalu error   lama males  aplikasi gajeee',\n",
              " 'bukan penghasilan tiap hari   bukan tambah hasil   tapi mengunggu hasil   maaf sy out krn sama sama bukan kriteria  data pribadi yg sedalam dalamnya mohon jgn di sebarluaskan  itu data pengangguran  hehehe   terima kasih  ',\n",
              " 'aplikasi gak guna masa hari ini saya mau isi survey nya katanya  the connection time out  padahal koneksi internet gue stabil     gw saranin buat yang baru tau nih aplikasi jangan didownload  pertama kalian pake sih aman  aja tapi lama  kalian bahkan ngerasain betapa jelek nya aplikasi ini ',\n",
              " 'tanggal 30 3 2022 saya melakukan penukaran poin surveyon saya ke dalam bentuk  3 untuk dikirim ke akun paypal saya  tapi kenapa sampai saat saya ini uang tersebut belum masuk ke akun paypal saya        saya mohon agar segera di tanggapi   ',\n",
              " 'kasih bintang 3 dulu setiap ada survey dengan poin besar misalnya 5000 point dan 9000 poin baru jawab 3 pertanyaan pasti langsung selesai dan ada pemberitahuan survey telah penuh dan hanya dikasih 200 poin maksudnya apa ni ya survey on ',\n",
              " 'sangat sangat susah buat nyari survei  kalau ada yg mau download ni apss di sarankan buat sangat sangat sangat sabarrr karena bisa 1   2 bulan baru ada surbei',\n",
              " 'saya kasih bintang 3 dulu   karena setiap mau isi survey selalu aja ada kata  waktu otentikasi telah habis  kalau kata kata itu yang selalu muncul  bagaimana koin nya bertambah    saya akan menghapus aplikasi ini jika masih seperti itu  ',\n",
              " 'oi kenapa waktu saya mau buka quickpoll selalu ada tulisan  the connection has timed out  padahal saya baru beli kuota cug  satu lagi kemarin ada survei baru  saya buka tuh survei lagi  ada tulisan  anda telah menyelesaikan survei  nyatanya saya baru buka apk surveyon dan poin yang saya dapatkan 0  sudah 2 bulan ini trs terjadi  sekarang poin yang saya punya cmn 2000rb karna banyaknya survei yang bernilai 0 poin  udah seneng dpt survei eh malah di php kan koncol',\n",
              " 'untuk masalah survey nya tolong di perbaiki lagi sering ada kesalahan  baru mulai malah ada pemberitahuan  survey telah di selesai kan  padahal baru mau mulai  dan juga poin nya yg didapat kan juga tidak sesuai dengan yang tertera di survey  poin nya 4000p pas di selesaikan malah dapat 200p kan aneh',\n",
              " 'kasih bintang 3 dulu setiap ada survey dengan poin besar misalnya 5000 point dan 9000 poin baru jawab 3 pertanyaan pasti langsung selesai dan ada pemberitahuan survey telah penuh dan hanya dikasih 200 poin maksudnya apa ni ya survey on ',\n",
              " 'kasih bintang 3 dulu setiap ada survey dengan poin besar misalnya 5000 point dan 9000 poin baru jawab 3 pertanyaan pasti langsung selesai dan ada pemberitahuan survey telah penuh dan hanya dikasih 200 poin maksudnya apa ni ya survey on ',\n",
              " 'aplikasi minta update  sudah diupdate tidak bisa terbuka dan muncul notifikasi update lagi  padahal saya sudah update  dah lah jadi males',\n",
              " 'akun saya di non aktifkan  padahal saya tidak melakukan apapun yg curang  dahlah emang hanya pengen data pribadi aplikasi j4ncok   ',\n",
              " 'bintang 3 dulu deh   karna poin saya baru terkumpul 3 700 an  sangat lama untuk mendapatkan survei baru  kalau saja emang benar benar bisa ditarik uang digital   pulsa  saya akan menaikan ke bintang 5  tetapi hanya 1 masalah saja  tolong untuk mendapatkan survei nya jangan lama ']"
            ]
          },
          "execution_count": 48,
          "metadata": {},
          "output_type": "execute_result"
        }
      ],
      "source": [
        "review"
      ]
    },
    {
      "cell_type": "code",
      "execution_count": null,
      "metadata": {
        "colab": {
          "base_uri": "https://localhost:8080/"
        },
        "id": "jZgqDmHWPTpn",
        "outputId": "14470f2d-af4b-4ce0-a920-07bb635b340f"
      },
      "outputs": [
        {
          "name": "stdout",
          "output_type": "stream",
          "text": [
            "aplikasi nya bagus  membayarkan  tepat    waktu \n"
          ]
        }
      ],
      "source": [
        "from Sastrawi.StopWordRemover.StopWordRemoverFactory import StopWordRemoverFactory\n",
        " \n",
        "factory = StopWordRemoverFactory()\n",
        "stopword = factory.create_stop_word_remover()\n",
        " \n",
        "# Contoh\n",
        "sentence = 'aplikasi nya bagus dan  membayarkan  tepat    waktu '\n",
        "stop = stopword.remove(sentence)\n",
        "print(stop)"
      ]
    },
    {
      "cell_type": "markdown",
      "metadata": {
        "id": "87Rh8JqKVQQ5"
      },
      "source": [
        "Melakukan filtering (menghilangkan stopword)"
      ]
    },
    {
      "cell_type": "code",
      "execution_count": null,
      "metadata": {
        "colab": {
          "base_uri": "https://localhost:8080/",
          "height": 424
        },
        "id": "yswjE5FNPWT9",
        "outputId": "bcd8c052-7543-4d20-b6e5-b7ff75add745"
      },
      "outputs": [
        {
          "data": {
            "text/html": [
              "\n",
              "  <div id=\"df-88f1a06e-4f27-42e4-9818-77376244cc35\">\n",
              "    <div class=\"colab-df-container\">\n",
              "      <div>\n",
              "<style scoped>\n",
              "    .dataframe tbody tr th:only-of-type {\n",
              "        vertical-align: middle;\n",
              "    }\n",
              "\n",
              "    .dataframe tbody tr th {\n",
              "        vertical-align: top;\n",
              "    }\n",
              "\n",
              "    .dataframe thead th {\n",
              "        text-align: right;\n",
              "    }\n",
              "</style>\n",
              "<table border=\"1\" class=\"dataframe\">\n",
              "  <thead>\n",
              "    <tr style=\"text-align: right;\">\n",
              "      <th></th>\n",
              "      <th>content</th>\n",
              "      <th>label</th>\n",
              "    </tr>\n",
              "  </thead>\n",
              "  <tbody>\n",
              "    <tr>\n",
              "      <th>30</th>\n",
              "      <td>Aplikasi mantap..karna bisa saling melontarkan...</td>\n",
              "      <td>1</td>\n",
              "    </tr>\n",
              "    <tr>\n",
              "      <th>56</th>\n",
              "      <td>Nice app cuman penarikan sangat lama berbulan2...</td>\n",
              "      <td>1</td>\n",
              "    </tr>\n",
              "    <tr>\n",
              "      <th>67</th>\n",
              "      <td>Survei nya mudah bayaran nya lumayan cepat wit...</td>\n",
              "      <td>1</td>\n",
              "    </tr>\n",
              "    <tr>\n",
              "      <th>56</th>\n",
              "      <td>Nice app cuman penarikan sangat lama berbulan2...</td>\n",
              "      <td>1</td>\n",
              "    </tr>\n",
              "    <tr>\n",
              "      <th>95</th>\n",
              "      <td>Bagus, aplikasinya mudah pahami perbanyak surv...</td>\n",
              "      <td>1</td>\n",
              "    </tr>\n",
              "    <tr>\n",
              "      <th>...</th>\n",
              "      <td>...</td>\n",
              "      <td>...</td>\n",
              "    </tr>\n",
              "    <tr>\n",
              "      <th>94</th>\n",
              "      <td>Kasih bintang 3 dulu.Setiap survey poin besar,...</td>\n",
              "      <td>0</td>\n",
              "    </tr>\n",
              "    <tr>\n",
              "      <th>94</th>\n",
              "      <td>Kasih bintang 3 dulu.Setiap survey poin besar,...</td>\n",
              "      <td>0</td>\n",
              "    </tr>\n",
              "    <tr>\n",
              "      <th>82</th>\n",
              "      <td>Aplikasi minta update..sudah diupdate bisa ter...</td>\n",
              "      <td>0</td>\n",
              "    </tr>\n",
              "    <tr>\n",
              "      <th>49</th>\n",
              "      <td>Akun di non aktifkan, padahal tidak melakukan ...</td>\n",
              "      <td>0</td>\n",
              "    </tr>\n",
              "    <tr>\n",
              "      <th>62</th>\n",
              "      <td>Bintang 3 dulu deh 🙏🏻 ,karna Poin baru terkump...</td>\n",
              "      <td>0</td>\n",
              "    </tr>\n",
              "  </tbody>\n",
              "</table>\n",
              "<p>200 rows × 2 columns</p>\n",
              "</div>\n",
              "      <button class=\"colab-df-convert\" onclick=\"convertToInteractive('df-88f1a06e-4f27-42e4-9818-77376244cc35')\"\n",
              "              title=\"Convert this dataframe to an interactive table.\"\n",
              "              style=\"display:none;\">\n",
              "        \n",
              "  <svg xmlns=\"http://www.w3.org/2000/svg\" height=\"24px\"viewBox=\"0 0 24 24\"\n",
              "       width=\"24px\">\n",
              "    <path d=\"M0 0h24v24H0V0z\" fill=\"none\"/>\n",
              "    <path d=\"M18.56 5.44l.94 2.06.94-2.06 2.06-.94-2.06-.94-.94-2.06-.94 2.06-2.06.94zm-11 1L8.5 8.5l.94-2.06 2.06-.94-2.06-.94L8.5 2.5l-.94 2.06-2.06.94zm10 10l.94 2.06.94-2.06 2.06-.94-2.06-.94-.94-2.06-.94 2.06-2.06.94z\"/><path d=\"M17.41 7.96l-1.37-1.37c-.4-.4-.92-.59-1.43-.59-.52 0-1.04.2-1.43.59L10.3 9.45l-7.72 7.72c-.78.78-.78 2.05 0 2.83L4 21.41c.39.39.9.59 1.41.59.51 0 1.02-.2 1.41-.59l7.78-7.78 2.81-2.81c.8-.78.8-2.07 0-2.86zM5.41 20L4 18.59l7.72-7.72 1.47 1.35L5.41 20z\"/>\n",
              "  </svg>\n",
              "      </button>\n",
              "      \n",
              "  <style>\n",
              "    .colab-df-container {\n",
              "      display:flex;\n",
              "      flex-wrap:wrap;\n",
              "      gap: 12px;\n",
              "    }\n",
              "\n",
              "    .colab-df-convert {\n",
              "      background-color: #E8F0FE;\n",
              "      border: none;\n",
              "      border-radius: 50%;\n",
              "      cursor: pointer;\n",
              "      display: none;\n",
              "      fill: #1967D2;\n",
              "      height: 32px;\n",
              "      padding: 0 0 0 0;\n",
              "      width: 32px;\n",
              "    }\n",
              "\n",
              "    .colab-df-convert:hover {\n",
              "      background-color: #E2EBFA;\n",
              "      box-shadow: 0px 1px 2px rgba(60, 64, 67, 0.3), 0px 1px 3px 1px rgba(60, 64, 67, 0.15);\n",
              "      fill: #174EA6;\n",
              "    }\n",
              "\n",
              "    [theme=dark] .colab-df-convert {\n",
              "      background-color: #3B4455;\n",
              "      fill: #D2E3FC;\n",
              "    }\n",
              "\n",
              "    [theme=dark] .colab-df-convert:hover {\n",
              "      background-color: #434B5C;\n",
              "      box-shadow: 0px 1px 3px 1px rgba(0, 0, 0, 0.15);\n",
              "      filter: drop-shadow(0px 1px 2px rgba(0, 0, 0, 0.3));\n",
              "      fill: #FFFFFF;\n",
              "    }\n",
              "  </style>\n",
              "\n",
              "      <script>\n",
              "        const buttonEl =\n",
              "          document.querySelector('#df-88f1a06e-4f27-42e4-9818-77376244cc35 button.colab-df-convert');\n",
              "        buttonEl.style.display =\n",
              "          google.colab.kernel.accessAllowed ? 'block' : 'none';\n",
              "\n",
              "        async function convertToInteractive(key) {\n",
              "          const element = document.querySelector('#df-88f1a06e-4f27-42e4-9818-77376244cc35');\n",
              "          const dataTable =\n",
              "            await google.colab.kernel.invokeFunction('convertToInteractive',\n",
              "                                                     [key], {});\n",
              "          if (!dataTable) return;\n",
              "\n",
              "          const docLinkHtml = 'Like what you see? Visit the ' +\n",
              "            '<a target=\"_blank\" href=https://colab.research.google.com/notebooks/data_table.ipynb>data table notebook</a>'\n",
              "            + ' to learn more about interactive tables.';\n",
              "          element.innerHTML = '';\n",
              "          dataTable['output_type'] = 'display_data';\n",
              "          await google.colab.output.renderOutput(dataTable, element);\n",
              "          const docLink = document.createElement('div');\n",
              "          docLink.innerHTML = docLinkHtml;\n",
              "          element.appendChild(docLink);\n",
              "        }\n",
              "      </script>\n",
              "    </div>\n",
              "  </div>\n",
              "  "
            ],
            "text/plain": [
              "                                              content  label\n",
              "30  Aplikasi mantap..karna bisa saling melontarkan...      1\n",
              "56  Nice app cuman penarikan sangat lama berbulan2...      1\n",
              "67  Survei nya mudah bayaran nya lumayan cepat wit...      1\n",
              "56  Nice app cuman penarikan sangat lama berbulan2...      1\n",
              "95  Bagus, aplikasinya mudah pahami perbanyak surv...      1\n",
              "..                                                ...    ...\n",
              "94  Kasih bintang 3 dulu.Setiap survey poin besar,...      0\n",
              "94  Kasih bintang 3 dulu.Setiap survey poin besar,...      0\n",
              "82  Aplikasi minta update..sudah diupdate bisa ter...      0\n",
              "49  Akun di non aktifkan, padahal tidak melakukan ...      0\n",
              "62  Bintang 3 dulu deh 🙏🏻 ,karna Poin baru terkump...      0\n",
              "\n",
              "[200 rows x 2 columns]"
            ]
          },
          "execution_count": 50,
          "metadata": {},
          "output_type": "execute_result"
        }
      ],
      "source": [
        "review = []\n",
        "for index, row in sent_analys.iterrows():\n",
        "    review.append(stopword.remove(row['content']))\n",
        "\n",
        "\n",
        "sent_analys['content']=review\n",
        "sent_analys"
      ]
    },
    {
      "cell_type": "code",
      "execution_count": null,
      "metadata": {
        "colab": {
          "base_uri": "https://localhost:8080/"
        },
        "id": "T9pIVTLrPYuc",
        "outputId": "d5b5fd8a-4370-4de3-8b8f-445f619f5421"
      },
      "outputs": [
        {
          "name": "stdout",
          "output_type": "stream",
          "text": [
            "hasil bukti nya bayar tepat waktu\n"
          ]
        }
      ],
      "source": [
        "from Sastrawi.Stemmer.StemmerFactory import StemmerFactory\n",
        "factory = StemmerFactory()\n",
        "stemmer = factory.create_stemmer()\n",
        "\n",
        "# contoh\n",
        "sentence = 'hasil  bukti nya bayar   tepat waktu'\n",
        "s_clean = stemmer.stem(sentence)\n",
        " \n",
        "print(s_clean)"
      ]
    },
    {
      "cell_type": "code",
      "execution_count": null,
      "metadata": {
        "colab": {
          "base_uri": "https://localhost:8080/",
          "height": 441
        },
        "id": "OaHZxgI0Pj6O",
        "outputId": "0c1e7fda-5764-411b-d19b-9c3f41d9546c"
      },
      "outputs": [
        {
          "name": "stderr",
          "output_type": "stream",
          "text": [
            "200it [01:01,  3.26it/s]\n"
          ]
        },
        {
          "data": {
            "text/html": [
              "\n",
              "  <div id=\"df-8b1aee04-0b68-442d-9d8c-324ba777c196\">\n",
              "    <div class=\"colab-df-container\">\n",
              "      <div>\n",
              "<style scoped>\n",
              "    .dataframe tbody tr th:only-of-type {\n",
              "        vertical-align: middle;\n",
              "    }\n",
              "\n",
              "    .dataframe tbody tr th {\n",
              "        vertical-align: top;\n",
              "    }\n",
              "\n",
              "    .dataframe thead th {\n",
              "        text-align: right;\n",
              "    }\n",
              "</style>\n",
              "<table border=\"1\" class=\"dataframe\">\n",
              "  <thead>\n",
              "    <tr style=\"text-align: right;\">\n",
              "      <th></th>\n",
              "      <th>content</th>\n",
              "      <th>label</th>\n",
              "    </tr>\n",
              "  </thead>\n",
              "  <tbody>\n",
              "    <tr>\n",
              "      <th>30</th>\n",
              "      <td>aplikasi mantap karna bisa saling lontar tanya...</td>\n",
              "      <td>1</td>\n",
              "    </tr>\n",
              "    <tr>\n",
              "      <th>56</th>\n",
              "      <td>nice app cuman tari sangat lama berbulan2 surv...</td>\n",
              "      <td>1</td>\n",
              "    </tr>\n",
              "    <tr>\n",
              "      <th>67</th>\n",
              "      <td>survei nya mudah bayar nya lumayan cepat withd...</td>\n",
              "      <td>1</td>\n",
              "    </tr>\n",
              "    <tr>\n",
              "      <th>56</th>\n",
              "      <td>nice app cuman tari sangat lama berbulan2 surv...</td>\n",
              "      <td>1</td>\n",
              "    </tr>\n",
              "    <tr>\n",
              "      <th>95</th>\n",
              "      <td>bagus aplikasi mudah paham banyak survei hari</td>\n",
              "      <td>1</td>\n",
              "    </tr>\n",
              "    <tr>\n",
              "      <th>...</th>\n",
              "      <td>...</td>\n",
              "      <td>...</td>\n",
              "    </tr>\n",
              "    <tr>\n",
              "      <th>94</th>\n",
              "      <td>kasih bintang 3 dulu tiap survey poin besar mi...</td>\n",
              "      <td>0</td>\n",
              "    </tr>\n",
              "    <tr>\n",
              "      <th>94</th>\n",
              "      <td>kasih bintang 3 dulu tiap survey poin besar mi...</td>\n",
              "      <td>0</td>\n",
              "    </tr>\n",
              "    <tr>\n",
              "      <th>82</th>\n",
              "      <td>aplikasi minta update sudah diupdate bisa buka...</td>\n",
              "      <td>0</td>\n",
              "    </tr>\n",
              "    <tr>\n",
              "      <th>49</th>\n",
              "      <td>akun di non aktif padahal tidak laku apa yg cu...</td>\n",
              "      <td>0</td>\n",
              "    </tr>\n",
              "    <tr>\n",
              "      <th>62</th>\n",
              "      <td>bintang 3 dulu deh karna poin baru kumpul 3 70...</td>\n",
              "      <td>0</td>\n",
              "    </tr>\n",
              "  </tbody>\n",
              "</table>\n",
              "<p>200 rows × 2 columns</p>\n",
              "</div>\n",
              "      <button class=\"colab-df-convert\" onclick=\"convertToInteractive('df-8b1aee04-0b68-442d-9d8c-324ba777c196')\"\n",
              "              title=\"Convert this dataframe to an interactive table.\"\n",
              "              style=\"display:none;\">\n",
              "        \n",
              "  <svg xmlns=\"http://www.w3.org/2000/svg\" height=\"24px\"viewBox=\"0 0 24 24\"\n",
              "       width=\"24px\">\n",
              "    <path d=\"M0 0h24v24H0V0z\" fill=\"none\"/>\n",
              "    <path d=\"M18.56 5.44l.94 2.06.94-2.06 2.06-.94-2.06-.94-.94-2.06-.94 2.06-2.06.94zm-11 1L8.5 8.5l.94-2.06 2.06-.94-2.06-.94L8.5 2.5l-.94 2.06-2.06.94zm10 10l.94 2.06.94-2.06 2.06-.94-2.06-.94-.94-2.06-.94 2.06-2.06.94z\"/><path d=\"M17.41 7.96l-1.37-1.37c-.4-.4-.92-.59-1.43-.59-.52 0-1.04.2-1.43.59L10.3 9.45l-7.72 7.72c-.78.78-.78 2.05 0 2.83L4 21.41c.39.39.9.59 1.41.59.51 0 1.02-.2 1.41-.59l7.78-7.78 2.81-2.81c.8-.78.8-2.07 0-2.86zM5.41 20L4 18.59l7.72-7.72 1.47 1.35L5.41 20z\"/>\n",
              "  </svg>\n",
              "      </button>\n",
              "      \n",
              "  <style>\n",
              "    .colab-df-container {\n",
              "      display:flex;\n",
              "      flex-wrap:wrap;\n",
              "      gap: 12px;\n",
              "    }\n",
              "\n",
              "    .colab-df-convert {\n",
              "      background-color: #E8F0FE;\n",
              "      border: none;\n",
              "      border-radius: 50%;\n",
              "      cursor: pointer;\n",
              "      display: none;\n",
              "      fill: #1967D2;\n",
              "      height: 32px;\n",
              "      padding: 0 0 0 0;\n",
              "      width: 32px;\n",
              "    }\n",
              "\n",
              "    .colab-df-convert:hover {\n",
              "      background-color: #E2EBFA;\n",
              "      box-shadow: 0px 1px 2px rgba(60, 64, 67, 0.3), 0px 1px 3px 1px rgba(60, 64, 67, 0.15);\n",
              "      fill: #174EA6;\n",
              "    }\n",
              "\n",
              "    [theme=dark] .colab-df-convert {\n",
              "      background-color: #3B4455;\n",
              "      fill: #D2E3FC;\n",
              "    }\n",
              "\n",
              "    [theme=dark] .colab-df-convert:hover {\n",
              "      background-color: #434B5C;\n",
              "      box-shadow: 0px 1px 3px 1px rgba(0, 0, 0, 0.15);\n",
              "      filter: drop-shadow(0px 1px 2px rgba(0, 0, 0, 0.3));\n",
              "      fill: #FFFFFF;\n",
              "    }\n",
              "  </style>\n",
              "\n",
              "      <script>\n",
              "        const buttonEl =\n",
              "          document.querySelector('#df-8b1aee04-0b68-442d-9d8c-324ba777c196 button.colab-df-convert');\n",
              "        buttonEl.style.display =\n",
              "          google.colab.kernel.accessAllowed ? 'block' : 'none';\n",
              "\n",
              "        async function convertToInteractive(key) {\n",
              "          const element = document.querySelector('#df-8b1aee04-0b68-442d-9d8c-324ba777c196');\n",
              "          const dataTable =\n",
              "            await google.colab.kernel.invokeFunction('convertToInteractive',\n",
              "                                                     [key], {});\n",
              "          if (!dataTable) return;\n",
              "\n",
              "          const docLinkHtml = 'Like what you see? Visit the ' +\n",
              "            '<a target=\"_blank\" href=https://colab.research.google.com/notebooks/data_table.ipynb>data table notebook</a>'\n",
              "            + ' to learn more about interactive tables.';\n",
              "          element.innerHTML = '';\n",
              "          dataTable['output_type'] = 'display_data';\n",
              "          await google.colab.output.renderOutput(dataTable, element);\n",
              "          const docLink = document.createElement('div');\n",
              "          docLink.innerHTML = docLinkHtml;\n",
              "          element.appendChild(docLink);\n",
              "        }\n",
              "      </script>\n",
              "    </div>\n",
              "  </div>\n",
              "  "
            ],
            "text/plain": [
              "                                              content  label\n",
              "30  aplikasi mantap karna bisa saling lontar tanya...      1\n",
              "56  nice app cuman tari sangat lama berbulan2 surv...      1\n",
              "67  survei nya mudah bayar nya lumayan cepat withd...      1\n",
              "56  nice app cuman tari sangat lama berbulan2 surv...      1\n",
              "95      bagus aplikasi mudah paham banyak survei hari      1\n",
              "..                                                ...    ...\n",
              "94  kasih bintang 3 dulu tiap survey poin besar mi...      0\n",
              "94  kasih bintang 3 dulu tiap survey poin besar mi...      0\n",
              "82  aplikasi minta update sudah diupdate bisa buka...      0\n",
              "49  akun di non aktif padahal tidak laku apa yg cu...      0\n",
              "62  bintang 3 dulu deh karna poin baru kumpul 3 70...      0\n",
              "\n",
              "[200 rows x 2 columns]"
            ]
          },
          "execution_count": 52,
          "metadata": {},
          "output_type": "execute_result"
        }
      ],
      "source": [
        "from tqdm import tqdm\n",
        "review = []\n",
        "for index, row in tqdm(sent_analys.iterrows()):\n",
        "    review.append(stemmer.stem(row[\"content\"]))\n",
        "    \n",
        "sent_analys['content']=review\n",
        "sent_analys"
      ]
    },
    {
      "cell_type": "markdown",
      "metadata": {
        "id": "pzH6MX2LOAij"
      },
      "source": [
        "# **Modeling dengan Metode SVM**"
      ]
    },
    {
      "cell_type": "markdown",
      "metadata": {
        "id": "zbsYvg9If1ZI"
      },
      "source": [
        "Melakukan splitting data test dan train. Untuk data test sebesar 20% dan data train sebesar 80%."
      ]
    },
    {
      "cell_type": "code",
      "execution_count": null,
      "metadata": {
        "id": "pjtbdizyMSd-"
      },
      "outputs": [],
      "source": [
        "from sklearn.model_selection import train_test_split\n",
        "\n",
        "X_train, X_test, y_train, y_test = train_test_split(sent_analys['content'], sent_analys['label'], \n",
        "                                                    test_size=0.2, stratify=sent_analys['label'], random_state=30)"
      ]
    },
    {
      "cell_type": "code",
      "execution_count": null,
      "metadata": {
        "colab": {
          "base_uri": "https://localhost:8080/"
        },
        "id": "f3aoLb4U5msh",
        "outputId": "676aefe3-edd7-45ea-ded1-e140937e32c7"
      },
      "outputs": [
        {
          "data": {
            "text/plain": [
              "array([[0.        , 0.57735027, 0.        , 0.        , 0.        ,\n",
              "        0.        , 0.        , 0.57735027, 0.57735027],\n",
              "       [0.        , 0.        , 0.        , 0.57735027, 0.57735027,\n",
              "        0.        , 0.57735027, 0.        , 0.        ],\n",
              "       [0.57735027, 0.        , 0.57735027, 0.        , 0.        ,\n",
              "        0.57735027, 0.        , 0.        , 0.        ]])"
            ]
          },
          "execution_count": 54,
          "metadata": {},
          "output_type": "execute_result"
        }
      ],
      "source": [
        "from sklearn.feature_extraction.text import TfidfVectorizer\n",
        "\n",
        "corpus = [\n",
        "    'Bayar tepat waktu',\n",
        "    'Hasil survey menunggu',\n",
        "    'Aku sangat bosan']\n",
        "\n",
        "vectorizer = TfidfVectorizer()\n",
        "\n",
        "# contoh\n",
        "X = vectorizer.fit_transform(corpus)\n",
        "X.toarray()"
      ]
    },
    {
      "cell_type": "code",
      "execution_count": null,
      "metadata": {
        "colab": {
          "base_uri": "https://localhost:8080/"
        },
        "id": "x7LE3GO35oUh",
        "outputId": "c0e49ed0-ce10-4a4c-bcf1-c35255da1419"
      },
      "outputs": [
        {
          "name": "stdout",
          "output_type": "stream",
          "text": [
            "(160, 653)\n",
            "(40, 653)\n"
          ]
        }
      ],
      "source": [
        "X_train = vectorizer.fit_transform(X_train)\n",
        "X_test = vectorizer.transform(X_test)\n",
        "\n",
        "print(X_train.shape)\n",
        "print(X_test.shape)"
      ]
    },
    {
      "cell_type": "code",
      "execution_count": null,
      "metadata": {
        "id": "qAhZSKzcQCnD"
      },
      "outputs": [],
      "source": [
        "from sklearn import svm\n",
        "from sklearn.model_selection import cross_val_score\n",
        "\n",
        "clf = svm.SVC(kernel=\"linear\")"
      ]
    },
    {
      "cell_type": "code",
      "execution_count": null,
      "metadata": {
        "id": "5fj8WYf8QHgm"
      },
      "outputs": [],
      "source": [
        "clf.fit(X_train,y_train)\n",
        "predict = clf.predict(X_test)"
      ]
    },
    {
      "cell_type": "markdown",
      "metadata": {
        "id": "2Esf2zSZPYQI"
      },
      "source": [
        "# **Evaluation**"
      ]
    },
    {
      "cell_type": "code",
      "execution_count": null,
      "metadata": {
        "colab": {
          "base_uri": "https://localhost:8080/"
        },
        "id": "rmhrJuQ4PWGy",
        "outputId": "78f3b5ba-821d-406d-dd45-54960486e357"
      },
      "outputs": [
        {
          "name": "stdout",
          "output_type": "stream",
          "text": [
            "f1 score hasil prediksi adalah: \n",
            "0.9473684210526316\n",
            "accuracy score hasil prediksi adalah: \n",
            "0.95\n",
            "precision score hasil prediksi adalah: \n",
            "1.0\n",
            "recall score hasil prediksi adalah: \n",
            "0.9\n"
          ]
        }
      ],
      "source": [
        "from sklearn.metrics import f1_score, recall_score, precision_score, confusion_matrix, accuracy_score\n",
        "\n",
        "print(\"f1 score hasil prediksi adalah: \")\n",
        "print(f1_score(y_test, predict))\n",
        "\n",
        "# accuracy score\n",
        "print(\"accuracy score hasil prediksi adalah: \")\n",
        "print(accuracy_score(y_test, predict))\n",
        "\n",
        "# precision score\n",
        "print(\"precision score hasil prediksi adalah: \")\n",
        "print(precision_score(y_test, predict))\n",
        "\n",
        "# recall score\n",
        "print(\"recall score hasil prediksi adalah: \")\n",
        "print(recall_score(y_test, predict))"
      ]
    },
    {
      "cell_type": "markdown",
      "metadata": {
        "id": "Fw4AaSmdgj0N"
      },
      "source": [
        "Berdasarkan hasil evaluasi di atas, terlihat bahwa model yang dibuat memiliki F1 score sebesar 0.9473684210526316; akurasi sebesar 0.95; presisi sebesar 1; dan recall sebesar 0.9. Oleh karena itu dapat ditarik kesimpulan bahwa model tersebut sudah baik.\n",
        "***\n",
        "\n",
        "\n",
        "Hasil prediksi yang diperoleh kemudian disimpan dengan nama `hasil_prediksi_surveyon.txt`"
      ]
    },
    {
      "cell_type": "code",
      "execution_count": null,
      "metadata": {
        "id": "SOSCi6e6QNhb"
      },
      "outputs": [],
      "source": [
        "np.savetxt('/content/drive/MyDrive/Dataset/hasil_prediksi_surveyon.txt', predict, fmt='%i', delimiter='\\n')"
      ]
    },
    {
      "cell_type": "markdown",
      "metadata": {
        "id": "WDKDneh8ADKT"
      },
      "source": [
        "# **Uji Model (Menggunakan kata-kata baru)**"
      ]
    },
    {
      "cell_type": "code",
      "execution_count": null,
      "metadata": {
        "colab": {
          "base_uri": "https://localhost:8080/",
          "height": 206
        },
        "id": "zqA4_ohqQUh3",
        "outputId": "46983059-946b-4e74-8418-0fe397f0a3c6"
      },
      "outputs": [
        {
          "data": {
            "text/html": [
              "\n",
              "  <div id=\"df-6e216cf0-3e4c-4465-9a25-257c17da032c\">\n",
              "    <div class=\"colab-df-container\">\n",
              "      <div>\n",
              "<style scoped>\n",
              "    .dataframe tbody tr th:only-of-type {\n",
              "        vertical-align: middle;\n",
              "    }\n",
              "\n",
              "    .dataframe tbody tr th {\n",
              "        vertical-align: top;\n",
              "    }\n",
              "\n",
              "    .dataframe thead th {\n",
              "        text-align: right;\n",
              "    }\n",
              "</style>\n",
              "<table border=\"1\" class=\"dataframe\">\n",
              "  <thead>\n",
              "    <tr style=\"text-align: right;\">\n",
              "      <th></th>\n",
              "      <th>1</th>\n",
              "    </tr>\n",
              "  </thead>\n",
              "  <tbody>\n",
              "    <tr>\n",
              "      <th>0</th>\n",
              "      <td>1</td>\n",
              "    </tr>\n",
              "    <tr>\n",
              "      <th>1</th>\n",
              "      <td>0</td>\n",
              "    </tr>\n",
              "    <tr>\n",
              "      <th>2</th>\n",
              "      <td>1</td>\n",
              "    </tr>\n",
              "    <tr>\n",
              "      <th>3</th>\n",
              "      <td>1</td>\n",
              "    </tr>\n",
              "    <tr>\n",
              "      <th>4</th>\n",
              "      <td>1</td>\n",
              "    </tr>\n",
              "  </tbody>\n",
              "</table>\n",
              "</div>\n",
              "      <button class=\"colab-df-convert\" onclick=\"convertToInteractive('df-6e216cf0-3e4c-4465-9a25-257c17da032c')\"\n",
              "              title=\"Convert this dataframe to an interactive table.\"\n",
              "              style=\"display:none;\">\n",
              "        \n",
              "  <svg xmlns=\"http://www.w3.org/2000/svg\" height=\"24px\"viewBox=\"0 0 24 24\"\n",
              "       width=\"24px\">\n",
              "    <path d=\"M0 0h24v24H0V0z\" fill=\"none\"/>\n",
              "    <path d=\"M18.56 5.44l.94 2.06.94-2.06 2.06-.94-2.06-.94-.94-2.06-.94 2.06-2.06.94zm-11 1L8.5 8.5l.94-2.06 2.06-.94-2.06-.94L8.5 2.5l-.94 2.06-2.06.94zm10 10l.94 2.06.94-2.06 2.06-.94-2.06-.94-.94-2.06-.94 2.06-2.06.94z\"/><path d=\"M17.41 7.96l-1.37-1.37c-.4-.4-.92-.59-1.43-.59-.52 0-1.04.2-1.43.59L10.3 9.45l-7.72 7.72c-.78.78-.78 2.05 0 2.83L4 21.41c.39.39.9.59 1.41.59.51 0 1.02-.2 1.41-.59l7.78-7.78 2.81-2.81c.8-.78.8-2.07 0-2.86zM5.41 20L4 18.59l7.72-7.72 1.47 1.35L5.41 20z\"/>\n",
              "  </svg>\n",
              "      </button>\n",
              "      \n",
              "  <style>\n",
              "    .colab-df-container {\n",
              "      display:flex;\n",
              "      flex-wrap:wrap;\n",
              "      gap: 12px;\n",
              "    }\n",
              "\n",
              "    .colab-df-convert {\n",
              "      background-color: #E8F0FE;\n",
              "      border: none;\n",
              "      border-radius: 50%;\n",
              "      cursor: pointer;\n",
              "      display: none;\n",
              "      fill: #1967D2;\n",
              "      height: 32px;\n",
              "      padding: 0 0 0 0;\n",
              "      width: 32px;\n",
              "    }\n",
              "\n",
              "    .colab-df-convert:hover {\n",
              "      background-color: #E2EBFA;\n",
              "      box-shadow: 0px 1px 2px rgba(60, 64, 67, 0.3), 0px 1px 3px 1px rgba(60, 64, 67, 0.15);\n",
              "      fill: #174EA6;\n",
              "    }\n",
              "\n",
              "    [theme=dark] .colab-df-convert {\n",
              "      background-color: #3B4455;\n",
              "      fill: #D2E3FC;\n",
              "    }\n",
              "\n",
              "    [theme=dark] .colab-df-convert:hover {\n",
              "      background-color: #434B5C;\n",
              "      box-shadow: 0px 1px 3px 1px rgba(0, 0, 0, 0.15);\n",
              "      filter: drop-shadow(0px 1px 2px rgba(0, 0, 0, 0.3));\n",
              "      fill: #FFFFFF;\n",
              "    }\n",
              "  </style>\n",
              "\n",
              "      <script>\n",
              "        const buttonEl =\n",
              "          document.querySelector('#df-6e216cf0-3e4c-4465-9a25-257c17da032c button.colab-df-convert');\n",
              "        buttonEl.style.display =\n",
              "          google.colab.kernel.accessAllowed ? 'block' : 'none';\n",
              "\n",
              "        async function convertToInteractive(key) {\n",
              "          const element = document.querySelector('#df-6e216cf0-3e4c-4465-9a25-257c17da032c');\n",
              "          const dataTable =\n",
              "            await google.colab.kernel.invokeFunction('convertToInteractive',\n",
              "                                                     [key], {});\n",
              "          if (!dataTable) return;\n",
              "\n",
              "          const docLinkHtml = 'Like what you see? Visit the ' +\n",
              "            '<a target=\"_blank\" href=https://colab.research.google.com/notebooks/data_table.ipynb>data table notebook</a>'\n",
              "            + ' to learn more about interactive tables.';\n",
              "          element.innerHTML = '';\n",
              "          dataTable['output_type'] = 'display_data';\n",
              "          await google.colab.output.renderOutput(dataTable, element);\n",
              "          const docLink = document.createElement('div');\n",
              "          docLink.innerHTML = docLinkHtml;\n",
              "          element.appendChild(docLink);\n",
              "        }\n",
              "      </script>\n",
              "    </div>\n",
              "  </div>\n",
              "  "
            ],
            "text/plain": [
              "   1\n",
              "0  1\n",
              "1  0\n",
              "2  1\n",
              "3  1\n",
              "4  1"
            ]
          },
          "execution_count": 60,
          "metadata": {},
          "output_type": "execute_result"
        }
      ],
      "source": [
        "df_tes = pd.read_csv(r'/content/drive/MyDrive/Dataset/hasil_prediksi_surveyon.txt')\n",
        "df_tes.head()"
      ]
    },
    {
      "cell_type": "markdown",
      "metadata": {
        "id": "EprPVBGHhZgd"
      },
      "source": [
        "Mendefinisikan label 1 menjadi positif dan label 0 menjadi negatif."
      ]
    },
    {
      "cell_type": "code",
      "execution_count": null,
      "metadata": {
        "id": "l1CRgp49QW0D"
      },
      "outputs": [],
      "source": [
        "def prediksi_review(review):\n",
        "  result = clf.predict(vectorizer.transform([review]))\n",
        "  if result == 1:\n",
        "    return \"Positif\"\n",
        "  else:\n",
        "    return \"Negatif\""
      ]
    },
    {
      "cell_type": "code",
      "execution_count": null,
      "metadata": {
        "colab": {
          "base_uri": "https://localhost:8080/",
          "height": 35
        },
        "id": "2WOgDCOiQZAF",
        "outputId": "f244eda8-50f2-4c65-9b0c-d916a89dd38f"
      },
      "outputs": [
        {
          "data": {
            "application/vnd.google.colaboratory.intrinsic+json": {
              "type": "string"
            },
            "text/plain": [
              "'Negatif'"
            ]
          },
          "execution_count": 78,
          "metadata": {},
          "output_type": "execute_result"
        }
      ],
      "source": [
        "prediksi_review('Susah makenya, jangan download kalian!')"
      ]
    },
    {
      "cell_type": "code",
      "execution_count": null,
      "metadata": {
        "colab": {
          "base_uri": "https://localhost:8080/",
          "height": 35
        },
        "id": "R9be_blKQecs",
        "outputId": "ef3cd4cd-69cd-4770-e82a-04195bb39294"
      },
      "outputs": [
        {
          "data": {
            "application/vnd.google.colaboratory.intrinsic+json": {
              "type": "string"
            },
            "text/plain": [
              "'Positif'"
            ]
          },
          "execution_count": 63,
          "metadata": {},
          "output_type": "execute_result"
        }
      ],
      "source": [
        "prediksi_review('aplikasinya bagus, beneran membayar')"
      ]
    },
    {
      "cell_type": "markdown",
      "metadata": {
        "id": "9LxcO5JeSL39"
      },
      "source": [
        "# **Kesimpulan**\n",
        "\n",
        "Bedasarkan program yang telah dibuat, analisis sentimen terhadap review aplikasi Surveyon dapat digunakan untuk mengetahui sentimen dari penggunanya. Meskipun masih terdapat kata-kata yang memiliki makna ganda, tapi program ini sudah cukup baik untuk digunakan."
      ]
    }
  ],
  "metadata": {
    "colab": {
      "collapsed_sections": [],
      "name": "Mini Project NLP_Kelompok 15.ipynb",
      "provenance": []
    },
    "kernelspec": {
      "display_name": "Python 3",
      "name": "python3"
    },
    "language_info": {
      "name": "python"
    }
  },
  "nbformat": 4,
  "nbformat_minor": 0
}
